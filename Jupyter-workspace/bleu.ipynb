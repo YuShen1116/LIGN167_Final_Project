{
 "cells": [
  {
   "cell_type": "code",
   "execution_count": 1,
   "metadata": {
    "collapsed": true
   },
   "outputs": [],
   "source": [
    "import math\n",
    "\n",
    "def modified_precision(candidate, references, n):\n",
    "    count = 0\n",
    "    match_num = 0\n",
    "    len_c = len(candidate)\n",
    "    \n",
    "    for i in range(len_c):\n",
    "        ref_temp = []\n",
    "        for reference in references:\n",
    "            for k in range(len(reference)):\n",
    "                ref_sentence = reference[k]\n",
    "                words_ref_sentence = ref_sentence.strip()\n",
    "                words_ref_sentence = words_ref_sentence.split()\n",
    "                num_max = len(words_ref_sentence) - n + 1\n",
    "                ngram_temp = {}\n",
    "                for j in range(num_max):\n",
    "                    ngram = ' '.join(words_ref_sentence[j:j+n])\n",
    "                    ngram = ngram.lower()\n",
    "                    if ngram in ngram_temp.keys():\n",
    "                        ngram_temp[ngram] += 1\n",
    "                    else:\n",
    "                        ngram_temp[ngram] = 1\n",
    "                ref_temp.append(ngram_temp)\n",
    "            \n",
    "        cand_sentence = candidate[i]\n",
    "        words_cand = cand_sentence.strip()\n",
    "        words_cand = words_cand.split()\n",
    "        num_max_cand = len(words_cand) - n + 1\n",
    "        cand_temp = {}\n",
    "        for j in range(num_max_cand):\n",
    "            ngram = ' '.join(words_cand[j:j+n])\n",
    "            ngram = ngram.lower()\n",
    "            if ngram in cand_temp.keys():\n",
    "                cand_temp[ngram] += 1\n",
    "            else:\n",
    "                cand_temp[ngram] = 1\n",
    "        count += num_max_cand\n",
    "        match_num += match_counts(ref_temp, cand_temp)\n",
    "    if match_num != 0:\n",
    "        p = 1. * match_num / count\n",
    "    else:\n",
    "        p = 0\n",
    "    return p\n",
    "\n",
    "def match_counts(ref_counts, cand_temp):\n",
    "    num = 0\n",
    "    for ngram in cand_temp.keys():\n",
    "        count = cand_temp[ngram]\n",
    "        max_ref = 0\n",
    "        for ref in ref_counts:\n",
    "            if ngram in ref:\n",
    "                max_ref = max(max_ref, ref[ngram])\n",
    "        count = min(max_ref, count)\n",
    "        num = num + count\n",
    "    return num\n",
    "\n",
    "def brevity_penalty(candidate, references):\n",
    "    len_c = len(candidate)\n",
    "    r = 0\n",
    "    c = 0\n",
    "    for i in range(len_c):\n",
    "        ref_lens = []\n",
    "        for reference in references:\n",
    "            for k in range(len(reference)):\n",
    "                ref_sentence = reference[k]\n",
    "                words_ref_sentence = ref_sentence.strip()\n",
    "                words_ref_sentence = words_ref_sentence.split()\n",
    "                ref_lens.append(len(words_ref_sentence))\n",
    "        cand_sentence = candidate[i]\n",
    "        words_cand = cand_sentence.strip().split()\n",
    "        init_len_diff = abs(len(words_cand)-ref_lens[0])\n",
    "        best = ref_lens[0]\n",
    "        for num in ref_lens:\n",
    "            if (abs(len(words_cand)-num)) < init_len_diff:\n",
    "                init_len_diff = abs(len(words_cand) - num)\n",
    "                best = num\n",
    "        r = r + best\n",
    "        c = c + len(words_cand)\n",
    "    if c > r:\n",
    "        bp = 1\n",
    "    else:\n",
    "        bp = math.exp(1 - 1. * r / c)\n",
    "    return bp\n",
    "\n",
    "def bleu(candidate, references, n):\n",
    "    # n is the maximum length of each ngram you set \n",
    "    weight = 1./n\n",
    "    temp = 0\n",
    "    for i in range(n):\n",
    "        p = modified_precision(candidate, references, i + 1)\n",
    "        temp += math.log(p) * weight\n",
    "    temp = math.exp(temp)\n",
    "    return brevity_penalty(candidate, references) * temp"
   ]
  },
  {
   "cell_type": "code",
   "execution_count": 2,
   "metadata": {},
   "outputs": [
    {
     "name": "stdout",
     "output_type": "stream",
     "text": [
      "0.5045666840058485\n"
     ]
    }
   ],
   "source": [
    "#test\n",
    "#candidate1 = ['It is a guide to action which ensures that the military always obeys the commands of the party']\n",
    "#\n",
    "#reference1 = ['It is a guide to action that ensures that the military will forever heed Party commands ']\n",
    "#\n",
    "#reference2 = ['It is the guiding principle which guarantees the military forces always being under the command of the Party ']\n",
    "#\n",
    "#reference3 = ['It is the practical guide for the army always to heed the directions of the party']\n",
    "#\n",
    "#\n",
    "#print(bleu(candidate1, [reference1, reference2, reference3], 4))"
   ]
  },
  {
   "cell_type": "code",
   "execution_count": null,
   "metadata": {
    "collapsed": true
   },
   "outputs": [],
   "source": []
  }
 ],
 "metadata": {
  "kernelspec": {
   "display_name": "Python 3",
   "language": "python",
   "name": "python3"
  },
  "language_info": {
   "codemirror_mode": {
    "name": "ipython",
    "version": 3
   },
   "file_extension": ".py",
   "mimetype": "text/x-python",
   "name": "python",
   "nbconvert_exporter": "python",
   "pygments_lexer": "ipython3",
   "version": "3.6.7"
  }
 },
 "nbformat": 4,
 "nbformat_minor": 2
}
