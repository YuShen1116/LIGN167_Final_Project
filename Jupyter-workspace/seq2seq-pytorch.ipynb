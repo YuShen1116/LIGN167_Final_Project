{
 "cells": [
  {
   "cell_type": "code",
   "execution_count": 1,
   "metadata": {},
   "outputs": [],
   "source": [
    "from __future__ import unicode_literals, print_function, division\n",
    "\n",
    "# import basic lib\n",
    "import re\n",
    "import math\n",
    "import random\n",
    "import string\n",
    "import unicodedata\n",
    "import numpy as np\n",
    "from io import open\n",
    "\n",
    "# import pytorch\n",
    "import torch\n",
    "import torch.nn as nn\n",
    "import torch.nn.functional as F\n",
    "\n",
    "from torch import optim\n",
    "from torch.autograd import Variable\n",
    "from torch.nn.utils import clip_grad_norm_\n",
    "\n",
    "# import helper function\n",
    "import masked_cross_entropy\n",
    "from infer_eval import bleu\n",
    "\n",
    "# check device\n",
    "device = torch.device(\"cuda\" if torch.cuda.is_available() else \"cpu\")"
   ]
  },
  {
   "cell_type": "code",
   "execution_count": 2,
   "metadata": {},
   "outputs": [],
   "source": [
    "SOS_idx = 0\n",
    "EOS_idx = 1\n",
    "UNK_idx = 2\n",
    "PAD_idx = 3\n",
    "\n",
    "USE_CUDA = True\n",
    "\n",
    "class Preprocessor:\n",
    "    '''\n",
    "    class for preprocessing\n",
    "    '''\n",
    "    def __init__(self, name):\n",
    "        '''\n",
    "        initialize vocab and counter\n",
    "        '''\n",
    "        self.name = name\n",
    "        self.w2idx = {\"<sos>\" : 0, \"<eos>\" : 1, \"<unk>\" : 2, \"<pad>\" : 3}\n",
    "        self.counter = {}\n",
    "        self.idx2w = {0: \"<sos>\", 1: \"<eos>\", 2:\"<unk>\", 3:\"<pad>\"}\n",
    "        self.num = 4\n",
    "\n",
    "    def SentenceAdder(self, sentence):\n",
    "        '''\n",
    "        Add a sentence to dataset\n",
    "        '''\n",
    "        for word in sentence.split(' '):\n",
    "            self.WordAdder(word)\n",
    "\n",
    "    def WordAdder(self, word):\n",
    "        '''\n",
    "        Add single word to dataset and update vocab and counter\n",
    "        '''\n",
    "        if word in self.w2idx:\n",
    "            self.counter[word] += 1\n",
    "        else:\n",
    "            self.w2idx[word] = self.num\n",
    "            self.counter[word] = 1\n",
    "            self.idx2w[self.num] = word\n",
    "            self.num += 1\n",
    "            \n",
    "    def trim(self, min_count=1):\n",
    "        '''\n",
    "        Trim to remove non-frequent word\n",
    "        '''\n",
    "        keep = []\n",
    "        for k, v in self.counter.items():\n",
    "            if v >= min_count: keep.append(k)\n",
    "        print(self.name+':')\n",
    "        print('Total words', len(self.w2idx))\n",
    "        print('After Trimming', len(keep))\n",
    "        print('Keep Ratio %', 100 * len(keep) / len(self.w2idx))\n",
    "        self.w2idx = {\"<sos>\" : 0, \"<eos>\" : 1, \"<unk>\" : 2, \"<pad>\" : 3}\n",
    "        self.counter = {}\n",
    "        self.idx2w = {0: \"<sos>\", 1: \"<eos>\", 2:\"<unk>\", 3:\"<pad>\"}\n",
    "        self.num = 4\n",
    "        for w in keep:\n",
    "            self.WordAdder(w)"
   ]
  },
  {
   "cell_type": "code",
   "execution_count": 3,
   "metadata": {},
   "outputs": [],
   "source": [
    "def Uni2Ascii(s):\n",
    "    '''\n",
    "    transfer from unicode to ascii\n",
    "    '''\n",
    "    return ''.join(c for c in unicodedata.normalize('NFD', s)\n",
    "                    if unicodedata.category(c) != 'Mn')\n",
    "\n",
    "def StrCleaner(s):\n",
    "    '''\n",
    "    trim, delete non-letter and lowercase string\n",
    "    '''\n",
    "    s = Uni2Ascii(s.lower().strip())\n",
    "    s = re.sub(r\"([.!?])\", r\" \\1\", s)\n",
    "    s = re.sub(r\"[^a-zA-Z.!?]+\", r\" \", s)\n",
    "    return s\n",
    "\n",
    "def DataReader(path, lang1, lang2, reverse=False):\n",
    "    print(\"Reading lines...\")\n",
    "\n",
    "    # Read the file and split into lines\n",
    "    lines = open(path, encoding='utf-8').\\\n",
    "        read().strip().split('\\n')\n",
    "\n",
    "    # Split every line into pairs and normalize\n",
    "    #pairs = [[StrCleaner(s) for s in l.split('<------>')] for l in lines]\n",
    "    pairs = [[s.lower() for s in l.split('<------>')] for l in lines]\n",
    "\n",
    "    # Reverse pairs, make Lang instances\n",
    "    if reverse:\n",
    "        pairs = [list(reversed(p)) for p in pairs]\n",
    "        input_lang = Preprocessor(lang2)\n",
    "        output_lang = Preprocessor(lang1)\n",
    "    else:\n",
    "        input_lang = Preprocessor(lang1)\n",
    "        output_lang = Preprocessor(lang2)\n",
    "\n",
    "    return input_lang, output_lang, pairs"
   ]
  },
  {
   "cell_type": "code",
   "execution_count": 4,
   "metadata": {},
   "outputs": [],
   "source": [
    "MIN_LENGTH = 3\n",
    "MAX_LENGTH = 50\n",
    "\n",
    "def filterPair(p):\n",
    "    '''\n",
    "    Filter to get expected pairs with specific length\n",
    "    '''\n",
    "    return MIN_LENGTH <= len(p[0].split(' ')) <= MAX_LENGTH and \\\n",
    "        MIN_LENGTH <= len(p[1].split(' ')) < MAX_LENGTH\n",
    "\n",
    "def filterPairs(pairs):\n",
    "    return [pair for pair in pairs if filterPair(pair)]"
   ]
  },
  {
   "cell_type": "code",
   "execution_count": 5,
   "metadata": {},
   "outputs": [
    {
     "name": "stdout",
     "output_type": "stream",
     "text": [
      "Reading lines...\n",
      "Read 90000 sentence pairs\n",
      "Trimmed to 77083 sentence pairs\n",
      "Counting words...\n",
      "Counted words:\n",
      "chinese 46064\n",
      "english 30499\n",
      "chinese:\n",
      "Total words 46064\n",
      "After Trimming 46060\n",
      "Keep Ratio % 99.99131642931573\n",
      "english:\n",
      "Total words 30499\n",
      "After Trimming 30495\n",
      "Keep Ratio % 99.9868848158956\n",
      "['而 对外贸易 的 增长 , 必将 带动 香港 航运 业 的 持续 兴旺 .', \"and when foreign trade increases , hong kong 's shipping industry too will continue to prosper .\"]\n"
     ]
    }
   ],
   "source": [
    "def prepareData(path, lang1, lang2, reverse=True):\n",
    "    input_lang, output_lang, pairs = DataReader(path, lang1, lang2, reverse)\n",
    "    print(\"Read %s sentence pairs\" % len(pairs))\n",
    "    pairs = filterPairs(pairs)\n",
    "    print(\"Trimmed to %s sentence pairs\" % len(pairs))\n",
    "    print(\"Counting words...\")\n",
    "    for pair in pairs:\n",
    "        input_lang.SentenceAdder(pair[0])\n",
    "        output_lang.SentenceAdder(pair[1])\n",
    "    print(\"Counted words:\")\n",
    "    print(input_lang.name, input_lang.num)\n",
    "    print(output_lang.name, output_lang.num)\n",
    "    return input_lang, output_lang, pairs\n",
    "\n",
    "\n",
    "src, tgt, pairs = prepareData('data/train.txt', 'english', 'chinese')\n",
    "src.trim()\n",
    "tgt.trim()\n",
    "print(random.choice(pairs))"
   ]
  },
  {
   "cell_type": "code",
   "execution_count": 6,
   "metadata": {},
   "outputs": [
    {
     "name": "stdout",
     "output_type": "stream",
     "text": [
      "Reading lines...\n",
      "Read 10000 sentence pairs\n",
      "Trimmed to 8572 sentence pairs\n",
      "Counting words...\n",
      "Counted words:\n",
      "chinese 17294\n",
      "english 13049\n",
      "chinese:\n",
      "Total words 17294\n",
      "After Trimming 17290\n",
      "Keep Ratio % 99.9768705909564\n",
      "english:\n",
      "Total words 13049\n",
      "After Trimming 13045\n",
      "Keep Ratio % 99.96934631006208\n",
      "['这个 问题 一直 萦绕 中国 学者 专家 的 脑海 之中 .', 'this question has all along been lingering in the minds of chinese scholars and experts .']\n"
     ]
    }
   ],
   "source": [
    "test_src, test_tgt, test_pairs = prepareData('data/test.txt', 'english', 'chinese')\n",
    "test_src.trim()\n",
    "test_tgt.trim()\n",
    "print(random.choice(test_pairs))\n",
    "test_src.w2idx, test_src.idx2w, test_src.num = src.w2idx, src.idx2w, src.num\n",
    "test_tgt.w2idx, test_tgt.idx2w, test_tgt.num = tgt.w2idx, tgt.idx2w, tgt.num\n",
    "test_pairs.sort(key=lambda x: len(x[0].split()))"
   ]
  },
  {
   "cell_type": "code",
   "execution_count": 7,
   "metadata": {},
   "outputs": [],
   "source": [
    "def sentence2idx(preprocessor, sentence):\n",
    "    '''\n",
    "    Read sentence and translate into word index plus eos\n",
    "    '''\n",
    "    return [SOS_idx] + [preprocessor.w2idx[w] if w in preprocessor.w2idx \\\n",
    "            else UNK_idx for w in sentence.split(' ')] + [EOS_idx]\n",
    "\n",
    "def pad(seq, max_len):\n",
    "    '''\n",
    "    Add padding to sentence with different length\n",
    "    '''\n",
    "    seq += [PAD_idx for i in range(max_len - len(seq))]\n",
    "    return seq\n",
    "\n",
    "def random_batch(src, tgt, pairs, batch_size, batch_idx):\n",
    "    '''\n",
    "    Randomly generate batch data\n",
    "    '''\n",
    "    inputs, target = [], []\n",
    "    \n",
    "    # Choose batch\n",
    "    for s in pairs[batch_idx*batch_size:(batch_idx+1)*batch_size]:\n",
    "        inputs.append(sentence2idx(src, s[0]))\n",
    "        target.append(sentence2idx(tgt, s[1]))\n",
    "        \n",
    "    # Sort by length\n",
    "    seq_pairs = sorted(zip(inputs, target), key=lambda p: len(p[0]), reverse=True)\n",
    "    inputs, target = zip(*seq_pairs)\n",
    "    \n",
    "    # Obtain length of each sentence and pad\n",
    "    input_lens = [len(s) for s in inputs]\n",
    "    input_max = max(input_lens)\n",
    "    input_padded = [pad(s, input_max) for s in inputs]\n",
    "    target_lens = [len(s) for s in target]\n",
    "    target_max = max(target_lens)\n",
    "    target_padded = [pad(s, target_max) for s in target]\n",
    "\n",
    "    # Create Variable\n",
    "    if USE_CUDA:\n",
    "        input_vars = Variable(torch.LongTensor(input_padded).cuda()).transpose(0, 1)\n",
    "        input_lens = Variable(torch.LongTensor(input_lens).cuda())\n",
    "        target_vars = Variable(torch.LongTensor(target_padded).cuda()).transpose(0, 1)\n",
    "        target_lens = Variable(torch.LongTensor(target_lens).cuda())\n",
    "    else:\n",
    "        input_vars = Variable(torch.LongTensor(input_padded)).transpose(0, 1)\n",
    "        input_lens = Variable(torch.LongTensor(input_lens))\n",
    "        target_vars = Variable(torch.LongTensor(target_padded)).transpose(0, 1)\n",
    "        target_lens = Variable(torch.LongTensor(target_lens))\n",
    "\n",
    "    return input_vars, input_lens, target_vars, target_lens\n",
    "\n",
    "def user_input(inputs, src):\n",
    "    inp_list = [sentence2idx(src, inputs)]\n",
    "    input_lens = [len(s) for s in inp_list]\n",
    "    input_max = max(input_lens)\n",
    "    input_padded = [pad(s, input_max) for s in inp_list]\n",
    "    if USE_CUDA:\n",
    "        input_vars = Variable(torch.LongTensor(input_padded).cuda()).transpose(0, 1)\n",
    "        input_lens = Variable(torch.LongTensor(input_lens).cuda())\n",
    "    else:\n",
    "        input_vars = Variable(torch.LongTensor(input_padded)).transpose(0, 1)\n",
    "        input_lens = Variable(torch.LongTensor(input_lens))\n",
    "    return input_vars, input_lens"
   ]
  },
  {
   "cell_type": "code",
   "execution_count": 8,
   "metadata": {},
   "outputs": [],
   "source": [
    "class Encoder(nn.Module):\n",
    "    '''\n",
    "    Define encoder and forward process\n",
    "    '''\n",
    "    def __init__(self, dim_input, dim_embed, dim_hidden, num_layers, dropout):\n",
    "        super(Encoder, self).__init__()\n",
    "        self.dim_input = dim_input\n",
    "        self.dim_hidden = dim_hidden\n",
    "        self.dim_embed = dim_embed\n",
    "        self.embed = nn.Embedding(dim_input, dim_embed)\n",
    "        self.cell = nn.GRU(dim_embed, dim_hidden, \n",
    "                          num_layers, dropout=dropout, \n",
    "                          bidirectional=True)\n",
    "        \n",
    "    def init_hidden(self):\n",
    "        if USE_CUDA:\n",
    "            return Variable(torch.zeros(self.n_layers, 1, self.hidden_size).cuda())\n",
    "        else:\n",
    "            return Variable(torch.zeros(self.n_layers, 1, self.hidden_size))\n",
    "        \n",
    "    def forward(self, inputs, inputs_lens, hidden=None):\n",
    "        '''\n",
    "        We need to sum the outputs since bi-diretional is used\n",
    "        '''\n",
    "        embedded = self.embed(inputs)\n",
    "        packed = nn.utils.rnn.pack_padded_sequence(embedded, inputs_lens)\n",
    "        outputs, hidden = self.cell(packed, hidden)\n",
    "        outputs, output_lengths = nn.utils.rnn.pad_packed_sequence(outputs)\n",
    "        outputs = outputs[:, :, :self.dim_hidden] + \\\n",
    "                    outputs[:, :, self.dim_hidden:]\n",
    "        return outputs, hidden\n",
    "\n",
    "\n",
    "class Attention(nn.Module):\n",
    "    '''\n",
    "    Define attention mechanism\n",
    "    '''\n",
    "    def __init__(self, dim_hidden):\n",
    "        super(Attention, self).__init__()\n",
    "        self.dim_hidden = dim_hidden\n",
    "        # 2*dim_hidden is needed since bi-direction is used\n",
    "        self.attn = nn.Linear(2*self.dim_hidden, dim_hidden)\n",
    "        self.v = nn.Parameter(torch.rand(dim_hidden))\n",
    "        stdv = 1. / math.sqrt(self.v.size(0))\n",
    "        self.v.data.uniform_(-stdv, stdv)\n",
    "\n",
    "    def forward(self, hidden, encoder_outputs):\n",
    "        timestep = encoder_outputs.size(0)\n",
    "        h = hidden.repeat(timestep, 1, 1).transpose(0, 1)\n",
    "        encoder_outputs = encoder_outputs.transpose(0, 1)\n",
    "        scores = self.score(h, encoder_outputs)\n",
    "        return F.relu(scores).unsqueeze(1)\n",
    "\n",
    "    def score(self, hidden, encoder_outputs):\n",
    "        e = F.softmax(self.attn(torch.cat([hidden, encoder_outputs], 2)),dim=1)\n",
    "        e = e.transpose(1, 2)\n",
    "        v = self.v.repeat(encoder_outputs.size(0), 1).unsqueeze(1)\n",
    "        e = torch.bmm(v, e)\n",
    "        return e.squeeze(1)\n",
    "\n",
    "\n",
    "class Decoder(nn.Module):\n",
    "    '''\n",
    "    Define decoder with attention\n",
    "    '''\n",
    "    def __init__(self, dim_embed, dim_hidden, dim_output, num_layers, dropout):\n",
    "        super(Decoder, self).__init__()\n",
    "        self.dim_embed = dim_embed\n",
    "        self.dim_hidden = dim_hidden\n",
    "        self.dim_output = dim_output\n",
    "        self.num_layers = num_layers\n",
    "\n",
    "        self.embed = nn.Embedding(dim_output, dim_embed)\n",
    "        self.dropout = nn.Dropout(dropout, inplace=True)\n",
    "        self.attention = Attention(dim_hidden)\n",
    "        self.cell = nn.GRU(dim_hidden + dim_embed, dim_hidden,\n",
    "                          num_layers, dropout=dropout)\n",
    "        self.out = nn.Linear(2*dim_hidden, dim_output)\n",
    "\n",
    "    def forward(self, inputs, last_hidden, encoder_outputs):\n",
    "        \n",
    "        embedded = self.embed(inputs).unsqueeze(0)  # (1,B,N)\n",
    "        embedded = self.dropout(embedded)\n",
    "        \n",
    "        attn_weights = self.attention(last_hidden[-1], encoder_outputs)\n",
    "        context = attn_weights.bmm(encoder_outputs.transpose(0, 1))  # (B,1,N)\n",
    "        context = context.transpose(0, 1)  # (1,B,N)\n",
    "        \n",
    "        rnn_input = torch.cat([embedded, context], 2)\n",
    "        output, hidden = self.cell(rnn_input, last_hidden)\n",
    "        output = output.squeeze(0)  # (1,B,N) -> (B,N)\n",
    "        context = context.squeeze(0)\n",
    "        output = self.out(torch.cat([output, context], 1))\n",
    "        output = F.log_softmax(output, dim=1)\n",
    "        return output, hidden, attn_weights\n",
    "\n",
    "class Seq2Seq(nn.Module):\n",
    "    def __init__(self, encoder, decoder):\n",
    "        super(Seq2Seq, self).__init__()\n",
    "        self.encoder = encoder\n",
    "        self.decoder = decoder\n",
    "\n",
    "    def forward(self, src, src_len, tgt, tgt_len, teacher_forcing_ratio=0.5):\n",
    "        batch_size = src.size(1)\n",
    "        max_len = tgt.size(0)\n",
    "        vocab_size = self.decoder.dim_output\n",
    "        if USE_CUDA:\n",
    "            outputs = Variable(torch.zeros(max_len, batch_size, vocab_size).cuda())\n",
    "        else:\n",
    "            outputs = Variable(torch.zeros(max_len, batch_size, vocab_size))\n",
    "        encoder_output, hidden = self.encoder(src, src_len)\n",
    "        hidden = hidden[:self.decoder.num_layers]\n",
    "        # Put <sos> at first position\n",
    "        if USE_CUDA:\n",
    "            output = Variable(tgt.data[0, :].cuda())\n",
    "        else:\n",
    "            output = Variable(tgt.data[0, :])\n",
    "        for t in range(1, max_len):\n",
    "            output, hidden, attn_weights = self.decoder(\n",
    "                    output, hidden, encoder_output)\n",
    "            outputs[t] = output\n",
    "            # Randomly choose whether to use teacher force or not\n",
    "            is_teacher = random.random() < teacher_forcing_ratio\n",
    "            top1 = output.data.max(1)[1]\n",
    "            if USE_CUDA:\n",
    "                output = Variable(tgt.data[t].cuda() if is_teacher else top1.cuda())\n",
    "            else:\n",
    "                output = Variable(tgt.data[t] if is_teacher else top1)\n",
    "        return outputs\n",
    "    \n",
    "    def inference(self, src, src_len, max_len = MAX_LENGTH):\n",
    "        pred_idx = []\n",
    "        batch_size = src.size(1)\n",
    "        vocab_size = self.decoder.dim_output\n",
    "        if USE_CUDA:\n",
    "            outputs = Variable(torch.zeros(max_len, batch_size, vocab_size).cuda())\n",
    "        else:\n",
    "            outputs = Variable(torch.zeros(max_len, batch_size, vocab_size))\n",
    "        \n",
    "        encoder_output, hidden = self.encoder(src, src_len, None)\n",
    "        hidden = hidden[:self.decoder.num_layers]\n",
    "        # Put <sos> at first position\n",
    "        if USE_CUDA:\n",
    "            output = Variable(src.data[0, :].cuda())\n",
    "        else:\n",
    "            output = Variable(src.data[0, :])\n",
    "        pred_idx.append(SOS_idx)\n",
    "        for t in range(1, max_len):\n",
    "            output, hidden, attn_weights = self.decoder(\n",
    "                    output, hidden, encoder_output)\n",
    "            outputs[t] = output\n",
    "            top1 = output.data.max(1)[1]\n",
    "            pred_idx.append(top1.item())\n",
    "            if USE_CUDA:\n",
    "                output = Variable(top1.cuda())\n",
    "            else:\n",
    "                output = Variable(top1)\n",
    "            if top1 == EOS_idx: break\n",
    "        return outputs, pred_idx"
   ]
  },
  {
   "cell_type": "code",
   "execution_count": 9,
   "metadata": {},
   "outputs": [
    {
     "name": "stderr",
     "output_type": "stream",
     "text": [
      "/opt/conda/lib/python3.6/site-packages/torch/nn/modules/rnn.py:38: UserWarning: dropout option adds dropout after all but last recurrent layer, so non-zero dropout expects num_layers greater than 1, but got dropout=0.2 and num_layers=1\n",
      "  \"num_layers={}\".format(dropout, num_layers))\n"
     ]
    }
   ],
   "source": [
    "batch_size = 64\n",
    "hidden_size = 512\n",
    "embed_size = 256\n",
    "encoder_n_layers = 2\n",
    "decoder_n_layers = 1\n",
    "encoder_test = Encoder(src.num, embed_size, hidden_size, encoder_n_layers, dropout=0.2)\n",
    "decoder_test = Decoder(embed_size, hidden_size, tgt.num, decoder_n_layers, dropout=0.2)"
   ]
  },
  {
   "cell_type": "code",
   "execution_count": 10,
   "metadata": {},
   "outputs": [
    {
     "name": "stdout",
     "output_type": "stream",
     "text": [
      "Seq2Seq(\n",
      "  (encoder): Encoder(\n",
      "    (embed): Embedding(46064, 256)\n",
      "    (cell): GRU(256, 512, num_layers=2, dropout=0.2, bidirectional=True)\n",
      "  )\n",
      "  (decoder): Decoder(\n",
      "    (embed): Embedding(30499, 256)\n",
      "    (dropout): Dropout(p=0.2, inplace)\n",
      "    (attention): Attention(\n",
      "      (attn): Linear(in_features=1024, out_features=512, bias=True)\n",
      "    )\n",
      "    (cell): GRU(768, 512, dropout=0.2)\n",
      "    (out): Linear(in_features=1024, out_features=30499, bias=True)\n",
      "  )\n",
      ")\n"
     ]
    }
   ],
   "source": [
    "net = Seq2Seq(encoder_test,decoder_test).cuda()\n",
    "print(net)"
   ]
  },
  {
   "cell_type": "code",
   "execution_count": 11,
   "metadata": {},
   "outputs": [],
   "source": [
    "opt = optim.Adam(net.parameters(),lr=0.0001)"
   ]
  },
  {
   "cell_type": "code",
   "execution_count": 12,
   "metadata": {},
   "outputs": [],
   "source": [
    "net.load_state_dict(torch.load('./saved_model_1.pt'))"
   ]
  },
  {
   "cell_type": "code",
   "execution_count": null,
   "metadata": {},
   "outputs": [],
   "source": [
    "net.train()\n",
    "\n",
    "grad_clip = 5\n",
    "num_batch = len(pairs) // batch_size\n",
    "print_every_batches = 200\n",
    "save_every_batches = 200\n",
    "valid_every_epochs = print_every_batches\n",
    "pairs.sort(key=lambda x: len(x[0].split()))\n",
    "\n",
    "for epoch in range(1,50000):\n",
    "    total_loss = 0\n",
    "    tmp_loss = 0\n",
    "    for batch_idx in range(num_batch):\n",
    "        input_batches, input_lengths,\\\n",
    "            target_batches, target_lengths = random_batch(src,tgt,pairs,batch_size,batch_idx)\n",
    "        \n",
    "        opt.zero_grad()\n",
    "        output = net(input_batches, input_lengths, target_batches, target_lengths)\n",
    "\n",
    "        #loss = masked_cross_entropy.compute_loss(\n",
    "        #    output.transpose(0, 1).contiguous(),\n",
    "        #    target_batches.transpose(0, 1).contiguous(),\n",
    "        #    target_lengths\n",
    "        #)\n",
    "        loss = F.nll_loss(output[1:].view(-1,tgt.num),\n",
    "                          target_batches[1:].contiguous().view(-1),\n",
    "                          ignore_index=PAD_idx)\n",
    "        \n",
    "        tmp_loss += loss.item()\n",
    "        if (batch_idx+1) % save_every_batches == 0:\n",
    "            torch.save(net.state_dict(), './saved.pt')\n",
    "        clip_grad_norm_(net.parameters(), grad_clip)\n",
    "        loss.backward()\n",
    "        opt.step()\n",
    "        if (batch_idx+1) % print_every_batches == 0:\n",
    "            opt.zero_grad()\n",
    "            input_batches, input_lengths,\\\n",
    "                target_batches, target_lengths = random_batch(src,tgt,pairs,batch_size,batch_idx)\n",
    "            for test_idx in range(1):\n",
    "                _, pred = net.inference(input_batches[:,test_idx].reshape(input_lengths[0].item(),1),input_lengths[0].reshape(1))\n",
    "                inp = ' '.join([src.idx2w[t] for t in input_batches[:,test_idx].cpu().numpy()])\n",
    "                mt = ' '.join([tgt.idx2w[t] for t in pred if t!= PAD_idx])\n",
    "                ref = ' '.join([tgt.idx2w[t] for t in target_batches[:,test_idx].cpu().numpy()])\n",
    "                print('INPUT:\\n' + inp)\n",
    "                print('REF:\\n' + ref)\n",
    "                print('PREDICTION:\\n' + mt)\n",
    "                print('BLEU = %f' % bleu([mt],[[ref]],4))\n",
    "                print(\"------\")\n",
    "            output = net(input_batches, input_lengths, target_batches, target_lengths)\n",
    "\n",
    "            #loss = masked_cross_entropy.compute_loss(\n",
    "            #    output.transpose(0, 1).contiguous(),\n",
    "            #    target_batches.transpose(0, 1).contiguous(),\n",
    "            #    target_lengths\n",
    "            #)\n",
    "            loss = F.nll_loss(output[1:].view(-1,tgt.num),\n",
    "                              target_batches[1:].contiguous().view(-1),\n",
    "                              ignore_index=PAD_idx)\n",
    "            print(\"Epoch %d Batch Num %d Train Loss: %f Test Loss: %f\"%(epoch, batch_idx+1, tmp_loss/print_every_batches, loss.item()))\n",
    "            tmp_loss = 0\n",
    "\n",
    "    print('epoch %d finished !'%(epoch))\n",
    "    random.shuffle(pairs)"
   ]
  },
  {
   "cell_type": "code",
   "execution_count": null,
   "metadata": {},
   "outputs": [],
   "source": []
  },
  {
   "cell_type": "markdown",
   "metadata": {},
   "source": [
    "# Check Inference result of train data"
   ]
  },
  {
   "cell_type": "code",
   "execution_count": 13,
   "metadata": {},
   "outputs": [],
   "source": [
    "pairs.sort(key=lambda x: len(x[0].split()))"
   ]
  },
  {
   "cell_type": "code",
   "execution_count": 14,
   "metadata": {},
   "outputs": [],
   "source": [
    "from tqdm import tqdm"
   ]
  },
  {
   "cell_type": "code",
   "execution_count": 15,
   "metadata": {},
   "outputs": [
    {
     "name": "stderr",
     "output_type": "stream",
     "text": [
      "  0%|          | 2/77083 [00:00<5:30:20,  3.89it/s]"
     ]
    },
    {
     "name": "stdout",
     "output_type": "stream",
     "text": [
      "INPUT:\n",
      "<sos> 江苏 宜兴市 . <eos>\n",
      "REF:\n",
      "<sos> yixing city , jiangsu . <eos>\n",
      "PREDICTION:\n",
      "<sos> yixing city , jiangsu . <eos>\n",
      "BLEU = 1.000000\n",
      "------\n",
      "INPUT:\n",
      "<sos> 总理 朱鎔基 二零零一年八月二日 <eos>\n",
      "REF:\n",
      "<sos> prime minister zhu rongji 2 august 2001 <eos>\n",
      "PREDICTION:\n",
      "<sos> prime minister zhu rongji 2 august 2001 <eos>\n",
      "BLEU = 1.000000\n",
      "------\n"
     ]
    },
    {
     "name": "stderr",
     "output_type": "stream",
     "text": [
      "  0%|          | 4/77083 [00:00<4:16:52,  5.00it/s]"
     ]
    },
    {
     "name": "stdout",
     "output_type": "stream",
     "text": [
      "INPUT:\n",
      "<sos> 再说 科索沃 . <eos>\n",
      "REF:\n",
      "<sos> or take kosovo . <eos>\n",
      "PREDICTION:\n",
      "<sos> or take kosovo . <eos>\n",
      "BLEU = 1.000000\n",
      "------\n",
      "INPUT:\n",
      "<sos> 1995年 离休 . <eos>\n",
      "REF:\n",
      "<sos> he retired in 1995 . <eos>\n",
      "PREDICTION:\n",
      "<sos> he retired in 1995 . <eos>\n",
      "BLEU = 1.000000\n",
      "------\n"
     ]
    },
    {
     "name": "stderr",
     "output_type": "stream",
     "text": [
      "  0%|          | 6/77083 [00:01<4:40:40,  4.58it/s]"
     ]
    },
    {
     "name": "stdout",
     "output_type": "stream",
     "text": [
      "INPUT:\n",
      "<sos> 谢谢 各位 ! <eos>\n",
      "REF:\n",
      "<sos> thank you ! <eos>\n",
      "PREDICTION:\n",
      "<sos> thank you ! <eos>\n",
      "BLEU = 1.000000\n",
      "------\n",
      "INPUT:\n",
      "<sos> 杜青林 说 . <eos>\n",
      "REF:\n",
      "<sos> du qinglin said . <eos>\n",
      "PREDICTION:\n",
      "<sos> du qinglin said . <eos>\n",
      "BLEU = 1.000000\n",
      "------\n"
     ]
    },
    {
     "name": "stderr",
     "output_type": "stream",
     "text": [
      "  0%|          | 8/77083 [00:01<4:28:58,  4.78it/s]"
     ]
    },
    {
     "name": "stdout",
     "output_type": "stream",
     "text": [
      "INPUT:\n",
      "<sos> ( 王永霞 ) <eos>\n",
      "REF:\n",
      "<sos> ( by wang yongxia ) <eos>\n",
      "PREDICTION:\n",
      "<sos> ( by wang yongxia ) <eos>\n",
      "BLEU = 1.000000\n",
      "------\n",
      "INPUT:\n",
      "<sos> 朱鎔基 问 . <eos>\n",
      "REF:\n",
      "<sos> zhu rongji asked . <eos>\n",
      "PREDICTION:\n",
      "<sos> zhu rongji asked . <eos>\n",
      "BLEU = 1.000000\n",
      "------\n"
     ]
    },
    {
     "name": "stderr",
     "output_type": "stream",
     "text": [
      "  0%|          | 10/77083 [00:02<4:23:31,  4.87it/s]"
     ]
    },
    {
     "name": "stdout",
     "output_type": "stream",
     "text": [
      "INPUT:\n",
      "<sos> 袁木 否认 参与 <eos>\n",
      "REF:\n",
      "<sos> this is the best example of peaceful evolution . <eos>\n",
      "PREDICTION:\n",
      "<sos> this is the best example of peaceful evolution . <eos>\n",
      "BLEU = 1.000000\n",
      "------\n",
      "INPUT:\n",
      "<sos> 军政 融合 . <eos>\n",
      "REF:\n",
      "<sos> integrate military and political matters . <eos>\n",
      "PREDICTION:\n",
      "<sos> integrate military and political matters . <eos>\n",
      "BLEU = 1.000000\n",
      "------\n"
     ]
    },
    {
     "name": "stderr",
     "output_type": "stream",
     "text": [
      "\r",
      "  0%|          | 11/77083 [00:02<4:22:16,  4.90it/s]"
     ]
    },
    {
     "name": "stdout",
     "output_type": "stream",
     "text": [
      "INPUT:\n",
      "<sos> 拜登 来了 . <eos>\n",
      "REF:\n",
      "<sos> then came joseph biden . <eos>\n",
      "PREDICTION:\n",
      "<sos> then came joseph biden . <eos>\n",
      "BLEU = 1.000000\n",
      "------\n"
     ]
    },
    {
     "name": "stderr",
     "output_type": "stream",
     "text": [
      "  0%|          | 13/77083 [00:02<4:20:12,  4.94it/s]"
     ]
    },
    {
     "name": "stdout",
     "output_type": "stream",
     "text": [
      "INPUT:\n",
      "<sos> 居心安 在 ? <eos>\n",
      "REF:\n",
      "<sos> what are its motives ? <eos>\n",
      "PREDICTION:\n",
      "<sos> what are its motives ? <eos>\n",
      "BLEU = 1.000000\n",
      "------\n",
      "INPUT:\n",
      "<sos> 向钱看 腐化 解放军 <eos>\n",
      "REF:\n",
      "<sos> the pla is being corrupted by mammonism . <eos>\n",
      "PREDICTION:\n",
      "<sos> the pla is being corrupted by mammonism . <eos>\n",
      "BLEU = 1.000000\n",
      "------\n"
     ]
    },
    {
     "name": "stderr",
     "output_type": "stream",
     "text": [
      "\r",
      "  0%|          | 14/77083 [00:02<4:17:29,  4.99it/s]"
     ]
    },
    {
     "name": "stdout",
     "output_type": "stream",
     "text": [
      "INPUT:\n",
      "<sos> 依仗 高科技 优势 <eos>\n",
      "REF:\n",
      "<sos> rely on high tech superiority . <eos>\n",
      "PREDICTION:\n",
      "<sos> rely on high tech superiority . <eos>\n",
      "BLEU = 1.000000\n",
      "------\n"
     ]
    },
    {
     "name": "stderr",
     "output_type": "stream",
     "text": [
      "\r",
      "  0%|          | 15/77083 [00:03<4:21:09,  4.92it/s]"
     ]
    },
    {
     "name": "stdout",
     "output_type": "stream",
     "text": [
      "INPUT:\n",
      "<sos> ( 易才 ) <eos>\n",
      "REF:\n",
      "<sos> 4 ) the number of investors will double . <eos>\n",
      "PREDICTION:\n",
      "<sos> 4 ) the number of investors will double double . <eos>\n",
      "BLEU = 0.816497\n",
      "------\n",
      "INPUT:\n",
      "<sos> 网络 一体 . <eos>\n",
      "REF:\n",
      "<sos> integration of networks . <eos>\n",
      "PREDICTION:\n",
      "<sos> integration of networks . <eos>\n",
      "BLEU = 1.000000\n",
      "------\n"
     ]
    },
    {
     "name": "stderr",
     "output_type": "stream",
     "text": [
      "  0%|          | 18/77083 [00:03<4:15:51,  5.02it/s]"
     ]
    },
    {
     "name": "stdout",
     "output_type": "stream",
     "text": [
      "INPUT:\n",
      "<sos> 占据 市场 . <eos>\n",
      "REF:\n",
      "<sos> occupying markets . <eos>\n",
      "PREDICTION:\n",
      "<sos> occupying markets . <eos>\n",
      "BLEU = 1.000000\n",
      "------\n",
      "INPUT:\n",
      "<sos> 同意 ! \" <eos>\n",
      "REF:\n",
      "<sos> yes we do ! \" <eos>\n",
      "PREDICTION:\n",
      "<sos> yes we do ! \" <eos>\n",
      "BLEU = 1.000000\n",
      "------\n"
     ]
    },
    {
     "name": "stderr",
     "output_type": "stream",
     "text": [
      "  0%|          | 20/77083 [00:04<4:16:58,  5.00it/s]"
     ]
    },
    {
     "name": "stdout",
     "output_type": "stream",
     "text": [
      "INPUT:\n",
      "<sos> 切忌 形式主义 . <eos>\n",
      "REF:\n",
      "<sos> formalism should be avoided by all means . <eos>\n",
      "PREDICTION:\n",
      "<sos> formalism should be avoided by all means . <eos>\n",
      "BLEU = 1.000000\n",
      "------\n",
      "INPUT:\n",
      "<sos> 能否 水落石出 ? <eos>\n",
      "REF:\n",
      "<sos> will the truth come out ? <eos>\n",
      "PREDICTION:\n",
      "<sos> will the truth come out ? <eos>\n",
      "BLEU = 1.000000\n",
      "------\n"
     ]
    },
    {
     "name": "stderr",
     "output_type": "stream",
     "text": [
      "  0%|          | 22/77083 [00:04<4:16:49,  5.00it/s]"
     ]
    },
    {
     "name": "stdout",
     "output_type": "stream",
     "text": [
      "INPUT:\n",
      "<sos> 会议 上 发言 <eos>\n",
      "REF:\n",
      "<sos> following is the full text of the speech . <eos>\n",
      "PREDICTION:\n",
      "<sos> following a full text of the speech . <eos>\n",
      "BLEU = 0.639817\n",
      "------\n",
      "INPUT:\n",
      "<sos> 走 自己的 路 <eos>\n",
      "REF:\n",
      "<sos> walk in one 's own route . <eos>\n",
      "PREDICTION:\n",
      "<sos> walk in one 's own route . <eos>\n",
      "BLEU = 1.000000\n",
      "------\n"
     ]
    },
    {
     "name": "stderr",
     "output_type": "stream",
     "text": [
      "\r",
      "  0%|          | 23/77083 [00:04<4:17:06,  5.00it/s]"
     ]
    },
    {
     "name": "stdout",
     "output_type": "stream",
     "text": [
      "INPUT:\n",
      "<sos> 谢谢 各位 . <eos>\n",
      "REF:\n",
      "<sos> thank you . <eos>\n",
      "PREDICTION:\n",
      "<sos> thank you . <eos>\n",
      "BLEU = 1.000000\n",
      "------\n"
     ]
    },
    {
     "name": "stderr",
     "output_type": "stream",
     "text": [
      "\r",
      "  0%|          | 24/77083 [00:04<4:18:50,  4.96it/s]"
     ]
    },
    {
     "name": "stdout",
     "output_type": "stream",
     "text": [
      "INPUT:\n",
      "<sos> 重点 发展 . <eos>\n",
      "REF:\n",
      "<sos> we should develop in major aspects . <eos>\n",
      "PREDICTION:\n",
      "<sos> we should develop in the aspects . <eos>\n",
      "BLEU = 0.596949\n",
      "------\n",
      "INPUT:\n",
      "<sos> 结局 如何 ? <eos>\n",
      "REF:\n",
      "<sos> what will be the result ? <eos>\n",
      "PREDICTION:\n",
      "<sos> what will be the result ? <eos>\n",
      "BLEU = 1.000000\n",
      "------\n"
     ]
    },
    {
     "name": "stderr",
     "output_type": "stream",
     "text": [
      "  0%|          | 27/77083 [00:05<3:59:29,  5.36it/s]"
     ]
    },
    {
     "name": "stdout",
     "output_type": "stream",
     "text": [
      "INPUT:\n",
      "<sos> 答案 昭然若揭 . <eos>\n",
      "REF:\n",
      "<sos> here , the answer is quite clear . <eos>\n",
      "PREDICTION:\n",
      "<sos> here , the answer is quite clear . <eos>\n",
      "BLEU = 1.000000\n",
      "------\n",
      "INPUT:\n",
      "<sos> 此 其一 . <eos>\n",
      "REF:\n",
      "<sos> that is the first point . <eos>\n",
      "PREDICTION:\n",
      "<sos> that is the first point . <eos>\n",
      "BLEU = 1.000000\n",
      "------\n"
     ]
    },
    {
     "name": "stderr",
     "output_type": "stream",
     "text": [
      "  0%|          | 29/77083 [00:05<4:09:56,  5.14it/s]"
     ]
    },
    {
     "name": "stdout",
     "output_type": "stream",
     "text": [
      "INPUT:\n",
      "<sos> 何谓 揭露 ? <eos>\n",
      "REF:\n",
      "<sos> what does \" expose \" mean then ? <eos>\n",
      "PREDICTION:\n",
      "<sos> what does \" expose \" mean mean ? <eos>\n",
      "BLEU = 0.707107\n",
      "------\n",
      "INPUT:\n",
      "<sos> theusgovernmenthasdeliveredaletterofapologytothechinesesideinconnectionwiththeincidentinwhichausmilitaryreconnaissanceplanerammedanddestroyedachineseaircraft.outofhumanitarianconsiderations , thechinesegovernmenthasdecidedtolettheuscrewmembersleavethecountry. <eos>\n",
      "REF:\n",
      "<sos> this incident has yet to be completely settled . <eos>\n",
      "PREDICTION:\n",
      "<sos> this incident has yet to be completely settled . <eos>\n",
      "BLEU = 1.000000\n",
      "------\n"
     ]
    },
    {
     "name": "stderr",
     "output_type": "stream",
     "text": [
      "  0%|          | 31/77083 [00:06<4:39:36,  4.59it/s]"
     ]
    },
    {
     "name": "stdout",
     "output_type": "stream",
     "text": [
      "INPUT:\n",
      "<sos> 值得 深思 . <eos>\n",
      "REF:\n",
      "<sos> it deserves careful pondering . <eos>\n",
      "PREDICTION:\n",
      "<sos> it deserves careful pondering . <eos>\n",
      "BLEU = 1.000000\n",
      "------\n",
      "INPUT:\n",
      "<sos> 责任编辑 : 田颖 <eos>\n",
      "REF:\n",
      "<sos> responsible editor : tian ying <eos>\n",
      "PREDICTION:\n",
      "<sos> responsible editor : tian ying . <eos>\n",
      "BLEU = 0.707107\n",
      "------\n"
     ]
    },
    {
     "name": "stderr",
     "output_type": "stream",
     "text": [
      "  0%|          | 33/77083 [00:06<4:27:12,  4.81it/s]"
     ]
    },
    {
     "name": "stdout",
     "output_type": "stream",
     "text": [
      "INPUT:\n",
      "<sos> 会议 的 背景 <eos>\n",
      "REF:\n",
      "<sos> historically , this was rather significant . <eos>\n",
      "PREDICTION:\n",
      "<sos> historically , this was rather significant . <eos>\n",
      "BLEU = 1.000000\n",
      "------\n",
      "INPUT:\n",
      "<sos> 这是 事实 . <eos>\n",
      "REF:\n",
      "<sos> this is a fact . <eos>\n",
      "PREDICTION:\n",
      "<sos> this is a fact . <eos>\n",
      "BLEU = 1.000000\n",
      "------\n"
     ]
    },
    {
     "name": "stderr",
     "output_type": "stream",
     "text": [
      "  0%|          | 35/77083 [00:07<4:21:45,  4.91it/s]"
     ]
    },
    {
     "name": "stdout",
     "output_type": "stream",
     "text": [
      "INPUT:\n",
      "<sos> 中美 关系 何去何从 <eos>\n",
      "REF:\n",
      "<sos> where will sino - us relations go ? <eos>\n",
      "PREDICTION:\n",
      "<sos> where will sino - us relations go go ? <eos>\n",
      "BLEU = 0.794139\n",
      "------\n",
      "INPUT:\n",
      "<sos> 人民 网 2001年4月22日 <eos>\n",
      "REF:\n",
      "<sos> the japanese politicians are victimizing them . <eos>\n",
      "PREDICTION:\n",
      "<sos> the japanese politicians are victimizing them . <eos>\n",
      "BLEU = 1.000000\n",
      "------\n"
     ]
    },
    {
     "name": "stderr",
     "output_type": "stream",
     "text": [
      "  0%|          | 37/77083 [00:07<4:17:43,  4.98it/s]"
     ]
    },
    {
     "name": "stdout",
     "output_type": "stream",
     "text": [
      "INPUT:\n",
      "<sos> ( 2000年11月9日 ) <eos>\n",
      "REF:\n",
      "<sos> november 9 , 2000 <eos>\n",
      "PREDICTION:\n",
      "<sos> november 9 , 2000 . <eos>\n",
      "BLEU = 0.643459\n",
      "------\n",
      "INPUT:\n",
      "<sos> 海风 拂面 . <eos>\n",
      "REF:\n",
      "<sos> the sea breeze was blowing . <eos>\n",
      "PREDICTION:\n",
      "<sos> the sea breeze was blowing . <eos>\n",
      "BLEU = 1.000000\n",
      "------\n"
     ]
    },
    {
     "name": "stderr",
     "output_type": "stream",
     "text": [
      "\r",
      "  0%|          | 38/77083 [00:07<3:41:07,  5.81it/s]"
     ]
    },
    {
     "name": "stdout",
     "output_type": "stream",
     "text": [
      "INPUT:\n",
      "<sos> 第三 罚 则 <eos>\n",
      "REF:\n",
      "<sos> chapter three . <eos>\n",
      "PREDICTION:\n",
      "<sos> chapter three . <eos>\n",
      "BLEU = 1.000000\n",
      "------\n"
     ]
    },
    {
     "name": "stderr",
     "output_type": "stream",
     "text": [
      "\r",
      "  0%|          | 39/77083 [00:07<4:29:09,  4.77it/s]"
     ]
    },
    {
     "name": "stdout",
     "output_type": "stream",
     "text": [
      "INPUT:\n",
      "<sos> 演练 镜头 . <eos>\n",
      "REF:\n",
      "<sos> the scene of the drill . <eos>\n",
      "PREDICTION:\n",
      "<sos> the scene of the drill . <eos>\n",
      "BLEU = 1.000000\n",
      "------\n"
     ]
    },
    {
     "name": "stderr",
     "output_type": "stream",
     "text": [
      "  0%|          | 41/77083 [00:08<4:20:33,  4.93it/s]"
     ]
    },
    {
     "name": "stdout",
     "output_type": "stream",
     "text": [
      "INPUT:\n",
      "<sos> 史可鉴 今 . <eos>\n",
      "REF:\n",
      "<sos> the past can be used for reference today . <eos>\n",
      "PREDICTION:\n",
      "<sos> the past can be used for reference today . <eos>\n",
      "BLEU = 1.000000\n",
      "------\n",
      "INPUT:\n",
      "<sos> 理由 很多 . <eos>\n",
      "REF:\n",
      "<sos> there are many reasons . <eos>\n",
      "PREDICTION:\n",
      "<sos> there are many reasons . <eos>\n",
      "BLEU = 1.000000\n",
      "------\n"
     ]
    },
    {
     "name": "stderr",
     "output_type": "stream",
     "text": [
      "\r",
      "  0%|          | 42/77083 [00:08<4:20:09,  4.94it/s]"
     ]
    },
    {
     "name": "stdout",
     "output_type": "stream",
     "text": [
      "INPUT:\n",
      "<sos> 是否 先进 ? <eos>\n",
      "REF:\n",
      "<sos> are they advanced weapons ? <eos>\n",
      "PREDICTION:\n",
      "<sos> are they advanced weapons ? <eos>\n",
      "BLEU = 1.000000\n",
      "------\n"
     ]
    },
    {
     "name": "stderr",
     "output_type": "stream",
     "text": [
      "\r",
      "  0%|          | 43/77083 [00:08<4:21:05,  4.92it/s]"
     ]
    },
    {
     "name": "stdout",
     "output_type": "stream",
     "text": [
      "INPUT:\n",
      "<sos> 凡事 开头难 . <eos>\n",
      "REF:\n",
      "<sos> every endeavor is difficult at the beginning . <eos>\n",
      "PREDICTION:\n",
      "<sos> every endeavor is difficult at the beginning . <eos>\n",
      "BLEU = 1.000000\n",
      "------\n",
      "INPUT:\n",
      "<sos> 伯杰 说 . <eos>\n",
      "REF:\n",
      "<sos> berger said . <eos>\n",
      "PREDICTION:\n",
      "<sos> berger said . <eos>\n",
      "BLEU = 1.000000\n",
      "------\n"
     ]
    },
    {
     "name": "stderr",
     "output_type": "stream",
     "text": [
      "  0%|          | 46/77083 [00:09<4:02:59,  5.28it/s]"
     ]
    },
    {
     "name": "stdout",
     "output_type": "stream",
     "text": [
      "INPUT:\n",
      "<sos> 拖垮 对手 . <eos>\n",
      "REF:\n",
      "<sos> wearing down the opponents . <eos>\n",
      "PREDICTION:\n",
      "<sos> wearing down on opponents . <eos>\n",
      "BLEU = 0.691442\n",
      "------\n",
      "INPUT:\n",
      "<sos> 形势逼人 啊 ! <eos>\n",
      "REF:\n",
      "<sos> the situation is pressing ! <eos>\n",
      "PREDICTION:\n",
      "<sos> the situation is pressing ! <eos>\n",
      "BLEU = 1.000000\n",
      "------\n"
     ]
    },
    {
     "name": "stderr",
     "output_type": "stream",
     "text": [
      "  0%|          | 48/77083 [00:09<3:34:59,  5.97it/s]"
     ]
    },
    {
     "name": "stdout",
     "output_type": "stream",
     "text": [
      "INPUT:\n",
      "<sos> 拉萨 ! \" <eos>\n",
      "REF:\n",
      "<sos> this always confuses new comers . <eos>\n",
      "PREDICTION:\n",
      "<sos> this always confuses new comers . <eos>\n",
      "BLEU = 1.000000\n",
      "------\n",
      "INPUT:\n",
      "<sos> 难道 不是 ? <eos>\n",
      "REF:\n",
      "<sos> is that not so ? <eos>\n",
      "PREDICTION:\n",
      "<sos> is that not so ? <eos>\n",
      "BLEU = 1.000000\n",
      "------\n"
     ]
    },
    {
     "name": "stderr",
     "output_type": "stream",
     "text": [
      "  0%|          | 50/77083 [00:09<3:46:08,  5.68it/s]"
     ]
    },
    {
     "name": "stdout",
     "output_type": "stream",
     "text": [
      "INPUT:\n",
      "<sos> 空间 一体 . <eos>\n",
      "REF:\n",
      "<sos> integration of space . <eos>\n",
      "PREDICTION:\n",
      "<sos> integration of space . <eos>\n",
      "BLEU = 1.000000\n",
      "------\n",
      "INPUT:\n",
      "<sos> 国家主席 : 胡锦涛 . <eos>\n",
      "REF:\n",
      "<sos> president : hu jintao . <eos>\n",
      "PREDICTION:\n",
      "<sos> president : hu jintao . <eos>\n",
      "BLEU = 1.000000\n",
      "------\n"
     ]
    },
    {
     "name": "stderr",
     "output_type": "stream",
     "text": [
      "\r",
      "  0%|          | 51/77083 [00:10<4:30:38,  4.74it/s]"
     ]
    },
    {
     "name": "stdout",
     "output_type": "stream",
     "text": [
      "INPUT:\n",
      "<sos> 其 目的 不言而喻 . <eos>\n",
      "REF:\n",
      "<sos> his intention was clear without saying . <eos>\n",
      "PREDICTION:\n",
      "<sos> his intention was clear without saying . <eos>\n",
      "BLEU = 1.000000\n",
      "------\n"
     ]
    },
    {
     "name": "stderr",
     "output_type": "stream",
     "text": [
      "  0%|          | 53/77083 [00:10<4:24:51,  4.85it/s]"
     ]
    },
    {
     "name": "stdout",
     "output_type": "stream",
     "text": [
      "INPUT:\n",
      "<sos> 事实 确实 如此 . <eos>\n",
      "REF:\n",
      "<sos> indeed , this is a fact . <eos>\n",
      "PREDICTION:\n",
      "<sos> indeed , this is a fact . <eos>\n",
      "BLEU = 1.000000\n",
      "------\n",
      "INPUT:\n",
      "<sos> 丹增 主持 座谈会 . <eos>\n",
      "REF:\n",
      "<sos> dan zeng chaired the forum . <eos>\n",
      "PREDICTION:\n",
      "<sos> dan zeng chaired the forum . <eos>\n",
      "BLEU = 1.000000\n",
      "------\n"
     ]
    },
    {
     "name": "stderr",
     "output_type": "stream",
     "text": [
      "\r",
      "  0%|          | 54/77083 [00:10<4:30:13,  4.75it/s]"
     ]
    },
    {
     "name": "stdout",
     "output_type": "stream",
     "text": [
      "INPUT:\n",
      "<sos> 国务院 总理 朱鎔基 二零零一年二月二十一日 <eos>\n",
      "REF:\n",
      "<sos> zhu rongji , premier of the state council 21 feb 2001 <eos>\n",
      "PREDICTION:\n",
      "<sos> zhu rongji , premier of the state council 21 feb 2001 2001 <eos>\n",
      "BLEU = 0.874340\n",
      "------\n"
     ]
    },
    {
     "name": "stderr",
     "output_type": "stream",
     "text": [
      "  0%|          | 56/77083 [00:11<4:42:59,  4.54it/s]"
     ]
    },
    {
     "name": "stdout",
     "output_type": "stream",
     "text": [
      "INPUT:\n",
      "<sos> 祝 西藏自治区 繁荣昌盛 ! <eos>\n",
      "REF:\n",
      "<sos> wish tibet autonomous region greater prosperity ! <eos>\n",
      "PREDICTION:\n",
      "<sos> wish tibet autonomous region greater prosperity ! <eos>\n",
      "BLEU = 1.000000\n",
      "------\n",
      "INPUT:\n",
      "<sos> ( 记者 赵东辉 ) <eos>\n",
      "REF:\n",
      "<sos> ( by reporter zhao donghui ) <eos>\n",
      "PREDICTION:\n",
      "<sos> ( by reporter zhao donghui ) <eos>\n",
      "BLEU = 1.000000\n",
      "------\n"
     ]
    },
    {
     "name": "stderr",
     "output_type": "stream",
     "text": [
      "  0%|          | 58/77083 [00:11<4:29:18,  4.77it/s]"
     ]
    },
    {
     "name": "stdout",
     "output_type": "stream",
     "text": [
      "INPUT:\n",
      "<sos> 马奇亚兹 也是 牧师 . <eos>\n",
      "REF:\n",
      "<sos> machaz is also a pastor . <eos>\n",
      "PREDICTION:\n",
      "<sos> machaz is also a pastor . <eos>\n",
      "BLEU = 1.000000\n",
      "------\n",
      "INPUT:\n",
      "<sos> -- 知识 定位 . <eos>\n",
      "REF:\n",
      "<sos> - - orientation of knowledge . <eos>\n",
      "PREDICTION:\n",
      "<sos> - - orientation of knowledge . <eos>\n",
      "BLEU = 1.000000\n",
      "------\n"
     ]
    },
    {
     "name": "stderr",
     "output_type": "stream",
     "text": [
      "\r",
      "  0%|          | 59/77083 [00:11<4:23:37,  4.87it/s]"
     ]
    },
    {
     "name": "stdout",
     "output_type": "stream",
     "text": [
      "INPUT:\n",
      "<sos> 这是 一种 误解 . <eos>\n",
      "REF:\n",
      "<sos> this is a misunderstanding . <eos>\n",
      "PREDICTION:\n",
      "<sos> this is a misunderstanding . <eos>\n",
      "BLEU = 1.000000\n",
      "------\n"
     ]
    },
    {
     "name": "stderr",
     "output_type": "stream",
     "text": [
      "\r",
      "  0%|          | 60/77083 [00:12<4:23:48,  4.87it/s]"
     ]
    },
    {
     "name": "stdout",
     "output_type": "stream",
     "text": [
      "INPUT:\n",
      "<sos> 布什 回去 ! \" <eos>\n",
      "REF:\n",
      "<sos> bush , go home ! \" <eos>\n",
      "PREDICTION:\n",
      "<sos> bush , go home ! \" <eos>\n",
      "BLEU = 1.000000\n",
      "------\n",
      "INPUT:\n",
      "<sos> 合理 配置 资源 . <eos>\n",
      "REF:\n",
      "<sos> allocate resources in rational fashion . <eos>\n",
      "PREDICTION:\n",
      "<sos> allocate resources in rational fashion . <eos>\n",
      "BLEU = 1.000000\n",
      "------\n"
     ]
    },
    {
     "name": "stderr",
     "output_type": "stream",
     "text": [
      "  0%|          | 62/77083 [00:12<4:18:04,  4.97it/s]"
     ]
    },
    {
     "name": "stdout",
     "output_type": "stream",
     "text": [
      "INPUT:\n",
      "<sos> 同志们 , 朋友们 ! <eos>\n",
      "REF:\n",
      "<sos> comrades and friends ! <eos>\n",
      "PREDICTION:\n",
      "<sos> comrades , friends ! <eos>\n",
      "BLEU = 0.594604\n",
      "------\n"
     ]
    },
    {
     "name": "stderr",
     "output_type": "stream",
     "text": [
      "\r",
      "  0%|          | 63/77083 [00:12<4:21:51,  4.90it/s]"
     ]
    },
    {
     "name": "stdout",
     "output_type": "stream",
     "text": [
      "INPUT:\n",
      "<sos> --- 加强 调查研究 . <eos>\n",
      "REF:\n",
      "<sos> - - intensifying investigations and studies . <eos>\n",
      "PREDICTION:\n",
      "<sos> - - intensifying investigations and studies . <eos>\n",
      "BLEU = 1.000000\n",
      "------\n",
      "INPUT:\n",
      "<sos> 空中 侦察 情况 . <eos>\n",
      "REF:\n",
      "<sos> air reconnaisance . <eos>\n",
      "PREDICTION:\n",
      "<sos> air reconnaisance . <eos>\n",
      "BLEU = 1.000000\n",
      "------\n"
     ]
    },
    {
     "name": "stderr",
     "output_type": "stream",
     "text": [
      "\r",
      "  0%|          | 65/77083 [00:13<4:21:16,  4.91it/s]"
     ]
    },
    {
     "name": "stdout",
     "output_type": "stream",
     "text": [
      "INPUT:\n",
      "<sos> 克里斯 汀 说 . <eos>\n",
      "REF:\n",
      "<sos> i am willing to answer them . \" <eos>\n",
      "PREDICTION:\n",
      "<sos> i am willing to answer them . \" <eos>\n",
      "BLEU = 1.000000\n",
      "------\n"
     ]
    },
    {
     "name": "stderr",
     "output_type": "stream",
     "text": [
      "  0%|          | 67/77083 [00:13<4:44:16,  4.52it/s]"
     ]
    },
    {
     "name": "stdout",
     "output_type": "stream",
     "text": [
      "INPUT:\n",
      "<sos> 传 亚龙湾 军港 扩建 <eos>\n",
      "REF:\n",
      "<sos> a curfew has been imposed on the village . <eos>\n",
      "PREDICTION:\n",
      "<sos> a curfew has been imposed on the village . <eos>\n",
      "BLEU = 1.000000\n",
      "------\n",
      "INPUT:\n",
      "<sos> 熟悉 而 亲切 . <eos>\n",
      "REF:\n",
      "<sos> so familiar and welcoming . <eos>\n",
      "PREDICTION:\n",
      "<sos> so familiar and welcoming . <eos>\n",
      "BLEU = 1.000000\n",
      "------\n"
     ]
    },
    {
     "name": "stderr",
     "output_type": "stream",
     "text": [
      "\r",
      "  0%|          | 68/77083 [00:13<4:35:41,  4.66it/s]"
     ]
    },
    {
     "name": "stdout",
     "output_type": "stream",
     "text": [
      "INPUT:\n",
      "<sos> 招 是 排污 . <eos>\n",
      "REF:\n",
      "<sos> anther move is to dump pollutants . <eos>\n",
      "PREDICTION:\n",
      "<sos> anther move is to dump pollutants . <eos>\n",
      "BLEU = 1.000000\n",
      "------\n"
     ]
    },
    {
     "name": "stderr",
     "output_type": "stream",
     "text": [
      "  0%|          | 70/77083 [00:14<4:23:44,  4.87it/s]"
     ]
    },
    {
     "name": "stdout",
     "output_type": "stream",
     "text": [
      "INPUT:\n",
      "<sos> 有 哪些 特点 ? <eos>\n",
      "REF:\n",
      "<sos> what have been the characteristics ? <eos>\n",
      "PREDICTION:\n",
      "<sos> what have been the characteristics ? <eos>\n",
      "BLEU = 1.000000\n",
      "------\n",
      "INPUT:\n",
      "<sos> 今天 是 植树节 . <eos>\n",
      "REF:\n",
      "<sos> today is the tree planting festival . <eos>\n",
      "PREDICTION:\n",
      "<sos> today is the tree planting festival . <eos>\n",
      "BLEU = 1.000000\n",
      "------\n"
     ]
    },
    {
     "name": "stderr",
     "output_type": "stream",
     "text": [
      "  0%|          | 72/77083 [00:14<4:17:40,  4.98it/s]"
     ]
    },
    {
     "name": "stdout",
     "output_type": "stream",
     "text": [
      "INPUT:\n",
      "<sos> 场面 颇为 感人 . <eos>\n",
      "REF:\n",
      "<sos> it was a very moving scene . <eos>\n",
      "PREDICTION:\n",
      "<sos> it was a very moving scene . <eos>\n",
      "BLEU = 1.000000\n",
      "------\n",
      "INPUT:\n",
      "<sos> 道理 就 在这里 . <eos>\n",
      "REF:\n",
      "<sos> the reason is obvious . <eos>\n",
      "PREDICTION:\n",
      "<sos> the reason is obvious . <eos>\n",
      "BLEU = 1.000000\n",
      "------\n"
     ]
    },
    {
     "name": "stderr",
     "output_type": "stream",
     "text": [
      "\r",
      "  0%|          | 73/77083 [00:14<3:41:39,  5.79it/s]"
     ]
    },
    {
     "name": "stdout",
     "output_type": "stream",
     "text": [
      "INPUT:\n",
      "<sos> 时间 : 8月4日 . <eos>\n",
      "REF:\n",
      "<sos> time : 4 august . <eos>\n",
      "PREDICTION:\n",
      "<sos> time : 4 august . <eos>\n",
      "BLEU = 1.000000\n",
      "------\n"
     ]
    },
    {
     "name": "stderr",
     "output_type": "stream",
     "text": [
      "  0%|          | 75/77083 [00:15<4:24:52,  4.85it/s]"
     ]
    },
    {
     "name": "stdout",
     "output_type": "stream",
     "text": [
      "INPUT:\n",
      "<sos> 首名 判刑 政治局 委员 <eos>\n",
      "REF:\n",
      "<sos> the first political bureau member who was sentenced by the court . <eos>\n",
      "PREDICTION:\n",
      "<sos> the first political bureau member who was sentenced by the court . <eos>\n",
      "BLEU = 1.000000\n",
      "------\n",
      "INPUT:\n",
      "<sos> 新闻发布会 气氛 热烈 . <eos>\n",
      "REF:\n",
      "<sos> a warm atmosphere prevailed at the news briefing . <eos>\n",
      "PREDICTION:\n",
      "<sos> a warm atmosphere prevailed at the news briefing . <eos>\n",
      "BLEU = 1.000000\n",
      "------\n"
     ]
    },
    {
     "name": "stderr",
     "output_type": "stream",
     "text": [
      "\r",
      "  0%|          | 76/77083 [00:15<4:26:06,  4.82it/s]"
     ]
    },
    {
     "name": "stdout",
     "output_type": "stream",
     "text": [
      "INPUT:\n",
      "<sos> 战场 情况 瞬息万变 . <eos>\n",
      "REF:\n",
      "<sos> the situation on a battle ground is changing all the time . <eos>\n",
      "PREDICTION:\n",
      "<sos> the situation on a battle ground is changing all time . <eos>\n",
      "BLEU = 0.788193\n",
      "------\n",
      "INPUT:\n",
      "<sos> 二 是 广 . <eos>\n",
      "REF:\n",
      "<sos> second is breadth . <eos>\n",
      "PREDICTION:\n",
      "<sos> second is breadth . <eos>\n",
      "BLEU = 1.000000\n",
      "------\n"
     ]
    },
    {
     "name": "stderr",
     "output_type": "stream",
     "text": [
      "  0%|          | 79/77083 [00:15<4:03:19,  5.27it/s]"
     ]
    },
    {
     "name": "stdout",
     "output_type": "stream",
     "text": [
      "INPUT:\n",
      "<sos> 兵种 兼 通 . <eos>\n",
      "REF:\n",
      "<sos> competency in multiple branches of the military . <eos>\n",
      "PREDICTION:\n",
      "<sos> competency in multiple branches of the military . <eos>\n",
      "BLEU = 1.000000\n",
      "------\n",
      "INPUT:\n",
      "<sos> 这 也是 事实 . <eos>\n",
      "REF:\n",
      "<sos> this is a fact too . <eos>\n",
      "PREDICTION:\n",
      "<sos> this is a fact too . <eos>\n",
      "BLEU = 1.000000\n",
      "------\n"
     ]
    },
    {
     "name": "stderr",
     "output_type": "stream",
     "text": [
      "  0%|          | 81/77083 [00:16<4:09:40,  5.14it/s]"
     ]
    },
    {
     "name": "stdout",
     "output_type": "stream",
     "text": [
      "INPUT:\n",
      "<sos> \" 说完 莞尔一笑 . <eos>\n",
      "REF:\n",
      "<sos> li gave a soft smile after making these comments . <eos>\n",
      "PREDICTION:\n",
      "<sos> li gave a soft smile after making these comments . <eos>\n",
      "BLEU = 1.000000\n",
      "------\n",
      "INPUT:\n",
      "<sos> 小卫星 具 多项 优点 <eos>\n",
      "REF:\n",
      "<sos> it has superb application prospects . <eos>\n",
      "PREDICTION:\n",
      "<sos> it has superb application prospects . <eos>\n",
      "BLEU = 1.000000\n",
      "------\n"
     ]
    },
    {
     "name": "stderr",
     "output_type": "stream",
     "text": [
      "  0%|          | 83/77083 [00:16<4:09:49,  5.14it/s]"
     ]
    },
    {
     "name": "stdout",
     "output_type": "stream",
     "text": [
      "INPUT:\n",
      "<sos> 中巴 友谊 源远流长 . <eos>\n",
      "REF:\n",
      "<sos> sino - palestinian friendship is longstanding and well - established . <eos>\n",
      "PREDICTION:\n",
      "<sos> sino - palestinian friendship is longstanding well - established - well - . <eos>\n",
      "BLEU = 0.530362\n",
      "------\n",
      "INPUT:\n",
      "<sos> 这是 历史 大趋势 . <eos>\n",
      "REF:\n",
      "<sos> this is a major historical trend . <eos>\n",
      "PREDICTION:\n",
      "<sos> this is a major historical trend . <eos>\n",
      "BLEU = 1.000000\n",
      "------\n"
     ]
    },
    {
     "name": "stderr",
     "output_type": "stream",
     "text": [
      "  0%|          | 85/77083 [00:17<4:38:33,  4.61it/s]"
     ]
    },
    {
     "name": "stdout",
     "output_type": "stream",
     "text": [
      "INPUT:\n",
      "<sos> 碑 ( 一 ) <eos>\n",
      "REF:\n",
      "<sos> transporting western gas to the east . <eos>\n",
      "PREDICTION:\n",
      "<sos> transporting western gas to the east . <eos>\n",
      "BLEU = 1.000000\n",
      "------\n",
      "INPUT:\n",
      "<sos> 早上 审理 午后 宣判 <eos>\n",
      "REF:\n",
      "<sos> the decision had already been made . <eos>\n",
      "PREDICTION:\n",
      "<sos> the decision had already been made . <eos>\n",
      "BLEU = 1.000000\n",
      "------\n"
     ]
    },
    {
     "name": "stderr",
     "output_type": "stream",
     "text": [
      "\r",
      "  0%|          | 86/77083 [00:17<3:56:05,  5.44it/s]"
     ]
    },
    {
     "name": "stdout",
     "output_type": "stream",
     "text": [
      "INPUT:\n",
      "<sos> \" 起飞 ! \" <eos>\n",
      "REF:\n",
      "<sos> \" take off ! \" <eos>\n",
      "PREDICTION:\n",
      "<sos> \" take off ! \" <eos>\n",
      "BLEU = 1.000000\n",
      "------\n"
     ]
    },
    {
     "name": "stderr",
     "output_type": "stream",
     "text": [
      "  0%|          | 88/77083 [00:17<4:30:09,  4.75it/s]"
     ]
    },
    {
     "name": "stdout",
     "output_type": "stream",
     "text": [
      "INPUT:\n",
      "<sos> 互联网 也 如此 . <eos>\n",
      "REF:\n",
      "<sos> this is also the case with the internet . <eos>\n",
      "PREDICTION:\n",
      "<sos> this is also the case with the internet . <eos>\n",
      "BLEU = 1.000000\n",
      "------\n",
      "INPUT:\n",
      "<sos> \" 一百万 人次 ? <eos>\n",
      "REF:\n",
      "<sos> did they say one million people ? <eos>\n",
      "PREDICTION:\n",
      "<sos> did they say one million people ? <eos>\n",
      "BLEU = 1.000000\n",
      "------\n"
     ]
    },
    {
     "name": "stderr",
     "output_type": "stream",
     "text": [
      "\r",
      "  0%|          | 89/77083 [00:17<3:49:19,  5.60it/s]"
     ]
    },
    {
     "name": "stdout",
     "output_type": "stream",
     "text": [
      "INPUT:\n",
      "<sos> 团结 就是 力量 . <eos>\n",
      "REF:\n",
      "<sos> unity means strength . <eos>\n",
      "PREDICTION:\n",
      "<sos> unity means strength . <eos>\n",
      "BLEU = 1.000000\n",
      "------\n"
     ]
    },
    {
     "name": "stderr",
     "output_type": "stream",
     "text": [
      "  0%|          | 91/77083 [00:18<4:03:43,  5.26it/s]"
     ]
    },
    {
     "name": "stdout",
     "output_type": "stream",
     "text": [
      "INPUT:\n",
      "<sos> 经济效益 明显 提高 . <eos>\n",
      "REF:\n",
      "<sos> there was a pronounced increase in economic efficiency . <eos>\n",
      "PREDICTION:\n",
      "<sos> there was a pronounced increase in economic efficiency . <eos>\n",
      "BLEU = 1.000000\n",
      "------\n",
      "INPUT:\n",
      "<sos> 先进 在 哪里 ? <eos>\n",
      "REF:\n",
      "<sos> what is so advanced about it ? <eos>\n",
      "PREDICTION:\n",
      "<sos> what is the advanced about it ? <eos>\n",
      "BLEU = 0.596949\n",
      "------\n"
     ]
    },
    {
     "name": "stderr",
     "output_type": "stream",
     "text": [
      "  0%|          | 93/77083 [00:18<4:35:00,  4.67it/s]"
     ]
    },
    {
     "name": "stdout",
     "output_type": "stream",
     "text": [
      "INPUT:\n",
      "<sos> 乙 : 是的 . <eos>\n",
      "REF:\n",
      "<sos> b : true . <eos>\n",
      "PREDICTION:\n",
      "<sos> b : true . <eos>\n",
      "BLEU = 1.000000\n",
      "------\n",
      "INPUT:\n",
      "<sos> 这样的 事例 很多 . <eos>\n",
      "REF:\n",
      "<sos> there are many such examples . <eos>\n",
      "PREDICTION:\n",
      "<sos> there are many such examples . <eos>\n",
      "BLEU = 1.000000\n",
      "------\n"
     ]
    },
    {
     "name": "stderr",
     "output_type": "stream",
     "text": [
      "  0%|          | 95/77083 [00:19<4:24:35,  4.85it/s]"
     ]
    },
    {
     "name": "stdout",
     "output_type": "stream",
     "text": [
      "INPUT:\n",
      "<sos> 开局 关系 全局 . <eos>\n",
      "REF:\n",
      "<sos> a start has a bearing on the overall situation . <eos>\n",
      "PREDICTION:\n",
      "<sos> a start has a bearing on the overall situation . <eos>\n",
      "BLEU = 1.000000\n",
      "------\n",
      "INPUT:\n",
      "<sos> 太空 电子 侦察 . <eos>\n",
      "REF:\n",
      "<sos> space electronic reconnaisance . <eos>\n",
      "PREDICTION:\n",
      "<sos> space electronic reconnaisance . <eos>\n",
      "BLEU = 1.000000\n",
      "------\n"
     ]
    },
    {
     "name": "stderr",
     "output_type": "stream",
     "text": [
      "\r",
      "  0%|          | 96/77083 [00:19<4:29:53,  4.75it/s]"
     ]
    },
    {
     "name": "stdout",
     "output_type": "stream",
     "text": [
      "INPUT:\n",
      "<sos> 中非 友好 源远流长 . <eos>\n",
      "REF:\n",
      "<sos> friendship between china and africa enjoys a long history . <eos>\n",
      "PREDICTION:\n",
      "<sos> friendship between china and africa enjoys a long history . <eos>\n",
      "BLEU = 1.000000\n",
      "------\n"
     ]
    },
    {
     "name": "stderr",
     "output_type": "stream",
     "text": [
      "  0%|          | 98/77083 [00:19<4:07:40,  5.18it/s]"
     ]
    },
    {
     "name": "stdout",
     "output_type": "stream",
     "text": [
      "INPUT:\n",
      "<sos> 民进党 不必 说 . <eos>\n",
      "REF:\n",
      "<sos> there is no need to talk about the dpp . <eos>\n",
      "PREDICTION:\n",
      "<sos> there is no need to talk about the dpp . <eos>\n",
      "BLEU = 1.000000\n",
      "------\n",
      "INPUT:\n",
      "<sos> ( 记者 何涛 ) <eos>\n",
      "REF:\n",
      "<sos> ( by reporter he tao ) <eos>\n",
      "PREDICTION:\n",
      "<sos> ( by reporter he tao ) <eos>\n",
      "BLEU = 1.000000\n",
      "------\n"
     ]
    },
    {
     "name": "stderr",
     "output_type": "stream",
     "text": [
      "\r",
      "  0%|          | 99/77083 [00:20<4:52:22,  4.39it/s]"
     ]
    },
    {
     "name": "stdout",
     "output_type": "stream",
     "text": [
      "INPUT:\n",
      "<sos> 更加 重视 整体 高效 <eos>\n",
      "REF:\n",
      "<sos> even greater importance has been attached to the overall efficiency . <eos>\n",
      "PREDICTION:\n",
      "<sos> even greater importance has been attached to the overall efficiency . <eos>\n",
      "BLEU = 1.000000\n",
      "------\n",
      "INPUT:\n",
      "<sos> \" 没有 . \" <eos>\n",
      "REF:\n",
      "<sos> \" no. \" <eos>\n",
      "PREDICTION:\n",
      "<sos> \" no. \" <eos>\n",
      "BLEU = 1.000000\n",
      "------\n"
     ]
    },
    {
     "name": "stderr",
     "output_type": "stream",
     "text": [
      "\r",
      "  0%|          | 101/77083 [00:20<4:19:04,  4.95it/s]"
     ]
    },
    {
     "name": "stdout",
     "output_type": "stream",
     "text": [
      "INPUT:\n",
      "<sos> 打击 金融 犯罪 . <eos>\n",
      "REF:\n",
      "<sos> fighting financial crimes . <eos>\n",
      "PREDICTION:\n",
      "<sos> fighting financial crimes . <eos>\n",
      "BLEU = 1.000000\n",
      "------\n"
     ]
    },
    {
     "name": "stderr",
     "output_type": "stream",
     "text": [
      "\r",
      "  0%|          | 102/77083 [00:20<4:22:38,  4.89it/s]"
     ]
    },
    {
     "name": "stdout",
     "output_type": "stream",
     "text": [
      "INPUT:\n",
      "<sos> 再 看 中国 . <eos>\n",
      "REF:\n",
      "<sos> now let us take a look at china . <eos>\n",
      "PREDICTION:\n",
      "<sos> now let us take a look at china . <eos>\n",
      "BLEU = 1.000000\n",
      "------\n"
     ]
    },
    {
     "name": "stderr",
     "output_type": "stream",
     "text": [
      "\r",
      "  0%|          | 103/77083 [00:20<4:23:31,  4.87it/s]"
     ]
    },
    {
     "name": "stdout",
     "output_type": "stream",
     "text": [
      "INPUT:\n",
      "<sos> \" 识时务者为俊杰 \" . <eos>\n",
      "REF:\n",
      "<sos> \" a wise man submits to circumstances . \" <eos>\n",
      "PREDICTION:\n",
      "<sos> \" a wise man submits circumstances . \" <eos>\n",
      "BLEU = 0.710867\n",
      "------\n"
     ]
    },
    {
     "name": "stderr",
     "output_type": "stream",
     "text": [
      "\r",
      "  0%|          | 104/77083 [00:21<4:53:40,  4.37it/s]"
     ]
    },
    {
     "name": "stdout",
     "output_type": "stream",
     "text": [
      "INPUT:\n",
      "<sos> 这些 都是 事实 . <eos>\n",
      "REF:\n",
      "<sos> all of these are facts . <eos>\n",
      "PREDICTION:\n",
      "<sos> all of these facts are facts . <eos>\n",
      "BLEU = 0.596949\n",
      "------\n"
     ]
    },
    {
     "name": "stderr",
     "output_type": "stream",
     "text": [
      "\r",
      "  0%|          | 105/77083 [00:21<4:43:47,  4.52it/s]"
     ]
    },
    {
     "name": "stdout",
     "output_type": "stream",
     "text": [
      "INPUT:\n",
      "<sos> ( 记者 李南玲 ) <eos>\n",
      "REF:\n",
      "<sos> ( reported by reporter li nanling ) <eos>\n",
      "PREDICTION:\n",
      "<sos> ( reported by reporter li nanling ) <eos>\n",
      "BLEU = 1.000000\n",
      "------\n"
     ]
    },
    {
     "name": "stderr",
     "output_type": "stream",
     "text": [
      "  0%|          | 107/77083 [00:21<4:31:00,  4.73it/s]"
     ]
    },
    {
     "name": "stdout",
     "output_type": "stream",
     "text": [
      "INPUT:\n",
      "<sos> 二 无法 应付 持久战 <eos>\n",
      "REF:\n",
      "<sos> taiwan is unable to cope with protracted war . <eos>\n",
      "PREDICTION:\n",
      "<sos> taiwan is unable to cope with protracted war . <eos>\n",
      "BLEU = 1.000000\n",
      "------\n",
      "INPUT:\n",
      "<sos> 李系政团 实力 究竟 如何 <eos>\n",
      "REF:\n",
      "<sos> what is true power of lee political group ? <eos>\n",
      "PREDICTION:\n",
      "<sos> what is true power political group ? <eos>\n",
      "BLEU = 0.598691\n",
      "------\n"
     ]
    },
    {
     "name": "stderr",
     "output_type": "stream",
     "text": [
      "  0%|          | 109/77083 [00:22<4:21:00,  4.92it/s]"
     ]
    },
    {
     "name": "stdout",
     "output_type": "stream",
     "text": [
      "INPUT:\n",
      "<sos> 第二 , 不怕 . <eos>\n",
      "REF:\n",
      "<sos> second , we will not be afraid . <eos>\n",
      "PREDICTION:\n",
      "<sos> second , we will not be afraid . <eos>\n",
      "BLEU = 1.000000\n",
      "------\n",
      "INPUT:\n",
      "<sos> \" 中等 . \" <eos>\n",
      "REF:\n",
      "<sos> \" in the middle . \" <eos>\n",
      "PREDICTION:\n",
      "<sos> \" in the middle . \" <eos>\n",
      "BLEU = 1.000000\n",
      "------\n"
     ]
    },
    {
     "name": "stderr",
     "output_type": "stream",
     "text": [
      "\r",
      "  0%|          | 110/77083 [00:22<4:26:15,  4.82it/s]"
     ]
    },
    {
     "name": "stdout",
     "output_type": "stream",
     "text": [
      "INPUT:\n",
      "<sos> 系统 配套 转化 . <eos>\n",
      "REF:\n",
      "<sos> the transformation to systematic , complete sets . <eos>\n",
      "PREDICTION:\n",
      "<sos> the transformation of systematic , complete sets be complete . <eos>\n",
      "BLEU = 0.341723\n",
      "------\n",
      "INPUT:\n",
      "<sos> 前途 在 哪里 ? <eos>\n",
      "REF:\n",
      "<sos> where did china 's future lie ? <eos>\n",
      "PREDICTION:\n",
      "<sos> where did china 's future lie ? <eos>\n",
      "BLEU = 1.000000\n",
      "------\n"
     ]
    },
    {
     "name": "stderr",
     "output_type": "stream",
     "text": [
      "\r",
      "  0%|          | 112/77083 [00:22<4:20:45,  4.92it/s]"
     ]
    },
    {
     "name": "stdout",
     "output_type": "stream",
     "text": [
      "INPUT:\n",
      "<sos> 建立 自卫 措施 . <eos>\n",
      "REF:\n",
      "<sos> we must establish self - defense measures . <eos>\n",
      "PREDICTION:\n",
      "<sos> we must establish self - defense measures . <eos>\n",
      "BLEU = 1.000000\n",
      "------\n"
     ]
    },
    {
     "name": "stderr",
     "output_type": "stream",
     "text": [
      "  0%|          | 114/77083 [00:23<4:16:44,  5.00it/s]"
     ]
    },
    {
     "name": "stdout",
     "output_type": "stream",
     "text": [
      "INPUT:\n",
      "<sos> 秋高气爽 的 北京 . <eos>\n",
      "REF:\n",
      "<sos> it was a clear and crisp autumn day in beijing . <eos>\n",
      "PREDICTION:\n",
      "<sos> it was a clear and crisp autumn day in beijing . <eos>\n",
      "BLEU = 1.000000\n",
      "------\n",
      "INPUT:\n",
      "<sos> -- 产业 定位 . <eos>\n",
      "REF:\n",
      "<sos> - - industrial orientation . <eos>\n",
      "PREDICTION:\n",
      "<sos> - - industrial orientation . <eos>\n",
      "BLEU = 1.000000\n",
      "------\n"
     ]
    },
    {
     "name": "stderr",
     "output_type": "stream",
     "text": [
      "\r",
      "  0%|          | 115/77083 [00:23<4:55:24,  4.34it/s]"
     ]
    },
    {
     "name": "stdout",
     "output_type": "stream",
     "text": [
      "INPUT:\n",
      "<sos> 何谓 世界 经济一体化 ? <eos>\n",
      "REF:\n",
      "<sos> what is world economic integration ? <eos>\n",
      "PREDICTION:\n",
      "<sos> what is the economic integration ? <eos>\n",
      "BLEU = 0.500000\n",
      "------\n"
     ]
    },
    {
     "name": "stderr",
     "output_type": "stream",
     "text": [
      "\r",
      "  0%|          | 116/77083 [00:23<4:45:43,  4.49it/s]"
     ]
    },
    {
     "name": "stdout",
     "output_type": "stream",
     "text": [
      "INPUT:\n",
      "<sos> 二十一世纪 已经 到来 . <eos>\n",
      "REF:\n",
      "<sos> the 21 st century has arrived . <eos>\n",
      "PREDICTION:\n",
      "<sos> the 21 st century has arrived . <eos>\n",
      "BLEU = 1.000000\n",
      "------\n"
     ]
    },
    {
     "name": "stderr",
     "output_type": "stream",
     "text": [
      "  0%|          | 118/77083 [00:23<4:28:03,  4.79it/s]"
     ]
    },
    {
     "name": "stdout",
     "output_type": "stream",
     "text": [
      "INPUT:\n",
      "<sos> 货运 大幅度 回升 . <eos>\n",
      "REF:\n",
      "<sos> freight transport has increased by a big margin . <eos>\n",
      "PREDICTION:\n",
      "<sos> freight transport has increased by a big margin . <eos>\n",
      "BLEU = 1.000000\n",
      "------\n",
      "INPUT:\n",
      "<sos> 历史 评价 为何 ? <eos>\n",
      "REF:\n",
      "<sos> how does history assess the guidelines ? <eos>\n",
      "PREDICTION:\n",
      "<sos> how does the assess history guidelines ? <eos>\n",
      "BLEU = 0.614788\n",
      "------\n"
     ]
    },
    {
     "name": "stderr",
     "output_type": "stream",
     "text": [
      "\r",
      "  0%|          | 119/77083 [00:24<5:08:02,  4.16it/s]"
     ]
    },
    {
     "name": "stdout",
     "output_type": "stream",
     "text": [
      "INPUT:\n",
      "<sos> 将 越来越 大 . <eos>\n",
      "REF:\n",
      "<sos> the extent of this support has become greater and greater . <eos>\n",
      "PREDICTION:\n",
      "<sos> the extent of this will become greater greater greater . <eos>\n",
      "BLEU = 0.428698\n",
      "------\n"
     ]
    },
    {
     "name": "stderr",
     "output_type": "stream",
     "text": [
      "\r",
      "  0%|          | 120/77083 [00:24<5:26:00,  3.93it/s]"
     ]
    },
    {
     "name": "stdout",
     "output_type": "stream",
     "text": [
      "INPUT:\n",
      "<sos> ( 王玉琪 李浩 ) <eos>\n",
      "REF:\n",
      "<sos> ( report by wang yuqi and li hao ) <eos>\n",
      "PREDICTION:\n",
      "<sos> ( report by wang yuqi and li hao ) . <eos>\n",
      "BLEU = 0.826517\n",
      "------\n"
     ]
    },
    {
     "name": "stderr",
     "output_type": "stream",
     "text": [
      "  0%|          | 122/77083 [00:24<4:51:16,  4.40it/s]"
     ]
    },
    {
     "name": "stdout",
     "output_type": "stream",
     "text": [
      "INPUT:\n",
      "<sos> 顺之者昌 , 逆之者亡 . <eos>\n",
      "REF:\n",
      "<sos> those who submit , prosper . <eos>\n",
      "PREDICTION:\n",
      "<sos> those who submit , prosper . <eos>\n",
      "BLEU = 1.000000\n",
      "------\n",
      "INPUT:\n",
      "<sos> 会上 气氛 热烈 . <eos>\n",
      "REF:\n",
      "<sos> the meeting was permeated with a warm atmosphere . <eos>\n",
      "PREDICTION:\n",
      "<sos> the meeting was permeated with a warm atmosphere . <eos>\n",
      "BLEU = 1.000000\n",
      "------\n"
     ]
    },
    {
     "name": "stderr",
     "output_type": "stream",
     "text": [
      "  0%|          | 124/77083 [00:25<4:32:37,  4.70it/s]"
     ]
    },
    {
     "name": "stdout",
     "output_type": "stream",
     "text": [
      "INPUT:\n",
      "<sos> -- 体制 定位 . <eos>\n",
      "REF:\n",
      "<sos> - - structural orientation . <eos>\n",
      "PREDICTION:\n",
      "<sos> - - structural orientation . <eos>\n",
      "BLEU = 1.000000\n",
      "------\n",
      "INPUT:\n",
      "<sos> ( 刘静 刘红英 ) <eos>\n",
      "REF:\n",
      "<sos> ( liu jing and liu hongying ) <eos>\n",
      "PREDICTION:\n",
      "<sos> ( liu jing and liu hongying ) <eos>\n",
      "BLEU = 1.000000\n",
      "------\n"
     ]
    },
    {
     "name": "stderr",
     "output_type": "stream",
     "text": [
      "  0%|          | 126/77083 [00:25<4:23:08,  4.87it/s]"
     ]
    },
    {
     "name": "stdout",
     "output_type": "stream",
     "text": [
      "INPUT:\n",
      "<sos> 两 大 不同 . <eos>\n",
      "REF:\n",
      "<sos> there are two major differences . <eos>\n",
      "PREDICTION:\n",
      "<sos> there are two major differences . <eos>\n",
      "BLEU = 1.000000\n",
      "------\n",
      "INPUT:\n",
      "<sos> 有没有 其他 含义 ? <eos>\n",
      "REF:\n",
      "<sos> is there any other implications ? <eos>\n",
      "PREDICTION:\n",
      "<sos> is any other implications ? <eos>\n",
      "BLEU = 0.612975\n",
      "------\n"
     ]
    },
    {
     "name": "stderr",
     "output_type": "stream",
     "text": [
      "  0%|          | 128/77083 [00:26<4:20:01,  4.93it/s]"
     ]
    },
    {
     "name": "stdout",
     "output_type": "stream",
     "text": [
      "INPUT:\n",
      "<sos> 科学研究 成果 丰硕 . <eos>\n",
      "REF:\n",
      "<sos> rich research results have also been scored . <eos>\n",
      "PREDICTION:\n",
      "<sos> rich research results have also been scored . <eos>\n",
      "BLEU = 1.000000\n",
      "------\n",
      "INPUT:\n",
      "<sos> 经济效益 显著 改善 . <eos>\n",
      "REF:\n",
      "<sos> economic efficiency is markedly improved . <eos>\n",
      "PREDICTION:\n",
      "<sos> economic efficiency is markedly improved . <eos>\n",
      "BLEU = 1.000000\n",
      "------\n"
     ]
    },
    {
     "name": "stderr",
     "output_type": "stream",
     "text": [
      "  0%|          | 130/77083 [00:26<4:17:54,  4.97it/s]"
     ]
    },
    {
     "name": "stdout",
     "output_type": "stream",
     "text": [
      "INPUT:\n",
      "<sos> 钱其琛 表示 赞同 . <eos>\n",
      "REF:\n",
      "<sos> qian qichen agreed to this . <eos>\n",
      "PREDICTION:\n",
      "<sos> qian qichen agreed to this . <eos>\n",
      "BLEU = 1.000000\n",
      "------\n",
      "INPUT:\n",
      "<sos> 那里 非常 拥挤 . <eos>\n",
      "REF:\n",
      "<sos> it was extremely crowded in there . <eos>\n",
      "PREDICTION:\n",
      "<sos> it was extremely crowded in there . <eos>\n",
      "BLEU = 1.000000\n",
      "------\n"
     ]
    },
    {
     "name": "stderr",
     "output_type": "stream",
     "text": [
      "  0%|          | 132/77083 [00:26<4:17:33,  4.98it/s]"
     ]
    },
    {
     "name": "stdout",
     "output_type": "stream",
     "text": [
      "INPUT:\n",
      "<sos> 事实 胜 於雄辩 . <eos>\n",
      "REF:\n",
      "<sos> facts speak louder than words . <eos>\n",
      "PREDICTION:\n",
      "<sos> facts speak louder than words . <eos>\n",
      "BLEU = 1.000000\n",
      "------\n",
      "INPUT:\n",
      "<sos> 这就是 生产 全球化 . <eos>\n",
      "REF:\n",
      "<sos> this is the globalization of production . <eos>\n",
      "PREDICTION:\n",
      "<sos> this is the globalization of production . <eos>\n",
      "BLEU = 1.000000\n",
      "------\n"
     ]
    },
    {
     "name": "stderr",
     "output_type": "stream",
     "text": [
      "  0%|          | 134/77083 [00:27<4:15:27,  5.02it/s]"
     ]
    },
    {
     "name": "stdout",
     "output_type": "stream",
     "text": [
      "INPUT:\n",
      "<sos> 莫斯科 天气 晴朗 . <eos>\n",
      "REF:\n",
      "<sos> this was a fine , sunny day in moscow . <eos>\n",
      "PREDICTION:\n",
      "<sos> this was a fine in sunny day . <eos>\n",
      "BLEU = 0.423262\n",
      "------\n",
      "INPUT:\n",
      "<sos> 这是 不可能 的 . <eos>\n",
      "REF:\n",
      "<sos> this is not possible . <eos>\n",
      "PREDICTION:\n",
      "<sos> this is not possible . <eos>\n",
      "BLEU = 1.000000\n",
      "------\n"
     ]
    },
    {
     "name": "stderr",
     "output_type": "stream",
     "text": [
      "  0%|          | 136/77083 [00:27<4:16:04,  5.01it/s]"
     ]
    },
    {
     "name": "stdout",
     "output_type": "stream",
     "text": [
      "INPUT:\n",
      "<sos> 高度 重视 管理 . <eos>\n",
      "REF:\n",
      "<sos> attach great importance to management . <eos>\n",
      "PREDICTION:\n",
      "<sos> attach great importance to management . <eos>\n",
      "BLEU = 1.000000\n",
      "------\n",
      "INPUT:\n",
      "<sos> 指 技 合一 . <eos>\n",
      "REF:\n",
      "<sos> command - technical integration . <eos>\n",
      "PREDICTION:\n",
      "<sos> command - technical integration . <eos>\n",
      "BLEU = 1.000000\n",
      "------\n"
     ]
    },
    {
     "name": "stderr",
     "output_type": "stream",
     "text": [
      "  0%|          | 138/77083 [00:28<4:16:08,  5.01it/s]"
     ]
    },
    {
     "name": "stdout",
     "output_type": "stream",
     "text": [
      "INPUT:\n",
      "<sos> 如何 统领 呢 ? <eos>\n",
      "REF:\n",
      "<sos> how should it be governed ? <eos>\n",
      "PREDICTION:\n",
      "<sos> how should it be governed ? <eos>\n",
      "BLEU = 1.000000\n",
      "------\n",
      "INPUT:\n",
      "<sos> 皇 国史 观 . <eos>\n",
      "REF:\n",
      "<sos> imperial state view . <eos>\n",
      "PREDICTION:\n",
      "<sos> imperial state view . <eos>\n",
      "BLEU = 1.000000\n",
      "------\n"
     ]
    },
    {
     "name": "stderr",
     "output_type": "stream",
     "text": [
      "\r",
      "  0%|          | 139/77083 [00:28<4:19:01,  4.95it/s]"
     ]
    },
    {
     "name": "stdout",
     "output_type": "stream",
     "text": [
      "INPUT:\n",
      "<sos> 美俄 摩擦 难免 . <eos>\n",
      "REF:\n",
      "<sos> a russian - us conflict is hard to avoid . <eos>\n",
      "PREDICTION:\n",
      "<sos> a russian - us conflict is hard to avoid . <eos>\n",
      "BLEU = 1.000000\n",
      "------\n"
     ]
    },
    {
     "name": "stderr",
     "output_type": "stream",
     "text": [
      "  0%|          | 141/77083 [00:28<4:13:10,  5.07it/s]"
     ]
    },
    {
     "name": "stdout",
     "output_type": "stream",
     "text": [
      "INPUT:\n",
      "<sos> 农民 增收 困难 . <eos>\n",
      "REF:\n",
      "<sos> it is difficult for the peasants to increase income . <eos>\n",
      "PREDICTION:\n",
      "<sos> it is difficult for the peasants to increase income . <eos>\n",
      "BLEU = 1.000000\n",
      "------\n",
      "INPUT:\n",
      "<sos> 北京 导弹 基地 开放 <eos>\n",
      "REF:\n",
      "<sos> \" ready ! go ! \" <eos>\n",
      "PREDICTION:\n",
      "<sos> \" ready ! \" <eos>\n",
      "BLEU = 0.506664\n",
      "------\n"
     ]
    },
    {
     "name": "stderr",
     "output_type": "stream",
     "text": [
      "\r",
      "  0%|          | 142/77083 [00:28<4:15:04,  5.03it/s]"
     ]
    },
    {
     "name": "stdout",
     "output_type": "stream",
     "text": [
      "INPUT:\n",
      "<sos> 同志们 , 朋友们 ! <eos>\n",
      "REF:\n",
      "<sos> comrades , friends ! <eos>\n",
      "PREDICTION:\n",
      "<sos> comrades , friends ! <eos>\n",
      "BLEU = 1.000000\n",
      "------\n"
     ]
    },
    {
     "name": "stderr",
     "output_type": "stream",
     "text": [
      "\r",
      "  0%|          | 143/77083 [00:29<4:16:01,  5.01it/s]"
     ]
    },
    {
     "name": "stdout",
     "output_type": "stream",
     "text": [
      "INPUT:\n",
      "<sos> 掌握 数千 基层 骨干 <eos>\n",
      "REF:\n",
      "<sos> grasp a few thousand backbone basic level members . <eos>\n",
      "PREDICTION:\n",
      "<sos> grasp a few thousand backbone members level . <eos>\n",
      "BLEU = 0.556283\n",
      "------\n"
     ]
    },
    {
     "name": "stderr",
     "output_type": "stream",
     "text": [
      "  0%|          | 145/77083 [00:29<4:16:08,  5.01it/s]"
     ]
    },
    {
     "name": "stdout",
     "output_type": "stream",
     "text": [
      "INPUT:\n",
      "<sos> nmd 将 何去何从 ? <eos>\n",
      "REF:\n",
      "<sos> where will the nmd go from here ? <eos>\n",
      "PREDICTION:\n",
      "<sos> where will the nmd will go here ? <eos>\n",
      "BLEU = 0.541082\n",
      "------\n",
      "INPUT:\n",
      "<sos> 军国主义 会不会 死灰复燃 ? <eos>\n",
      "REF:\n",
      "<sos> will its militarism resurrect ? <eos>\n",
      "PREDICTION:\n",
      "<sos> will its militarism resurrect ? <eos>\n",
      "BLEU = 1.000000\n",
      "------\n"
     ]
    },
    {
     "name": "stderr",
     "output_type": "stream",
     "text": [
      "  0%|          | 147/77083 [00:29<4:15:28,  5.02it/s]"
     ]
    },
    {
     "name": "stdout",
     "output_type": "stream",
     "text": [
      "INPUT:\n",
      "<sos> 水下 搜集 情报 . <eos>\n",
      "REF:\n",
      "<sos> underwater intelligence collection . <eos>\n",
      "PREDICTION:\n",
      "<sos> underwater intelligence collection . <eos>\n",
      "BLEU = 1.000000\n",
      "------\n",
      "INPUT:\n",
      "<sos> 很 中国 ? \" <eos>\n",
      "REF:\n",
      "<sos> very chinese ? \" <eos>\n",
      "PREDICTION:\n",
      "<sos> very chinese ? \" <eos>\n",
      "BLEU = 1.000000\n",
      "------\n"
     ]
    },
    {
     "name": "stderr",
     "output_type": "stream",
     "text": [
      "  0%|          | 149/77083 [00:30<4:15:41,  5.01it/s]"
     ]
    },
    {
     "name": "stdout",
     "output_type": "stream",
     "text": [
      "INPUT:\n",
      "<sos> 21世纪 即将 到来 . <eos>\n",
      "REF:\n",
      "<sos> the 21 st century is just around the corner . <eos>\n",
      "PREDICTION:\n",
      "<sos> the 21 st century is just around the corner . <eos>\n",
      "BLEU = 1.000000\n",
      "------\n",
      "INPUT:\n",
      "<sos> 世人 将 拭目以待 . <eos>\n",
      "REF:\n",
      "<sos> the world will wait and see . <eos>\n",
      "PREDICTION:\n",
      "<sos> the world will wait and see . <eos>\n",
      "BLEU = 1.000000\n",
      "------\n"
     ]
    },
    {
     "name": "stderr",
     "output_type": "stream",
     "text": [
      "\r",
      "  0%|          | 150/77083 [00:30<4:52:12,  4.39it/s]"
     ]
    },
    {
     "name": "stdout",
     "output_type": "stream",
     "text": [
      "INPUT:\n",
      "<sos> 凝聚 产生 力量 . <eos>\n",
      "REF:\n",
      "<sos> coherence engenders power . <eos>\n",
      "PREDICTION:\n",
      "<sos> coherence engenders power . <eos>\n",
      "BLEU = 1.000000\n",
      "------\n"
     ]
    },
    {
     "name": "stderr",
     "output_type": "stream",
     "text": [
      "\r",
      "  0%|          | 151/77083 [00:30<4:44:52,  4.50it/s]"
     ]
    },
    {
     "name": "stdout",
     "output_type": "stream",
     "text": [
      "INPUT:\n",
      "<sos> 参加 革命 为什麽 ? <eos>\n",
      "REF:\n",
      "<sos> what are the purposes of our lives ? <eos>\n",
      "PREDICTION:\n",
      "<sos> what are the purposes of our lives ? <eos>\n",
      "BLEU = 1.000000\n",
      "------\n"
     ]
    },
    {
     "name": "stderr",
     "output_type": "stream",
     "text": [
      "\r",
      "  0%|          | 152/77083 [00:31<4:38:00,  4.61it/s]"
     ]
    },
    {
     "name": "stdout",
     "output_type": "stream",
     "text": [
      "INPUT:\n",
      "<sos> 怎样 正确 认识 ? <eos>\n",
      "REF:\n",
      "<sos> how should we gain a correct understanding of the issue ? <eos>\n",
      "PREDICTION:\n",
      "<sos> how should we gain a correct understanding of the issue ? <eos>\n",
      "BLEU = 1.000000\n",
      "------\n"
     ]
    },
    {
     "name": "stderr",
     "output_type": "stream",
     "text": [
      "  0%|          | 154/77083 [00:31<4:49:58,  4.42it/s]"
     ]
    },
    {
     "name": "stdout",
     "output_type": "stream",
     "text": [
      "INPUT:\n",
      "<sos> 人们 回答 著 . <eos>\n",
      "REF:\n",
      "<sos> people in the western region started with ecological improvement . <eos>\n",
      "PREDICTION:\n",
      "<sos> people with the western region started with ecological improvement . <eos>\n",
      "BLEU = 0.769161\n",
      "------\n",
      "INPUT:\n",
      "<sos> 这 又是 为什麽 ? <eos>\n",
      "REF:\n",
      "<sos> again , why is that ? <eos>\n",
      "PREDICTION:\n",
      "<sos> again that why is the ? <eos>\n",
      "BLEU = 0.782542\n",
      "------\n"
     ]
    },
    {
     "name": "stderr",
     "output_type": "stream",
     "text": [
      "\r",
      "  0%|          | 155/77083 [00:31<4:39:32,  4.59it/s]"
     ]
    },
    {
     "name": "stdout",
     "output_type": "stream",
     "text": [
      "INPUT:\n",
      "<sos> 我 完全 赞同 . <eos>\n",
      "REF:\n",
      "<sos> and i completely agree . <eos>\n",
      "PREDICTION:\n",
      "<sos> i completely agree . <eos>\n",
      "BLEU = 0.673182\n",
      "------\n"
     ]
    },
    {
     "name": "stderr",
     "output_type": "stream",
     "text": [
      "  0%|          | 157/77083 [00:32<4:28:00,  4.78it/s]"
     ]
    },
    {
     "name": "stdout",
     "output_type": "stream",
     "text": [
      "INPUT:\n",
      "<sos> ( 记者 孙杰 ) <eos>\n",
      "REF:\n",
      "<sos> ( by reporter sun jie [ 1327 2638 ] ) <eos>\n",
      "PREDICTION:\n",
      "<sos> ( by reporter sun jie [ 1327 2638 ] ) <eos>\n",
      "BLEU = 1.000000\n",
      "------\n",
      "INPUT:\n",
      "<sos> 驻外 单位 搜集 资料 <eos>\n",
      "REF:\n",
      "<sos> institution functioning abroad collecting information . <eos>\n",
      "PREDICTION:\n",
      "<sos> institution functioning abroad collecting information . <eos>\n",
      "BLEU = 1.000000\n",
      "------\n"
     ]
    },
    {
     "name": "stderr",
     "output_type": "stream",
     "text": [
      "\r",
      "  0%|          | 158/77083 [00:32<5:04:37,  4.21it/s]"
     ]
    },
    {
     "name": "stdout",
     "output_type": "stream",
     "text": [
      "INPUT:\n",
      "<sos> 迟浩田 主持 座谈会 . <eos>\n",
      "REF:\n",
      "<sos> chi haotian presided over today 's meeting . <eos>\n",
      "PREDICTION:\n",
      "<sos> chi haotian presided over today 's meeting . <eos>\n",
      "BLEU = 1.000000\n",
      "------\n"
     ]
    },
    {
     "name": "stderr",
     "output_type": "stream",
     "text": [
      "  0%|          | 160/77083 [00:32<4:37:12,  4.62it/s]"
     ]
    },
    {
     "name": "stdout",
     "output_type": "stream",
     "text": [
      "INPUT:\n",
      "<sos> 第三十四 禁止 围湖造田 . <eos>\n",
      "REF:\n",
      "<sos> article 34 reclamation of land from a lake shall be prohibited . <eos>\n",
      "PREDICTION:\n",
      "<sos> article 34 reclamation of land from a land shall be prohibited . <eos>\n",
      "BLEU = 0.782542\n",
      "------\n",
      "INPUT:\n",
      "<sos> 恰当 驾驭 经济 . <eos>\n",
      "REF:\n",
      "<sos> appropriately control the economy . <eos>\n",
      "PREDICTION:\n",
      "<sos> appropriately control the economy . <eos>\n",
      "BLEU = 1.000000\n",
      "------\n"
     ]
    },
    {
     "name": "stderr",
     "output_type": "stream",
     "text": [
      "\r",
      "  0%|          | 161/77083 [00:33<5:11:07,  4.12it/s]"
     ]
    },
    {
     "name": "stdout",
     "output_type": "stream",
     "text": [
      "INPUT:\n",
      "<sos> 胡长清 也 不例外 . <eos>\n",
      "REF:\n",
      "<sos> hu changqing was no exception . <eos>\n",
      "PREDICTION:\n",
      "<sos> hu changqing was no exception . <eos>\n",
      "BLEU = 1.000000\n",
      "------\n"
     ]
    },
    {
     "ename": "KeyboardInterrupt",
     "evalue": "",
     "output_type": "error",
     "traceback": [
      "\u001b[0;31m---------------------------------------------------------------------------\u001b[0m",
      "\u001b[0;31mKeyboardInterrupt\u001b[0m                         Traceback (most recent call last)",
      "\u001b[0;32m<ipython-input-15-f4ea04ce58dd>\u001b[0m in \u001b[0;36m<module>\u001b[0;34m()\u001b[0m\n\u001b[1;32m      6\u001b[0m \u001b[0;32mfor\u001b[0m \u001b[0mtest_idx\u001b[0m \u001b[0;32min\u001b[0m \u001b[0mtqdm\u001b[0m\u001b[0;34m(\u001b[0m\u001b[0mrange\u001b[0m\u001b[0;34m(\u001b[0m\u001b[0mtest_range\u001b[0m\u001b[0;34m)\u001b[0m\u001b[0;34m)\u001b[0m\u001b[0;34m:\u001b[0m\u001b[0;34m\u001b[0m\u001b[0m\n\u001b[1;32m      7\u001b[0m     \u001b[0minput_batches\u001b[0m\u001b[0;34m,\u001b[0m \u001b[0minput_lengths\u001b[0m\u001b[0;34m,\u001b[0m        \u001b[0mtarget_batches\u001b[0m\u001b[0;34m,\u001b[0m \u001b[0mtarget_lengths\u001b[0m \u001b[0;34m=\u001b[0m \u001b[0mrandom_batch\u001b[0m\u001b[0;34m(\u001b[0m\u001b[0msrc\u001b[0m\u001b[0;34m,\u001b[0m\u001b[0mtgt\u001b[0m\u001b[0;34m,\u001b[0m\u001b[0mpairs\u001b[0m\u001b[0;34m,\u001b[0m\u001b[0;36m1\u001b[0m\u001b[0;34m,\u001b[0m\u001b[0mtest_idx\u001b[0m\u001b[0;34m)\u001b[0m\u001b[0;34m\u001b[0m\u001b[0m\n\u001b[0;32m----> 8\u001b[0;31m     \u001b[0m_\u001b[0m\u001b[0;34m,\u001b[0m \u001b[0mpred\u001b[0m \u001b[0;34m=\u001b[0m \u001b[0mnet\u001b[0m\u001b[0;34m.\u001b[0m\u001b[0minference\u001b[0m\u001b[0;34m(\u001b[0m\u001b[0minput_batches\u001b[0m\u001b[0;34m[\u001b[0m\u001b[0;34m:\u001b[0m\u001b[0;34m,\u001b[0m\u001b[0;36m0\u001b[0m\u001b[0;34m]\u001b[0m\u001b[0;34m.\u001b[0m\u001b[0mreshape\u001b[0m\u001b[0;34m(\u001b[0m\u001b[0minput_lengths\u001b[0m\u001b[0;34m[\u001b[0m\u001b[0;36m0\u001b[0m\u001b[0;34m]\u001b[0m\u001b[0;34m.\u001b[0m\u001b[0mitem\u001b[0m\u001b[0;34m(\u001b[0m\u001b[0;34m)\u001b[0m\u001b[0;34m,\u001b[0m\u001b[0;36m1\u001b[0m\u001b[0;34m)\u001b[0m\u001b[0;34m,\u001b[0m\u001b[0minput_lengths\u001b[0m\u001b[0;34m[\u001b[0m\u001b[0;36m0\u001b[0m\u001b[0;34m]\u001b[0m\u001b[0;34m.\u001b[0m\u001b[0mreshape\u001b[0m\u001b[0;34m(\u001b[0m\u001b[0;36m1\u001b[0m\u001b[0;34m)\u001b[0m\u001b[0;34m)\u001b[0m\u001b[0;34m\u001b[0m\u001b[0m\n\u001b[0m\u001b[1;32m      9\u001b[0m     \u001b[0minp\u001b[0m \u001b[0;34m=\u001b[0m \u001b[0;34m' '\u001b[0m\u001b[0;34m.\u001b[0m\u001b[0mjoin\u001b[0m\u001b[0;34m(\u001b[0m\u001b[0;34m[\u001b[0m\u001b[0msrc\u001b[0m\u001b[0;34m.\u001b[0m\u001b[0midx2w\u001b[0m\u001b[0;34m[\u001b[0m\u001b[0mt\u001b[0m\u001b[0;34m]\u001b[0m \u001b[0;32mfor\u001b[0m \u001b[0mt\u001b[0m \u001b[0;32min\u001b[0m \u001b[0minput_batches\u001b[0m\u001b[0;34m[\u001b[0m\u001b[0;34m:\u001b[0m\u001b[0;34m,\u001b[0m\u001b[0;36m0\u001b[0m\u001b[0;34m]\u001b[0m\u001b[0;34m.\u001b[0m\u001b[0mcpu\u001b[0m\u001b[0;34m(\u001b[0m\u001b[0;34m)\u001b[0m\u001b[0;34m.\u001b[0m\u001b[0mnumpy\u001b[0m\u001b[0;34m(\u001b[0m\u001b[0;34m)\u001b[0m\u001b[0;34m]\u001b[0m\u001b[0;34m)\u001b[0m\u001b[0;34m\u001b[0m\u001b[0m\n\u001b[1;32m     10\u001b[0m     \u001b[0mmt\u001b[0m \u001b[0;34m=\u001b[0m \u001b[0;34m' '\u001b[0m\u001b[0;34m.\u001b[0m\u001b[0mjoin\u001b[0m\u001b[0;34m(\u001b[0m\u001b[0;34m[\u001b[0m\u001b[0mtgt\u001b[0m\u001b[0;34m.\u001b[0m\u001b[0midx2w\u001b[0m\u001b[0;34m[\u001b[0m\u001b[0mt\u001b[0m\u001b[0;34m]\u001b[0m \u001b[0;32mfor\u001b[0m \u001b[0mt\u001b[0m \u001b[0;32min\u001b[0m \u001b[0mpred\u001b[0m \u001b[0;32mif\u001b[0m \u001b[0mt\u001b[0m\u001b[0;34m!=\u001b[0m \u001b[0mPAD_idx\u001b[0m\u001b[0;34m]\u001b[0m\u001b[0;34m)\u001b[0m\u001b[0;34m\u001b[0m\u001b[0m\n",
      "\u001b[0;32m<ipython-input-8-e9b9147da9c5>\u001b[0m in \u001b[0;36minference\u001b[0;34m(self, src, src_len, max_len)\u001b[0m\n\u001b[1;32m    147\u001b[0m         \u001b[0;32mfor\u001b[0m \u001b[0mt\u001b[0m \u001b[0;32min\u001b[0m \u001b[0mrange\u001b[0m\u001b[0;34m(\u001b[0m\u001b[0;36m1\u001b[0m\u001b[0;34m,\u001b[0m \u001b[0mmax_len\u001b[0m\u001b[0;34m)\u001b[0m\u001b[0;34m:\u001b[0m\u001b[0;34m\u001b[0m\u001b[0m\n\u001b[1;32m    148\u001b[0m             output, hidden, attn_weights = self.decoder(\n\u001b[0;32m--> 149\u001b[0;31m                     output, hidden, encoder_output)\n\u001b[0m\u001b[1;32m    150\u001b[0m             \u001b[0moutputs\u001b[0m\u001b[0;34m[\u001b[0m\u001b[0mt\u001b[0m\u001b[0;34m]\u001b[0m \u001b[0;34m=\u001b[0m \u001b[0moutput\u001b[0m\u001b[0;34m\u001b[0m\u001b[0m\n\u001b[1;32m    151\u001b[0m             \u001b[0mtop1\u001b[0m \u001b[0;34m=\u001b[0m \u001b[0moutput\u001b[0m\u001b[0;34m.\u001b[0m\u001b[0mdata\u001b[0m\u001b[0;34m.\u001b[0m\u001b[0mmax\u001b[0m\u001b[0;34m(\u001b[0m\u001b[0;36m1\u001b[0m\u001b[0;34m)\u001b[0m\u001b[0;34m[\u001b[0m\u001b[0;36m1\u001b[0m\u001b[0;34m]\u001b[0m\u001b[0;34m\u001b[0m\u001b[0m\n",
      "\u001b[0;32m/opt/conda/lib/python3.6/site-packages/torch/nn/modules/module.py\u001b[0m in \u001b[0;36m__call__\u001b[0;34m(self, *input, **kwargs)\u001b[0m\n\u001b[1;32m    475\u001b[0m             \u001b[0mresult\u001b[0m \u001b[0;34m=\u001b[0m \u001b[0mself\u001b[0m\u001b[0;34m.\u001b[0m\u001b[0m_slow_forward\u001b[0m\u001b[0;34m(\u001b[0m\u001b[0;34m*\u001b[0m\u001b[0minput\u001b[0m\u001b[0;34m,\u001b[0m \u001b[0;34m**\u001b[0m\u001b[0mkwargs\u001b[0m\u001b[0;34m)\u001b[0m\u001b[0;34m\u001b[0m\u001b[0m\n\u001b[1;32m    476\u001b[0m         \u001b[0;32melse\u001b[0m\u001b[0;34m:\u001b[0m\u001b[0;34m\u001b[0m\u001b[0m\n\u001b[0;32m--> 477\u001b[0;31m             \u001b[0mresult\u001b[0m \u001b[0;34m=\u001b[0m \u001b[0mself\u001b[0m\u001b[0;34m.\u001b[0m\u001b[0mforward\u001b[0m\u001b[0;34m(\u001b[0m\u001b[0;34m*\u001b[0m\u001b[0minput\u001b[0m\u001b[0;34m,\u001b[0m \u001b[0;34m**\u001b[0m\u001b[0mkwargs\u001b[0m\u001b[0;34m)\u001b[0m\u001b[0;34m\u001b[0m\u001b[0m\n\u001b[0m\u001b[1;32m    478\u001b[0m         \u001b[0;32mfor\u001b[0m \u001b[0mhook\u001b[0m \u001b[0;32min\u001b[0m \u001b[0mself\u001b[0m\u001b[0;34m.\u001b[0m\u001b[0m_forward_hooks\u001b[0m\u001b[0;34m.\u001b[0m\u001b[0mvalues\u001b[0m\u001b[0;34m(\u001b[0m\u001b[0;34m)\u001b[0m\u001b[0;34m:\u001b[0m\u001b[0;34m\u001b[0m\u001b[0m\n\u001b[1;32m    479\u001b[0m             \u001b[0mhook_result\u001b[0m \u001b[0;34m=\u001b[0m \u001b[0mhook\u001b[0m\u001b[0;34m(\u001b[0m\u001b[0mself\u001b[0m\u001b[0;34m,\u001b[0m \u001b[0minput\u001b[0m\u001b[0;34m,\u001b[0m \u001b[0mresult\u001b[0m\u001b[0;34m)\u001b[0m\u001b[0;34m\u001b[0m\u001b[0m\n",
      "\u001b[0;32m<ipython-input-8-e9b9147da9c5>\u001b[0m in \u001b[0;36mforward\u001b[0;34m(self, inputs, last_hidden, encoder_outputs)\u001b[0m\n\u001b[1;32m     90\u001b[0m         \u001b[0moutput\u001b[0m \u001b[0;34m=\u001b[0m \u001b[0moutput\u001b[0m\u001b[0;34m.\u001b[0m\u001b[0msqueeze\u001b[0m\u001b[0;34m(\u001b[0m\u001b[0;36m0\u001b[0m\u001b[0;34m)\u001b[0m  \u001b[0;31m# (1,B,N) -> (B,N)\u001b[0m\u001b[0;34m\u001b[0m\u001b[0m\n\u001b[1;32m     91\u001b[0m         \u001b[0mcontext\u001b[0m \u001b[0;34m=\u001b[0m \u001b[0mcontext\u001b[0m\u001b[0;34m.\u001b[0m\u001b[0msqueeze\u001b[0m\u001b[0;34m(\u001b[0m\u001b[0;36m0\u001b[0m\u001b[0;34m)\u001b[0m\u001b[0;34m\u001b[0m\u001b[0m\n\u001b[0;32m---> 92\u001b[0;31m         \u001b[0moutput\u001b[0m \u001b[0;34m=\u001b[0m \u001b[0mself\u001b[0m\u001b[0;34m.\u001b[0m\u001b[0mout\u001b[0m\u001b[0;34m(\u001b[0m\u001b[0mtorch\u001b[0m\u001b[0;34m.\u001b[0m\u001b[0mcat\u001b[0m\u001b[0;34m(\u001b[0m\u001b[0;34m[\u001b[0m\u001b[0moutput\u001b[0m\u001b[0;34m,\u001b[0m \u001b[0mcontext\u001b[0m\u001b[0;34m]\u001b[0m\u001b[0;34m,\u001b[0m \u001b[0;36m1\u001b[0m\u001b[0;34m)\u001b[0m\u001b[0;34m)\u001b[0m\u001b[0;34m\u001b[0m\u001b[0m\n\u001b[0m\u001b[1;32m     93\u001b[0m         \u001b[0moutput\u001b[0m \u001b[0;34m=\u001b[0m \u001b[0mF\u001b[0m\u001b[0;34m.\u001b[0m\u001b[0mlog_softmax\u001b[0m\u001b[0;34m(\u001b[0m\u001b[0moutput\u001b[0m\u001b[0;34m,\u001b[0m \u001b[0mdim\u001b[0m\u001b[0;34m=\u001b[0m\u001b[0;36m1\u001b[0m\u001b[0;34m)\u001b[0m\u001b[0;34m\u001b[0m\u001b[0m\n\u001b[1;32m     94\u001b[0m         \u001b[0;32mreturn\u001b[0m \u001b[0moutput\u001b[0m\u001b[0;34m,\u001b[0m \u001b[0mhidden\u001b[0m\u001b[0;34m,\u001b[0m \u001b[0mattn_weights\u001b[0m\u001b[0;34m\u001b[0m\u001b[0m\n",
      "\u001b[0;31mKeyboardInterrupt\u001b[0m: "
     ]
    }
   ],
   "source": [
    "from infer_eval import bleu\n",
    "\n",
    "net.eval()\n",
    "test_range = 77083\n",
    "ave_bleu = 0\n",
    "for test_idx in tqdm(range(test_range)):\n",
    "    input_batches, input_lengths,\\\n",
    "        target_batches, target_lengths = random_batch(src,tgt,pairs,1,test_idx)\n",
    "    _, pred = net.inference(input_batches[:,0].reshape(input_lengths[0].item(),1),input_lengths[0].reshape(1))\n",
    "    inp = ' '.join([src.idx2w[t] for t in input_batches[:,0].cpu().numpy()])\n",
    "    mt = ' '.join([tgt.idx2w[t] for t in pred if t!= PAD_idx])\n",
    "    ref = ' '.join([tgt.idx2w[t] for t in target_batches[:,0].cpu().numpy() if t != PAD_idx])\n",
    "    print('INPUT:\\n' + inp)\n",
    "    print('REF:\\n' + ref)\n",
    "    print('PREDICTION:\\n' + mt)\n",
    "    tmp_score = bleu([mt],[[ref]],4)\n",
    "    ave_bleu += tmp_score\n",
    "    print('BLEU = %f' % tmp_score)\n",
    "    print(\"------\")\n",
    "print('Average BLEU = '+str(ave_bleu/test_range))"
   ]
  },
  {
   "cell_type": "code",
   "execution_count": 21,
   "metadata": {},
   "outputs": [],
   "source": [
    "# 9620\n",
    "# ave_bleu 7439.091416571658"
   ]
  },
  {
   "cell_type": "markdown",
   "metadata": {},
   "source": [
    "# Check inference result of test data"
   ]
  },
  {
   "cell_type": "code",
   "execution_count": 13,
   "metadata": {},
   "outputs": [
    {
     "name": "stdout",
     "output_type": "stream",
     "text": [
      "Reading lines...\n",
      "Read 10000 sentence pairs\n",
      "Trimmed to 8572 sentence pairs\n",
      "Counting words...\n",
      "Counted words:\n",
      "chinese 17294\n",
      "english 13049\n",
      "chinese:\n",
      "Total words 17294\n",
      "After Trimming 17290\n",
      "Keep Ratio % 99.9768705909564\n",
      "english:\n",
      "Total words 13049\n",
      "After Trimming 13045\n",
      "Keep Ratio % 99.96934631006208\n",
      "['近年来 , 由于 受 社会上 不良 风气 的 影响 , 一些 领导干部 在 生活上 讲排场 , 比 阔气 , 贪图 享乐 , 奢侈 挥霍 .', 'in recent years , some leading cadres , under the influence of unhealthy practices in society , have gone in for ostentation and extravagance , indulged in a life of pleasure and comfort , or lived in luxury .']\n"
     ]
    }
   ],
   "source": [
    "test_src, test_tgt, test_pairs = prepareData('data/test.txt', 'english', 'chinese')\n",
    "test_src.trim()\n",
    "test_tgt.trim()\n",
    "print(random.choice(test_pairs))"
   ]
  },
  {
   "cell_type": "code",
   "execution_count": 14,
   "metadata": {},
   "outputs": [],
   "source": [
    "test_src.w2idx, test_src.idx2w, test_src.num = src.w2idx, src.idx2w, src.num\n",
    "test_tgt.w2idx, test_tgt.idx2w, test_tgt.num = tgt.w2idx, tgt.idx2w, tgt.num\n",
    "test_pairs.sort(key=lambda x: len(x[0].split()))"
   ]
  },
  {
   "cell_type": "code",
   "execution_count": null,
   "metadata": {},
   "outputs": [
    {
     "name": "stderr",
     "output_type": "stream",
     "text": [
      "  0%|          | 2/8572 [00:00<20:00,  7.14it/s]"
     ]
    },
    {
     "name": "stdout",
     "output_type": "stream",
     "text": [
      "INPUT:\n",
      "<sos> 时光 <unk> . <eos>\n",
      "REF:\n",
      "<sos> time really flies like a shuttle . <eos>\n",
      "PREDICTION:\n",
      "<sos> as a matter of fact . <eos>\n",
      "BLEU = 0.456227\n",
      "------\n",
      "INPUT:\n",
      "<sos> 分担 经费 . <eos>\n",
      "REF:\n",
      "<sos> sharing the expense . <eos>\n",
      "PREDICTION:\n",
      "<sos> there funds . <eos>\n",
      "BLEU = 0.509523\n",
      "------\n"
     ]
    },
    {
     "name": "stderr",
     "output_type": "stream",
     "text": [
      "\r",
      "  0%|          | 3/8572 [00:00<18:35,  7.68it/s]"
     ]
    },
    {
     "name": "stdout",
     "output_type": "stream",
     "text": [
      "INPUT:\n",
      "<sos> 中国 ! \" <eos>\n",
      "REF:\n",
      "<sos> china ! \" <eos>\n",
      "PREDICTION:\n",
      "<sos> \" china ! \" <eos>\n",
      "BLEU = 0.537285\n",
      "------\n"
     ]
    },
    {
     "name": "stderr",
     "output_type": "stream",
     "text": [
      "\r",
      "  0%|          | 4/8572 [00:00<26:17,  5.43it/s]"
     ]
    },
    {
     "name": "stdout",
     "output_type": "stream",
     "text": [
      "INPUT:\n",
      "<sos> 提高 素质 迫在眉睫 <eos>\n",
      "REF:\n",
      "<sos> this is the only way to succeed . <eos>\n",
      "PREDICTION:\n",
      "<sos> raising raising quality quality of raising the quality ? <eos>\n",
      "BLEU = 0.722657\n",
      "------\n",
      "INPUT:\n",
      "<sos> 权责 一体 . <eos>\n",
      "REF:\n",
      "<sos> integration of right and responsibility . <eos>\n",
      "PREDICTION:\n",
      "<sos> integration are . <eos>\n",
      "BLEU = 0.436454\n",
      "------\n"
     ]
    },
    {
     "name": "stderr",
     "output_type": "stream",
     "text": [
      "  0%|          | 7/8572 [00:01<25:28,  5.60it/s]"
     ]
    },
    {
     "name": "stdout",
     "output_type": "stream",
     "text": [
      "INPUT:\n",
      "<sos> 显然 不是 . <eos>\n",
      "REF:\n",
      "<sos> obvious not . <eos>\n",
      "PREDICTION:\n",
      "<sos> obviously , not is a . <eos>\n",
      "BLEU = 0.516973\n",
      "------\n",
      "INPUT:\n",
      "<sos> 你们 一定 能行 ! <eos>\n",
      "REF:\n",
      "<sos> you surely can do it ! <eos>\n",
      "PREDICTION:\n",
      "<sos> you you you you you ! <eos>\n",
      "BLEU = 0.614788\n",
      "------\n"
     ]
    },
    {
     "name": "stderr",
     "output_type": "stream",
     "text": [
      "  0%|          | 9/8572 [00:01<27:10,  5.25it/s]"
     ]
    },
    {
     "name": "stdout",
     "output_type": "stream",
     "text": [
      "INPUT:\n",
      "<sos> 王兆国 主持 座谈会 . <eos>\n",
      "REF:\n",
      "<sos> the symposium was presided over by wang zhaoguo . <eos>\n",
      "PREDICTION:\n",
      "<sos> wang zhaoguo 's forum . <eos>\n",
      "BLEU = 0.394475\n",
      "------\n",
      "INPUT:\n",
      "<sos> \" 继续 上学 . <eos>\n",
      "REF:\n",
      "<sos> \" i want to continue going to school . <eos>\n",
      "PREDICTION:\n",
      "<sos> continue to continue to the . <eos>\n",
      "BLEU = 0.467614\n",
      "------\n"
     ]
    },
    {
     "name": "stderr",
     "output_type": "stream",
     "text": [
      "\r",
      "  0%|          | 10/8572 [00:01<28:09,  5.07it/s]"
     ]
    },
    {
     "name": "stdout",
     "output_type": "stream",
     "text": [
      "INPUT:\n",
      "<sos> 伙 <unk> 长 受贿 <eos>\n",
      "REF:\n",
      "<sos> but , she refused to give specific details . <eos>\n",
      "PREDICTION:\n",
      "<sos> the group of a group for the will be . <eos>\n",
      "BLEU = 0.388273\n",
      "------\n"
     ]
    },
    {
     "name": "stderr",
     "output_type": "stream",
     "text": [
      "  0%|          | 12/8572 [00:02<30:46,  4.63it/s]"
     ]
    },
    {
     "name": "stdout",
     "output_type": "stream",
     "text": [
      "INPUT:\n",
      "<sos> 其 动机 何在 ? <eos>\n",
      "REF:\n",
      "<sos> what is their motive ? <eos>\n",
      "PREDICTION:\n",
      "<sos> what is the people of the people ? <eos>\n",
      "BLEU = 0.379918\n",
      "------\n",
      "INPUT:\n",
      "<sos> 果真 如此 吗 ? <eos>\n",
      "REF:\n",
      "<sos> is that really so ? <eos>\n",
      "PREDICTION:\n",
      "<sos> is really really really ? <eos>\n",
      "BLEU = 0.698534\n",
      "------\n"
     ]
    },
    {
     "name": "stderr",
     "output_type": "stream",
     "text": [
      "  0%|          | 14/8572 [00:02<32:49,  4.35it/s]"
     ]
    },
    {
     "name": "stdout",
     "output_type": "stream",
     "text": [
      "INPUT:\n",
      "<sos> 王恩茂 同志 永垂不朽 ! <eos>\n",
      "REF:\n",
      "<sos> eternal glory to comrade wang enmao ! <eos>\n",
      "PREDICTION:\n",
      "<sos> comrade chen comrades in the ! ! <eos>\n",
      "BLEU = 0.485492\n",
      "------\n",
      "INPUT:\n",
      "<sos> 内容 实在 发人深省 . <eos>\n",
      "REF:\n",
      "<sos> the content of this book is very thought - provoking . <eos>\n",
      "PREDICTION:\n",
      "<sos> the content is actually with the content . <eos>\n",
      "BLEU = 0.294576\n",
      "------\n"
     ]
    },
    {
     "name": "stderr",
     "output_type": "stream",
     "text": [
      "\r",
      "  0%|          | 15/8572 [00:03<31:51,  4.48it/s]"
     ]
    },
    {
     "name": "stdout",
     "output_type": "stream",
     "text": [
      "INPUT:\n",
      "<sos> 发展 者 无畏 . <eos>\n",
      "REF:\n",
      "<sos> developers are dauntless . <eos>\n",
      "PREDICTION:\n",
      "<sos> the are are the right in development . <eos>\n",
      "BLEU = 0.459150\n",
      "------\n"
     ]
    },
    {
     "name": "stderr",
     "output_type": "stream",
     "text": [
      "\r",
      "  0%|          | 16/8572 [00:03<34:51,  4.09it/s]"
     ]
    },
    {
     "name": "stdout",
     "output_type": "stream",
     "text": [
      "INPUT:\n",
      "<sos> 还是 两国 关系 ? <eos>\n",
      "REF:\n",
      "<sos> or is it relations between two countries ? <eos>\n",
      "PREDICTION:\n",
      "<sos> are two relationship relationship or ? <eos>\n",
      "BLEU = 0.425718\n",
      "------\n"
     ]
    },
    {
     "name": "stderr",
     "output_type": "stream",
     "text": [
      "\r",
      "  0%|          | 17/8572 [00:03<33:10,  4.30it/s]"
     ]
    },
    {
     "name": "stdout",
     "output_type": "stream",
     "text": [
      "INPUT:\n",
      "<sos> 南北 关系 受 牵制 <eos>\n",
      "REF:\n",
      "<sos> relationship between south and north koreas is restrained . <eos>\n",
      "PREDICTION:\n",
      "<sos> the north north north relations has north relations south relations . <eos>\n",
      "BLEU = 0.423118\n",
      "------\n",
      "INPUT:\n",
      "<sos> 能 维持 多久 ? <eos>\n",
      "REF:\n",
      "<sos> how long can it be maintained ? <eos>"
     ]
    },
    {
     "name": "stderr",
     "output_type": "stream",
     "text": [
      "  0%|          | 19/8572 [00:03<29:26,  4.84it/s]"
     ]
    },
    {
     "name": "stdout",
     "output_type": "stream",
     "text": [
      "\n",
      "PREDICTION:\n",
      "<sos> how can they will ? <eos>\n",
      "BLEU = 0.524933\n",
      "------\n",
      "INPUT:\n",
      "<sos> 这是 彼此的 默契 . <eos>\n",
      "REF:\n",
      "<sos> this is a tacit agreement between the two . <eos>\n",
      "PREDICTION:\n",
      "<sos> this is an unfavorable . <eos>\n",
      "BLEU = 0.291944\n",
      "------\n"
     ]
    },
    {
     "name": "stderr",
     "output_type": "stream",
     "text": [
      "  0%|          | 21/8572 [00:04<27:45,  5.13it/s]"
     ]
    },
    {
     "name": "stdout",
     "output_type": "stream",
     "text": [
      "INPUT:\n",
      "<sos> 改革开放 20 年 . <eos>\n",
      "REF:\n",
      "<sos> twenty years of reform and opening up . <eos>\n",
      "PREDICTION:\n",
      "<sos> the 20 - reform launch 20 years . <eos>\n",
      "BLEU = 0.485492\n",
      "------\n",
      "INPUT:\n",
      "<sos> \" 点火 ! \" <eos>\n",
      "REF:\n",
      "<sos> \" ignition ! \" <eos>\n",
      "PREDICTION:\n",
      "<sos> \" ignition ! \" <eos>\n",
      "BLEU = 1.000000\n",
      "------\n"
     ]
    },
    {
     "name": "stderr",
     "output_type": "stream",
     "text": [
      "  0%|          | 23/8572 [00:04<30:43,  4.64it/s]"
     ]
    },
    {
     "name": "stdout",
     "output_type": "stream",
     "text": [
      "INPUT:\n",
      "<sos> 合 则 两利 . <eos>\n",
      "REF:\n",
      "<sos> cooperation will benefit both sides . <eos>\n",
      "PREDICTION:\n",
      "<sos> the is is detrimental to the . <eos>\n",
      "BLEU = 0.451801\n",
      "------\n",
      "INPUT:\n",
      "<sos> 答案 就是 科学 . <eos>\n",
      "REF:\n",
      "<sos> the answer is science . <eos>\n",
      "PREDICTION:\n",
      "<sos> a scientific means is to answer . <eos>\n",
      "BLEU = 0.513345\n",
      "------\n"
     ]
    },
    {
     "name": "stderr",
     "output_type": "stream",
     "text": [
      "\r",
      "  0%|          | 24/8572 [00:05<30:30,  4.67it/s]"
     ]
    },
    {
     "name": "stdout",
     "output_type": "stream",
     "text": [
      "INPUT:\n",
      "<sos> 美方 需要 道歉 . <eos>\n",
      "REF:\n",
      "<sos> the united states needs to apologize . <eos>\n",
      "PREDICTION:\n",
      "<sos> the us side should apologize to this . <eos>\n",
      "BLEU = 0.604275\n",
      "------\n"
     ]
    },
    {
     "name": "stderr",
     "output_type": "stream",
     "text": [
      "  0%|          | 26/8572 [00:05<32:02,  4.44it/s]"
     ]
    },
    {
     "name": "stdout",
     "output_type": "stream",
     "text": [
      "INPUT:\n",
      "<sos> <unk> ( <unk> ) <eos>\n",
      "REF:\n",
      "<sos> all these regulations are relevant to the lc business . <eos>\n",
      "PREDICTION:\n",
      "<sos> ( by jin ) is just ( one ) . <eos>\n",
      "BLEU = 0.388273\n",
      "------\n",
      "INPUT:\n",
      "<sos> 很 可怕 ! \" <eos>\n",
      "REF:\n",
      "<sos> it is really horrible ! \" <eos>\n",
      "PREDICTION:\n",
      "<sos> this is very ! \" <eos>\n",
      "BLEU = 0.404952\n",
      "------\n"
     ]
    },
    {
     "name": "stderr",
     "output_type": "stream",
     "text": [
      "  0%|          | 28/8572 [00:05<30:02,  4.74it/s]"
     ]
    },
    {
     "name": "stdout",
     "output_type": "stream",
     "text": [
      "INPUT:\n",
      "<sos> 开放 式 育才 . <eos>\n",
      "REF:\n",
      "<sos> an open mode of teaching talent . <eos>\n",
      "PREDICTION:\n",
      "<sos> the sides are the same of the open . <eos>\n",
      "BLEU = 0.461737\n",
      "------\n",
      "INPUT:\n",
      "<sos> 消费 价格 小幅 攀升 . <eos>\n",
      "REF:\n",
      "<sos> consumer prices climbed by a small margin . <eos>\n",
      "PREDICTION:\n",
      "<sos> the price is a very . <eos>\n",
      "BLEU = 0.402619\n",
      "------\n"
     ]
    },
    {
     "name": "stderr",
     "output_type": "stream",
     "text": [
      "\r",
      "  0%|          | 29/8572 [00:06<34:25,  4.14it/s]"
     ]
    },
    {
     "name": "stdout",
     "output_type": "stream",
     "text": [
      "INPUT:\n",
      "<sos> 记者 向 周永康 问道 . <eos>\n",
      "REF:\n",
      "<sos> zhou yongkang was asked by a reporter . <eos>\n",
      "PREDICTION:\n",
      "<sos> they also asked reporters to this reporter . <eos>\n",
      "BLEU = 0.343295\n",
      "------\n",
      "INPUT:\n",
      "<sos> 这种 局面 需要 改变 . <eos>\n",
      "REF:\n",
      "<sos> such state of affairs should be changed . <eos>\n",
      "PREDICTION:\n",
      "<sos> this change situation needs . <eos>\n",
      "BLEU = 0.336777\n",
      "------\n"
     ]
    },
    {
     "name": "stderr",
     "output_type": "stream",
     "text": [
      "  0%|          | 32/8572 [00:06<31:02,  4.58it/s]"
     ]
    },
    {
     "name": "stdout",
     "output_type": "stream",
     "text": [
      "INPUT:\n",
      "<sos> 第六 , 强化 企业管理 . <eos>\n",
      "REF:\n",
      "<sos> sixth , it is necessary to strengthen enterprise management . <eos>\n",
      "PREDICTION:\n",
      "<sos> sixth , strengthen management and is a sixth . <eos>\n",
      "BLEU = 0.360299\n",
      "------\n",
      "INPUT:\n",
      "<sos> 这是 举世 公认 的 . <eos>\n",
      "REF:\n",
      "<sos> this is acknowledged by the whole world . <eos>\n",
      "PREDICTION:\n",
      "<sos> this is a acknowledged acknowledged acknowledged . <eos>\n",
      "BLEU = 0.389005\n",
      "------\n"
     ]
    },
    {
     "name": "stderr",
     "output_type": "stream",
     "text": [
      "\r",
      "  0%|          | 33/8572 [00:07<34:39,  4.11it/s]"
     ]
    },
    {
     "name": "stdout",
     "output_type": "stream",
     "text": [
      "INPUT:\n",
      "<sos> 十六 , 删去 <unk> . <eos>\n",
      "REF:\n",
      "<sos> article 87 is sloughed off . <eos>\n",
      "PREDICTION:\n",
      "<sos> so - - they can be a dream of 16 . <eos>\n",
      "BLEU = 0.372391\n",
      "------\n"
     ]
    },
    {
     "name": "stderr",
     "output_type": "stream",
     "text": [
      "\r",
      "  0%|          | 34/8572 [00:07<32:58,  4.32it/s]"
     ]
    },
    {
     "name": "stdout",
     "output_type": "stream",
     "text": [
      "INPUT:\n",
      "<sos> 李鹏 对此 表示 赞同 . <eos>\n",
      "REF:\n",
      "<sos> li peng agreed with him . <eos>\n",
      "PREDICTION:\n",
      "<sos> li peng expressed his with this . <eos>\n",
      "BLEU = 0.434721\n",
      "------\n"
     ]
    },
    {
     "name": "stderr",
     "output_type": "stream",
     "text": [
      "\r",
      "  0%|          | 35/8572 [00:07<35:38,  3.99it/s]"
     ]
    },
    {
     "name": "stdout",
     "output_type": "stream",
     "text": [
      "INPUT:\n",
      "<sos> 人民军队 来自 于 人民 . <eos>\n",
      "REF:\n",
      "<sos> the people 's army came from the people . <eos>\n",
      "PREDICTION:\n",
      "<sos> people are the people came from the people . <eos>\n",
      "BLEU = 0.534826\n",
      "------\n",
      "INPUT:\n",
      "<sos> 听听 赖斯 的话 吧 . <eos>\n",
      "REF:\n",
      "<sos> let us hear what rice has said . <eos>\n",
      "PREDICTION:\n",
      "<sos> his family is exactly an . <eos>\n",
      "BLEU = 0.374679\n",
      "------\n"
     ]
    },
    {
     "name": "stderr",
     "output_type": "stream",
     "text": [
      "\r",
      "  0%|          | 37/8572 [00:07<31:33,  4.51it/s]"
     ]
    },
    {
     "name": "stdout",
     "output_type": "stream",
     "text": [
      "INPUT:\n",
      "<sos> 加快 国际 通道 建设 . <eos>\n",
      "REF:\n",
      "<sos> we should step up the building of international communications . <eos>\n",
      "PREDICTION:\n",
      "<sos> speed up construction construction of international international international . <eos>\n",
      "BLEU = 0.524766\n",
      "------\n",
      "INPUT:\n",
      "<sos> 这个 任务 没有 完成 . <eos>\n",
      "REF:\n",
      "<sos> this task has not been fulfilled . <eos>\n",
      "PREDICTION:\n",
      "<sos> this is no task . <eos>\n",
      "BLEU = 0.524933\n",
      "------\n"
     ]
    },
    {
     "name": "stderr",
     "output_type": "stream",
     "text": [
      "  0%|          | 40/8572 [00:08<29:43,  4.79it/s]"
     ]
    },
    {
     "name": "stdout",
     "output_type": "stream",
     "text": [
      "INPUT:\n",
      "<sos> 北京 高度 关注 南丹 . <eos>\n",
      "REF:\n",
      "<sos> beijing has been highly concerned about nandan . <eos>\n",
      "PREDICTION:\n",
      "<sos> beijing is a high beijing beijing . <eos>\n",
      "BLEU = 0.516636\n",
      "------\n",
      "INPUT:\n",
      "<sos> 交往 方式 可以 多种多样 . <eos>\n",
      "REF:\n",
      "<sos> there can be a variety of ways of exchanges . <eos>\n",
      "PREDICTION:\n",
      "<sos> and can can be used several other . <eos>\n",
      "BLEU = 0.472694\n",
      "------\n"
     ]
    },
    {
     "name": "stderr",
     "output_type": "stream",
     "text": [
      "  0%|          | 42/8572 [00:08<28:48,  4.93it/s]"
     ]
    },
    {
     "name": "stdout",
     "output_type": "stream",
     "text": [
      "INPUT:\n",
      "<sos> \" 测试 正常 ! \" <eos>\n",
      "REF:\n",
      "<sos> \" all the tests are normal ! \" <eos>\n",
      "PREDICTION:\n",
      "<sos> \" testing normal normal normal ! ! \" <eos>\n",
      "BLEU = 0.427287\n",
      "------\n",
      "INPUT:\n",
      "<sos> \" 海洋 不是 <unk> . <eos>\n",
      "REF:\n",
      "<sos> \" the ocean is not a moat . <eos>\n",
      "PREDICTION:\n",
      "<sos> \" it is not a easy . <eos>\n",
      "BLEU = 0.434437\n",
      "------\n"
     ]
    },
    {
     "name": "stderr",
     "output_type": "stream",
     "text": [
      "\r",
      "  1%|          | 43/8572 [00:09<28:42,  4.95it/s]"
     ]
    },
    {
     "name": "stdout",
     "output_type": "stream",
     "text": [
      "INPUT:\n",
      "<sos> 图斯万迪 对此 表示 感谢 . <eos>\n",
      "REF:\n",
      "<sos> toeswandi expressed thanks for this . <eos>\n",
      "PREDICTION:\n",
      "<sos> thank for this . <eos>\n",
      "BLEU = 0.384982\n",
      "------\n",
      "INPUT:\n",
      "<sos> 诡辩 改变 不了 事实 . <eos>\n",
      "REF:\n",
      "<sos> sophistry cannot change the facts . <eos>\n"
     ]
    },
    {
     "name": "stderr",
     "output_type": "stream",
     "text": [
      "\r",
      "  1%|          | 44/8572 [00:09<28:38,  4.96it/s]"
     ]
    },
    {
     "name": "stdout",
     "output_type": "stream",
     "text": [
      "PREDICTION:\n",
      "<sos> facts cannot change their facts . <eos>\n",
      "BLEU = 0.481098\n",
      "------\n"
     ]
    },
    {
     "name": "stderr",
     "output_type": "stream",
     "text": [
      "\r",
      "  1%|          | 45/8572 [00:09<29:10,  4.87it/s]"
     ]
    },
    {
     "name": "stdout",
     "output_type": "stream",
     "text": [
      "INPUT:\n",
      "<sos> 这 决 不是 危言耸听 . <eos>\n",
      "REF:\n",
      "<sos> this is certainly not saying something frightening just to scare people . <eos>\n",
      "PREDICTION:\n",
      "<sos> this is absolutely not not to say that is . <eos>\n",
      "BLEU = 0.300628\n",
      "------\n"
     ]
    },
    {
     "name": "stderr",
     "output_type": "stream",
     "text": [
      "  1%|          | 47/8572 [00:10<31:34,  4.50it/s]"
     ]
    },
    {
     "name": "stdout",
     "output_type": "stream",
     "text": [
      "INPUT:\n",
      "<sos> 他 果断 地 回答 . <eos>\n",
      "REF:\n",
      "<sos> he answered firmly . <eos>\n",
      "PREDICTION:\n",
      "<sos> he was a answer answer . <eos>\n",
      "BLEU = 0.614788\n",
      "------\n",
      "INPUT:\n",
      "<sos> 这是 毫无 道理 的 . <eos>\n",
      "REF:\n",
      "<sos> this is altogether without reason . <eos>\n",
      "PREDICTION:\n",
      "<sos> this is a fact that . <eos>\n",
      "BLEU = 0.459661\n",
      "------\n"
     ]
    },
    {
     "name": "stderr",
     "output_type": "stream",
     "text": [
      "\r",
      "  1%|          | 48/8572 [00:10<34:33,  4.11it/s]"
     ]
    },
    {
     "name": "stdout",
     "output_type": "stream",
     "text": [
      "INPUT:\n",
      "<sos> 王忠禹 主持 了 座谈会 . <eos>\n",
      "REF:\n",
      "<sos> wang zhongyu chaired the forum . <eos>\n",
      "PREDICTION:\n",
      "<sos> wang zhongyu spoke presided over the forum . <eos>\n",
      "BLEU = 0.379918\n",
      "------\n"
     ]
    },
    {
     "name": "stderr",
     "output_type": "stream",
     "text": [
      "\r",
      "  1%|          | 49/8572 [00:10<32:49,  4.33it/s]"
     ]
    },
    {
     "name": "stdout",
     "output_type": "stream",
     "text": [
      "INPUT:\n",
      "<sos> 美国 人 , 慌 ! <eos>\n",
      "REF:\n",
      "<sos> panic , americans ! <eos>\n",
      "PREDICTION:\n",
      "<sos> it is the us persons ! <eos>\n",
      "BLEU = 0.481098\n",
      "------\n",
      "INPUT:\n",
      "<sos> 首先 是 技术 支持 . <eos>\n",
      "REF:\n",
      "<sos> first of all , we will give technological support . <eos>\n",
      "PREDICTION:\n",
      "<sos> first is support for technology . <eos>"
     ]
    },
    {
     "name": "stderr",
     "output_type": "stream",
     "text": [
      "  1%|          | 52/8572 [00:11<29:51,  4.76it/s]"
     ]
    },
    {
     "name": "stdout",
     "output_type": "stream",
     "text": [
      "\n",
      "BLEU = 0.394281\n",
      "------\n",
      "INPUT:\n",
      "<sos> 座谈会 由 罗豪才 主持 . <eos>\n",
      "REF:\n",
      "<sos> luo haocai presided at the forum . <eos>\n",
      "PREDICTION:\n",
      "<sos> presided over the forum was presided over by . <eos>\n",
      "BLEU = 0.574708\n",
      "------\n",
      "INPUT:\n",
      "<sos> 农业 生产 大 有起色 . <eos>\n",
      "REF:\n",
      "<sos> agricultural production has improved significantly . <eos>\n",
      "PREDICTION:\n",
      "<sos> agricultural production was a great . <eos>\n",
      "BLEU = 0.459661\n",
      "------\n"
     ]
    },
    {
     "name": "stderr",
     "output_type": "stream",
     "text": [
      "  1%|          | 54/8572 [00:11<31:42,  4.48it/s]"
     ]
    },
    {
     "name": "stdout",
     "output_type": "stream",
     "text": [
      "INPUT:\n",
      "<sos> 三 是 载人 航天 . <eos>\n",
      "REF:\n",
      "<sos> 3 ) manned space flights . <eos>\n",
      "PREDICTION:\n",
      "<sos> third is the third manned manned manned space . <eos>\n",
      "BLEU = 0.549100\n",
      "------\n",
      "INPUT:\n",
      "<sos> 二 是 陷害 忠良 . <eos>\n",
      "REF:\n",
      "<sos> second is bringing false charges against good people . <eos>\n",
      "PREDICTION:\n",
      "<sos> second second is to the second . <eos>\n",
      "BLEU = 0.540978\n",
      "------\n"
     ]
    },
    {
     "name": "stderr",
     "output_type": "stream",
     "text": [
      "  1%|          | 56/8572 [00:12<29:55,  4.74it/s]"
     ]
    },
    {
     "name": "stdout",
     "output_type": "stream",
     "text": [
      "INPUT:\n",
      "<sos> 另 有 13 航空公司 . <eos>\n",
      "REF:\n",
      "<sos> in addition , it has 13 airlines . <eos>\n",
      "PREDICTION:\n",
      "<sos> another another in another another . <eos>\n",
      "BLEU = 0.402619\n",
      "------\n",
      "INPUT:\n",
      "<sos> 三 是 经济 机遇 . <eos>\n",
      "REF:\n",
      "<sos> three , economic opportunity . <eos>\n",
      "PREDICTION:\n",
      "<sos> third is the opportunity and economic . <eos>\n",
      "BLEU = 0.513345\n",
      "------\n"
     ]
    },
    {
     "name": "stderr",
     "output_type": "stream",
     "text": [
      "  1%|          | 58/8572 [00:12<29:01,  4.89it/s]"
     ]
    },
    {
     "name": "stdout",
     "output_type": "stream",
     "text": [
      "INPUT:\n",
      "<sos> 镇长 来了 没有 ? \" <eos>\n",
      "REF:\n",
      "<sos> is the town head here ? \" <eos>\n",
      "PREDICTION:\n",
      "<sos> did not have any problems ? \" <eos>\n",
      "BLEU = 0.354948\n",
      "------\n",
      "INPUT:\n",
      "<sos> 一个 是 语言 文字 . <eos>\n",
      "REF:\n",
      "<sos> the first is the spoken and written language . <eos>\n",
      "PREDICTION:\n",
      "<sos> language language are a language . <eos>\n",
      "BLEU = 0.269977\n",
      "------\n"
     ]
    },
    {
     "name": "stderr",
     "output_type": "stream",
     "text": [
      "  1%|          | 60/8572 [00:12<27:33,  5.15it/s]"
     ]
    },
    {
     "name": "stdout",
     "output_type": "stream",
     "text": [
      "INPUT:\n",
      "<sos> \" 祖国 万岁 ! \" <eos>\n",
      "REF:\n",
      "<sos> \" long live the motherland ! \" <eos>\n",
      "PREDICTION:\n",
      "<sos> \" ! ! ! ! ! ! ! ! ! ! ! ! ! ! ! ! ! ! ! ! ! ! ! ! ! ! ! ! ! ! ! ! ! ! ! ! ! ! ! ! ! ! ! ! ! ! ! !\n",
      "BLEU = 0.187063\n",
      "------\n",
      "INPUT:\n",
      "<sos> 乙 : 是 啊 . <eos>\n",
      "REF:\n",
      "<sos> b : yes . <eos>\n",
      "PREDICTION:\n",
      "<sos> b : is . <eos>\n",
      "BLEU = 0.594604\n",
      "------\n"
     ]
    },
    {
     "name": "stderr",
     "output_type": "stream",
     "text": [
      "  1%|          | 62/8572 [00:13<30:38,  4.63it/s]"
     ]
    },
    {
     "name": "stdout",
     "output_type": "stream",
     "text": [
      "INPUT:\n",
      "<sos> 贺电 全文 如下 : 雅加达 <eos>\n",
      "REF:\n",
      "<sos> the full text of the congratulatory message is as follows . <eos>\n",
      "PREDICTION:\n",
      "<sos> text text text of the text text of the text text of the 1 text . <eos>\n",
      "BLEU = 0.255914\n",
      "------\n",
      "INPUT:\n",
      "<sos> 而 美国 政府 呢 ? <eos>\n",
      "REF:\n",
      "<sos> but what about the us government ? <eos>\n",
      "PREDICTION:\n",
      "<sos> but us government us government come ? <eos>\n",
      "BLEU = 0.707107\n",
      "------\n"
     ]
    },
    {
     "name": "stderr",
     "output_type": "stream",
     "text": [
      "  1%|          | 64/8572 [00:13<28:11,  5.03it/s]"
     ]
    },
    {
     "name": "stdout",
     "output_type": "stream",
     "text": [
      "INPUT:\n",
      "<sos> 法西斯 也是 这样的 逻辑 . <eos>\n",
      "REF:\n",
      "<sos> fascists also used this kind of logic . <eos>\n",
      "PREDICTION:\n",
      "<sos> the also is a logic of such such . <eos>\n",
      "BLEU = 0.483270\n",
      "------\n",
      "INPUT:\n",
      "<sos> 预祝 会议 圆满 成功 ! <eos>\n",
      "REF:\n",
      "<sos> i wish the meeting complete success ! <eos>\n",
      "PREDICTION:\n",
      "<sos> we wish the complete success ! <eos>\n",
      "BLEU = 0.377079\n",
      "------\n"
     ]
    },
    {
     "name": "stderr",
     "output_type": "stream",
     "text": [
      "  1%|          | 66/8572 [00:14<30:57,  4.58it/s]"
     ]
    },
    {
     "name": "stdout",
     "output_type": "stream",
     "text": [
      "INPUT:\n",
      "<sos> 二 是 实干 观念 . <eos>\n",
      "REF:\n",
      "<sos> the second is a sense of doing solid work . <eos>\n",
      "PREDICTION:\n",
      "<sos> second , do the the concept . <eos>\n",
      "BLEU = 0.367828\n",
      "------\n",
      "INPUT:\n",
      "<sos> 培养 有 多种 方式 . <eos>\n",
      "REF:\n",
      "<sos> there are many forms of training . <eos>\n",
      "PREDICTION:\n",
      "<sos> there are a variety of methods . <eos>\n",
      "BLEU = 0.434721\n",
      "------\n"
     ]
    },
    {
     "name": "stderr",
     "output_type": "stream",
     "text": [
      "\r",
      "  1%|          | 67/8572 [00:14<31:09,  4.55it/s]"
     ]
    },
    {
     "name": "stdout",
     "output_type": "stream",
     "text": [
      "INPUT:\n",
      "<sos> apec 现有 成员 21 . <eos>\n",
      "REF:\n",
      "<sos> apec currently has 21 members . <eos>\n",
      "PREDICTION:\n",
      "<sos> apec members are the 21 of members . <eos>\n",
      "BLEU = 0.397635\n",
      "------\n"
     ]
    },
    {
     "name": "stderr",
     "output_type": "stream",
     "text": [
      "\r",
      "  1%|          | 68/8572 [00:14<33:43,  4.20it/s]"
     ]
    },
    {
     "name": "stdout",
     "output_type": "stream",
     "text": [
      "INPUT:\n",
      "<sos> 第五 , 坚持 可持续发展 . <eos>\n",
      "REF:\n",
      "<sos> fifth , to persist with sustainable development . <eos>\n",
      "PREDICTION:\n",
      "<sos> fifth , the fifth has been intensified . <eos>\n",
      "BLEU = 0.379918\n",
      "------\n"
     ]
    },
    {
     "name": "stderr",
     "output_type": "stream",
     "text": [
      "\r",
      "  1%|          | 69/8572 [00:14<32:46,  4.33it/s]"
     ]
    },
    {
     "name": "stdout",
     "output_type": "stream",
     "text": [
      "INPUT:\n",
      "<sos> 学习 的 目的 在于 运用 . <eos>\n",
      "REF:\n",
      "<sos> the purpose of the study is application . <eos>\n",
      "PREDICTION:\n",
      "<sos> the purpose of apply the apply to apply . <eos>\n",
      "BLEU = 0.289978\n",
      "------\n"
     ]
    },
    {
     "name": "stderr",
     "output_type": "stream",
     "text": [
      "  1%|          | 71/8572 [00:15<33:02,  4.29it/s]"
     ]
    },
    {
     "name": "stdout",
     "output_type": "stream",
     "text": [
      "INPUT:\n",
      "<sos> 阻挠 两岸 关系 的 发展 . <eos>\n",
      "REF:\n",
      "<sos> he obstructed development of cross - strait relations . <eos>\n",
      "PREDICTION:\n",
      "<sos> cross - strait relations are the development of cross - strait relations . <eos>\n",
      "BLEU = 0.490094\n",
      "------\n",
      "INPUT:\n",
      "<sos> 巴特列 总统 首先 发表 讲话 . <eos>\n",
      "REF:\n",
      "<sos> president batlle spoke first . <eos>\n",
      "PREDICTION:\n",
      "<sos> president speech will be delivered on 7 . <eos>\n",
      "BLEU = 0.546024\n",
      "------\n"
     ]
    },
    {
     "name": "stderr",
     "output_type": "stream",
     "text": [
      "  1%|          | 73/8572 [00:15<30:31,  4.64it/s]"
     ]
    },
    {
     "name": "stdout",
     "output_type": "stream",
     "text": [
      "INPUT:\n",
      "<sos> 为什麽 把 达赖 奉为 上宾 ? <eos>\n",
      "REF:\n",
      "<sos> why is the dalai lama enshrined as a vip ? <eos>\n",
      "PREDICTION:\n",
      "<sos> why was the dalai clique to gain the dalai ? <eos>\n",
      "BLEU = 0.607680\n",
      "------\n",
      "INPUT:\n",
      "<sos> 六 , 切实 加强 领导 . <eos>\n",
      "REF:\n",
      "<sos> strengthening leadership in earnest . <eos>\n",
      "PREDICTION:\n",
      "<sos> sixth , we strengthened leadership . <eos>\n",
      "BLEU = 0.516973\n",
      "------\n"
     ]
    },
    {
     "name": "stderr",
     "output_type": "stream",
     "text": [
      "\r",
      "  1%|          | 74/8572 [00:16<34:18,  4.13it/s]"
     ]
    },
    {
     "name": "stdout",
     "output_type": "stream",
     "text": [
      "INPUT:\n",
      "<sos> ( 三 ) 重点 区域 . <eos>\n",
      "REF:\n",
      "<sos> 3 ) key areas . <eos>\n",
      "PREDICTION:\n",
      "<sos> ( 3 ) regional regional regional regional . <eos>\n",
      "BLEU = 0.577350\n",
      "------\n"
     ]
    },
    {
     "name": "stderr",
     "output_type": "stream",
     "text": [
      "  1%|          | 76/8572 [00:16<33:56,  4.17it/s]"
     ]
    },
    {
     "name": "stdout",
     "output_type": "stream",
     "text": [
      "INPUT:\n",
      "<sos> 历史 车轮 即将 驶入 21世纪 . <eos>\n",
      "REF:\n",
      "<sos> the wheel of history is about to roll into the 21 st century . <eos>\n",
      "PREDICTION:\n",
      "<sos> history will china 's of the 21 st century will soon back . <eos>\n",
      "BLEU = 0.202556\n",
      "------\n",
      "INPUT:\n",
      "<sos> 伟大 的 中国 人民 万岁 ! <eos>\n",
      "REF:\n",
      "<sos> long live the great chinese people ! <eos>\n",
      "PREDICTION:\n",
      "<sos> people live great great ! <eos>\n",
      "BLEU = 0.461999\n",
      "------\n"
     ]
    },
    {
     "name": "stderr",
     "output_type": "stream",
     "text": [
      "\r",
      "  1%|          | 77/8572 [00:16<32:37,  4.34it/s]"
     ]
    },
    {
     "name": "stdout",
     "output_type": "stream",
     "text": [
      "INPUT:\n",
      "<sos> 第二 是 立法 保障 阶段 . <eos>\n",
      "REF:\n",
      "<sos> the second phase is giving legal status to the alliance . <eos>\n",
      "PREDICTION:\n",
      "<sos> second , the legislation is the stage stage . <eos>\n",
      "BLEU = 0.418759\n",
      "------\n"
     ]
    },
    {
     "name": "stderr",
     "output_type": "stream",
     "text": [
      "  1%|          | 79/8572 [00:17<32:57,  4.30it/s]"
     ]
    },
    {
     "name": "stdout",
     "output_type": "stream",
     "text": [
      "INPUT:\n",
      "<sos> 土耳其 反对 干涉 别国 内政 . <eos>\n",
      "REF:\n",
      "<sos> turkey is opposed to any interference in the internal affairs of other countries . <eos>\n",
      "PREDICTION:\n",
      "<sos> turkey is opposed to interference in the internal affairs of affairs . <eos>\n",
      "BLEU = 0.571873\n",
      "------\n",
      "INPUT:\n",
      "<sos> 必须 在 政策 上 作文章 . <eos>\n",
      "REF:\n",
      "<sos> we must consider this issue in terms of policies . <eos>\n",
      "PREDICTION:\n",
      "<sos> we must must policy policy . <eos>\n",
      "BLEU = 0.278799\n",
      "------\n"
     ]
    },
    {
     "name": "stderr",
     "output_type": "stream",
     "text": [
      "\r",
      "  1%|          | 80/8572 [00:17<31:58,  4.43it/s]"
     ]
    },
    {
     "name": "stdout",
     "output_type": "stream",
     "text": [
      "INPUT:\n",
      "<sos> 履带 滚滚 , 火光 闪闪 . <eos>\n",
      "REF:\n",
      "<sos> <unk> tracks roll , guns flash . <eos>\n",
      "PREDICTION:\n",
      "<sos> the soldiers of vehicles were at at the times . <eos>\n",
      "BLEU = 0.388273\n",
      "------\n"
     ]
    },
    {
     "name": "stderr",
     "output_type": "stream",
     "text": [
      "\r",
      "  1%|          | 81/8572 [00:17<35:23,  4.00it/s]"
     ]
    },
    {
     "name": "stdout",
     "output_type": "stream",
     "text": [
      "INPUT:\n",
      "<sos> 中共 中央 办公厅 国务院 办公厅 <unk> <eos>\n",
      "REF:\n",
      "<sos> central committee general office state council general office 9 december 2000 <eos>\n",
      "PREDICTION:\n",
      "<sos> cpc cpc committee general office of the cpc central committee office of the state council office was returned to the cpc . <eos>\n",
      "BLEU = 0.233338\n",
      "------\n"
     ]
    },
    {
     "name": "stderr",
     "output_type": "stream",
     "text": [
      "\r",
      "  1%|          | 82/8572 [00:18<37:31,  3.77it/s]"
     ]
    },
    {
     "name": "stdout",
     "output_type": "stream",
     "text": [
      "INPUT:\n",
      "<sos> 国际标准 , 还是 美国 标准 ? <eos>\n",
      "REF:\n",
      "<sos> international standards or american standards ? <eos>\n",
      "PREDICTION:\n",
      "<sos> standards standards standards standards standards standards standards standards standards standards ? <eos>\n",
      "BLEU = 0.276294\n",
      "------\n"
     ]
    },
    {
     "name": "stderr",
     "output_type": "stream",
     "text": [
      "\r",
      "  1%|          | 83/8572 [00:18<38:22,  3.69it/s]"
     ]
    },
    {
     "name": "stdout",
     "output_type": "stream",
     "text": [
      "INPUT:\n",
      "<sos> 本次 论坛 为期 2 天 . <eos>\n",
      "REF:\n",
      "<sos> this forum will go on for two days . <eos>\n",
      "PREDICTION:\n",
      "<sos> the day will forum forum on days . <eos>\n",
      "BLEU = 0.337885\n",
      "------\n"
     ]
    },
    {
     "name": "stderr",
     "output_type": "stream",
     "text": [
      "\r",
      "  1%|          | 84/8572 [00:18<35:58,  3.93it/s]"
     ]
    },
    {
     "name": "stdout",
     "output_type": "stream",
     "text": [
      "INPUT:\n",
      "<sos> 很 高兴 再次 见到 阁下 . <eos>\n",
      "REF:\n",
      "<sos> i am very happy to meet your excellency again . <eos>\n",
      "PREDICTION:\n",
      "<sos> very am very happy once again in this . <eos>\n",
      "BLEU = 0.348469\n",
      "------\n"
     ]
    },
    {
     "name": "stderr",
     "output_type": "stream",
     "text": [
      "\r",
      "  1%|          | 85/8572 [00:18<37:30,  3.77it/s]"
     ]
    },
    {
     "name": "stdout",
     "output_type": "stream",
     "text": [
      "INPUT:\n",
      "<sos> 居民 的 生活水平 日益 提高 . <eos>\n",
      "REF:\n",
      "<sos> living standards are improving all the time . <eos>\n",
      "PREDICTION:\n",
      "<sos> people residents in living standards have increasingly increasingly . <eos>\n",
      "BLEU = 0.549100\n",
      "------\n"
     ]
    },
    {
     "name": "stderr",
     "output_type": "stream",
     "text": [
      "\r",
      "  1%|          | 86/8572 [00:19<35:09,  4.02it/s]"
     ]
    },
    {
     "name": "stdout",
     "output_type": "stream",
     "text": [
      "INPUT:\n",
      "<sos> <unk> 欢迎 尉健行 访问 芬兰 . <eos>\n",
      "REF:\n",
      "<sos> <unk> welcomed wei jianxing on his visit to finland . <eos>\n",
      "PREDICTION:\n",
      "<sos> welcomed welcomed welcomed welcomed president visit to visit to the . <eos>\n",
      "BLEU = 0.526640\n",
      "------\n"
     ]
    },
    {
     "name": "stderr",
     "output_type": "stream",
     "text": [
      "\r",
      "  1%|          | 87/8572 [00:19<37:01,  3.82it/s]"
     ]
    },
    {
     "name": "stdout",
     "output_type": "stream",
     "text": [
      "INPUT:\n",
      "<sos> 江泽民 还 谈到 非洲 问题 . <eos>\n",
      "REF:\n",
      "<sos> jiang zemin also talked about the issue of africa . <eos>\n",
      "PREDICTION:\n",
      "<sos> jiang zemin also talked about the issue of africa . <eos>\n",
      "BLEU = 1.000000\n",
      "------\n"
     ]
    },
    {
     "name": "stderr",
     "output_type": "stream",
     "text": [
      "\r",
      "  1%|          | 88/8572 [00:19<38:14,  3.70it/s]"
     ]
    },
    {
     "name": "stdout",
     "output_type": "stream",
     "text": [
      "INPUT:\n",
      "<sos> 七 是 金融 结构 矛盾 . <eos>\n",
      "REF:\n",
      "<sos> seventh , contradictions exist in the structure of the financial industry . <eos>\n",
      "PREDICTION:\n",
      "<sos> seven seven seven the structure of seven . <eos>\n",
      "BLEU = 0.266543\n",
      "------\n"
     ]
    },
    {
     "name": "stderr",
     "output_type": "stream",
     "text": [
      "  1%|          | 90/8572 [00:20<33:17,  4.25it/s]"
     ]
    },
    {
     "name": "stdout",
     "output_type": "stream",
     "text": [
      "INPUT:\n",
      "<sos> 结果 : 有 公正 的 评判 <eos>\n",
      "REF:\n",
      "<sos> conclusions : fair judgment commanders generally are in two kinds of psychological states upon completing an exercise . <eos>\n",
      "PREDICTION:\n",
      "<sos> a : will this is a fair . <eos>\n",
      "BLEU = 0.178602\n",
      "------\n",
      "INPUT:\n",
      "<sos> 创新 是 马克思主义 的 生命 . <eos>\n",
      "REF:\n",
      "<sos> innovation is marxism 's life . <eos>\n",
      "PREDICTION:\n",
      "<sos> innovation is the the of of the . <eos>\n",
      "BLEU = 0.379918\n",
      "------\n"
     ]
    },
    {
     "name": "stderr",
     "output_type": "stream",
     "text": [
      "\r",
      "  1%|          | 91/8572 [00:20<36:17,  3.89it/s]"
     ]
    },
    {
     "name": "stdout",
     "output_type": "stream",
     "text": [
      "INPUT:\n",
      "<sos> 只有 创新 , 才能 发展 . <eos>\n",
      "REF:\n",
      "<sos> only by innovations will we be able to develop . <eos>\n",
      "PREDICTION:\n",
      "<sos> only by can we develop and develop in only . <eos>\n",
      "BLEU = 0.355150\n",
      "------\n"
     ]
    },
    {
     "name": "stderr",
     "output_type": "stream",
     "text": [
      "\r",
      "  1%|          | 92/8572 [00:20<37:47,  3.74it/s]"
     ]
    },
    {
     "name": "stdout",
     "output_type": "stream",
     "text": [
      "INPUT:\n",
      "<sos> 达赖 也 将 参加 会议 . <eos>\n",
      "REF:\n",
      "<sos> the dalai lama will also attend the meeting . <eos>\n",
      "PREDICTION:\n",
      "<sos> dalai will also attend to attend the meeting . <eos>\n",
      "BLEU = 0.483270\n",
      "------\n"
     ]
    },
    {
     "name": "stderr",
     "output_type": "stream",
     "text": [
      "\r",
      "  1%|          | 93/8572 [00:20<35:19,  4.00it/s]"
     ]
    },
    {
     "name": "stdout",
     "output_type": "stream",
     "text": [
      "INPUT:\n",
      "<sos> 如何 发挥 侨 台 优势 ? <eos>\n",
      "REF:\n",
      "<sos> how will you give full play to the overseas chinese and taiwan advantage ? <eos>\n",
      "PREDICTION:\n",
      "<sos> how will how superiority superiority in the taiwan ? ? <eos>\n",
      "BLEU = 0.254476\n",
      "------\n"
     ]
    },
    {
     "name": "stderr",
     "output_type": "stream",
     "text": [
      "\r",
      "  1%|          | 94/8572 [00:21<37:13,  3.80it/s]"
     ]
    },
    {
     "name": "stdout",
     "output_type": "stream",
     "text": [
      "INPUT:\n",
      "<sos> 任何 人 玩火 必 自焚 . <eos>\n",
      "REF:\n",
      "<sos> anyone playing with fire inevitably will be burned himself . <eos>\n",
      "PREDICTION:\n",
      "<sos> any self with playing with anyone playing any . <eos>\n",
      "BLEU = 0.580749\n",
      "------\n"
     ]
    },
    {
     "name": "stderr",
     "output_type": "stream",
     "text": [
      "\r",
      "  1%|          | 95/8572 [00:21<38:33,  3.66it/s]"
     ]
    },
    {
     "name": "stdout",
     "output_type": "stream",
     "text": [
      "INPUT:\n",
      "<sos> 大多数 地区 经济效益 明显 提高 . <eos>\n",
      "REF:\n",
      "<sos> the economic efficiency in the majority of regions has improved significantly . <eos>\n",
      "PREDICTION:\n",
      "<sos> most of economic parts of most parts in the parts of parts . <eos>\n",
      "BLEU = 0.508133\n",
      "------\n"
     ]
    },
    {
     "name": "stderr",
     "output_type": "stream",
     "text": [
      "\r",
      "  1%|          | 96/8572 [00:21<36:01,  3.92it/s]"
     ]
    },
    {
     "name": "stdout",
     "output_type": "stream",
     "text": [
      "INPUT:\n",
      "<sos> 各国 银行 风险 明显 降低 . <eos>\n",
      "REF:\n",
      "<sos> the banks in various asian countries are facing markedly lower risks . <eos>\n",
      "PREDICTION:\n",
      "<sos> the banks have the risk - off banks have markedly . <eos>\n",
      "BLEU = 0.296334\n",
      "------\n"
     ]
    },
    {
     "name": "stderr",
     "output_type": "stream",
     "text": [
      "  1%|          | 98/8572 [00:22<34:36,  4.08it/s]"
     ]
    },
    {
     "name": "stdout",
     "output_type": "stream",
     "text": [
      "INPUT:\n",
      "<sos> 素质 是 高 还是 低 ? <eos>\n",
      "REF:\n",
      "<sos> are they competent ? <eos>\n",
      "PREDICTION:\n",
      "<sos> is the quality of high - quality ? ? <eos>\n",
      "BLEU = 0.406380\n",
      "------\n",
      "INPUT:\n",
      "<sos> 这 恐怕 是 一种 误解 . <eos>\n",
      "REF:\n",
      "<sos> this is perhaps a <unk> . <eos>\n",
      "PREDICTION:\n",
      "<sos> this is a misunderstanding . <eos>\n",
      "BLEU = 0.469052\n",
      "------\n"
     ]
    },
    {
     "name": "stderr",
     "output_type": "stream",
     "text": [
      "\r",
      "  1%|          | 99/8572 [00:22<33:06,  4.26it/s]"
     ]
    },
    {
     "name": "stdout",
     "output_type": "stream",
     "text": [
      "INPUT:\n",
      "<sos> 此 案 受到 多方 关注 . <eos>\n",
      "REF:\n",
      "<sos> this case caught the attention from many sectors . <eos>\n",
      "PREDICTION:\n",
      "<sos> this is the case has been concerned . <eos>\n",
      "BLEU = 0.546771\n",
      "------\n"
     ]
    },
    {
     "name": "stderr",
     "output_type": "stream",
     "text": [
      "\r",
      "  1%|          | 100/8572 [00:22<35:25,  3.99it/s]"
     ]
    },
    {
     "name": "stdout",
     "output_type": "stream",
     "text": [
      "INPUT:\n",
      "<sos> 网络 <unk> 幺 典型 特征 ? <eos>\n",
      "REF:\n",
      "<sos> what are the typical characteristics of network warfare ? <eos>\n",
      "PREDICTION:\n",
      "<sos> what is typical typical typical typical ? <eos>\n",
      "BLEU = 0.488829\n",
      "------\n"
     ]
    },
    {
     "name": "stderr",
     "output_type": "stream",
     "text": [
      "\r",
      "  1%|          | 101/8572 [00:22<33:41,  4.19it/s]"
     ]
    },
    {
     "name": "stdout",
     "output_type": "stream",
     "text": [
      "INPUT:\n",
      "<sos> 新 领导人 也 很 <unk> . <eos>\n",
      "REF:\n",
      "<sos> the new leader was also very sensible . <eos>\n",
      "PREDICTION:\n",
      "<sos> the leader also also a new new leader . <eos>\n",
      "BLEU = 0.661008\n",
      "------\n"
     ]
    },
    {
     "name": "stderr",
     "output_type": "stream",
     "text": [
      "\r",
      "  1%|          | 102/8572 [00:23<35:56,  3.93it/s]"
     ]
    },
    {
     "name": "stdout",
     "output_type": "stream",
     "text": [
      "INPUT:\n",
      "<sos> \" 机不可失 , 时不再来 . \" <eos>\n",
      "REF:\n",
      "<sos> \" do n't let slip an opportunity as it may never come again . \" <eos>\n",
      "PREDICTION:\n",
      "<sos> \" it is a , , after \" . \" <eos>\n",
      "BLEU = 0.225278\n",
      "------\n"
     ]
    },
    {
     "name": "stderr",
     "output_type": "stream",
     "text": [
      "\r",
      "  1%|          | 103/8572 [00:23<33:51,  4.17it/s]"
     ]
    },
    {
     "name": "stdout",
     "output_type": "stream",
     "text": [
      "INPUT:\n",
      "<sos> 这种 认识 同样 有失 偏颇 . <eos>\n",
      "REF:\n",
      "<sos> this is also an erroneous understanding . <eos>\n",
      "PREDICTION:\n",
      "<sos> this kind of understanding has not . <eos>\n",
      "BLEU = 0.610474\n",
      "------\n"
     ]
    },
    {
     "name": "stderr",
     "output_type": "stream",
     "text": [
      "\r",
      "  1%|          | 104/8572 [00:23<32:54,  4.29it/s]"
     ]
    },
    {
     "name": "stdout",
     "output_type": "stream",
     "text": [
      "INPUT:\n",
      "<sos> 真是 拿 世人 当 <unk> . <eos>\n",
      "REF:\n",
      "<sos> this is really treating people like idiots . <eos>\n",
      "PREDICTION:\n",
      "<sos> as of people , such as world is not brilliant in the world . <eos>\n",
      "BLEU = 0.379918\n",
      "------\n"
     ]
    },
    {
     "name": "stderr",
     "output_type": "stream",
     "text": [
      "\r",
      "  1%|          | 105/8572 [00:23<34:34,  4.08it/s]"
     ]
    },
    {
     "name": "stdout",
     "output_type": "stream",
     "text": [
      "INPUT:\n",
      "<sos> \" 开始 我 不知道 . \" <eos>\n",
      "REF:\n",
      "<sos> \" i did n't know this at the beginning . \" <eos>\n",
      "PREDICTION:\n",
      "<sos> \" i have never know it . \" <eos>\n",
      "BLEU = 0.391224\n",
      "------\n"
     ]
    },
    {
     "name": "stderr",
     "output_type": "stream",
     "text": [
      "\r",
      "  1%|          | 106/8572 [00:24<33:14,  4.24it/s]"
     ]
    },
    {
     "name": "stdout",
     "output_type": "stream",
     "text": [
      "INPUT:\n",
      "<sos> 何谓 \" 聪明 制裁 \" ? <eos>\n",
      "REF:\n",
      "<sos> what is meant by \" wise sanctions \" ? <eos>\n",
      "PREDICTION:\n",
      "<sos> what will \" fire \" \" this \" ? \" <eos>\n",
      "BLEU = 0.549100\n",
      "------\n"
     ]
    },
    {
     "name": "stderr",
     "output_type": "stream",
     "text": [
      "  1%|▏         | 108/8572 [00:24<33:24,  4.22it/s]"
     ]
    },
    {
     "name": "stdout",
     "output_type": "stream",
     "text": [
      "INPUT:\n",
      "<sos> 1951年5月23日 , 西藏 和平 解放 . <eos>\n",
      "REF:\n",
      "<sos> on 23 may , 1951 , tibet was peacefully liberated . <eos>\n",
      "PREDICTION:\n",
      "<sos> in tibet , tibet 's liberation were liberation . <eos>\n",
      "BLEU = 0.457814\n",
      "------\n",
      "INPUT:\n",
      "<sos> 经济 运行 质量 进一步 改善 . <eos>\n",
      "REF:\n",
      "<sos> the quality of economic operation has further improved . <eos>\n",
      "PREDICTION:\n",
      "<sos> the economic structure improved further improved . <eos>\n",
      "BLEU = 0.295387\n",
      "------\n"
     ]
    },
    {
     "name": "stderr",
     "output_type": "stream",
     "text": [
      "\r",
      "  1%|▏         | 109/8572 [00:24<32:18,  4.37it/s]"
     ]
    },
    {
     "name": "stdout",
     "output_type": "stream",
     "text": [
      "INPUT:\n",
      "<sos> 长期以来 , 我们 强调 按劳分配 . <eos>\n",
      "REF:\n",
      "<sos> we have stressed distribution according to work for a long time . <eos>\n",
      "PREDICTION:\n",
      "<sos> for a long time we stressed we have stressed this time . <eos>\n",
      "BLEU = 0.328570\n",
      "------\n"
     ]
    },
    {
     "name": "stderr",
     "output_type": "stream",
     "text": [
      "  1%|▏         | 111/8572 [00:25<32:48,  4.30it/s]"
     ]
    },
    {
     "name": "stdout",
     "output_type": "stream",
     "text": [
      "INPUT:\n",
      "<sos> 其一 , 更具 残酷 性 . <eos>\n",
      "REF:\n",
      "<sos> first , it is crueler in nature . <eos>\n",
      "PREDICTION:\n",
      "<sos> in the , , and is more and . <eos>\n",
      "BLEU = 0.483270\n",
      "------\n",
      "INPUT:\n",
      "<sos> 三 是 要 讲究 科学性 . <eos>\n",
      "REF:\n",
      "<sos> third , being scientific . <eos>\n",
      "PREDICTION:\n",
      "<sos> third , we must have more . <eos>\n",
      "BLEU = 0.415351\n",
      "------\n"
     ]
    },
    {
     "name": "stderr",
     "output_type": "stream",
     "text": [
      "\r",
      "  1%|▏         | 112/8572 [00:25<31:57,  4.41it/s]"
     ]
    },
    {
     "name": "stdout",
     "output_type": "stream",
     "text": [
      "INPUT:\n",
      "<sos> 收支相抵 , 赤字 <unk> 元 . <eos>\n",
      "REF:\n",
      "<sos> a deficit of <unk> billion yuan will be left after setting revenue against expenditure . <eos>\n",
      "PREDICTION:\n",
      "<sos> as is of this , the deficit more than yuan . <eos>\n",
      "BLEU = 0.325557\n",
      "------\n"
     ]
    },
    {
     "name": "stderr",
     "output_type": "stream",
     "text": [
      "\r",
      "  1%|▏         | 113/8572 [00:25<34:32,  4.08it/s]"
     ]
    },
    {
     "name": "stdout",
     "output_type": "stream",
     "text": [
      "INPUT:\n",
      "<sos> 又 哪 来 的 满意度 ? <eos>\n",
      "REF:\n",
      "<sos> how then can people be satisfied ? <eos>\n",
      "PREDICTION:\n",
      "<sos> how could like these cases again ? <eos>\n",
      "BLEU = 0.577350\n",
      "------\n"
     ]
    },
    {
     "name": "stderr",
     "output_type": "stream",
     "text": [
      "\r",
      "  1%|▏         | 114/8572 [00:26<33:10,  4.25it/s]"
     ]
    },
    {
     "name": "stdout",
     "output_type": "stream",
     "text": [
      "INPUT:\n",
      "<sos> 上次 会议 97 年 底 举行 <eos>\n",
      "REF:\n",
      "<sos> the economic restructuring office will be responsible for setting the orientation for reform . <eos>\n",
      "PREDICTION:\n",
      "<sos> the annual session of the ninth session was last year . <eos>\n",
      "BLEU = 0.399482\n",
      "------\n"
     ]
    },
    {
     "name": "stderr",
     "output_type": "stream",
     "text": [
      "\r",
      "  1%|▏         | 115/8572 [00:26<35:56,  3.92it/s]"
     ]
    },
    {
     "name": "stdout",
     "output_type": "stream",
     "text": [
      "INPUT:\n",
      "<sos> 要 实行 定期 审计 制度 . <eos>\n",
      "REF:\n",
      "<sos> we have to implement the regular audit system . <eos>\n",
      "PREDICTION:\n",
      "<sos> system system system system auditing system should be implemented . <eos>\n",
      "BLEU = 0.417226\n",
      "------\n"
     ]
    },
    {
     "name": "stderr",
     "output_type": "stream",
     "text": [
      "  1%|▏         | 117/8572 [00:26<34:29,  4.08it/s]"
     ]
    },
    {
     "name": "stdout",
     "output_type": "stream",
     "text": [
      "INPUT:\n",
      "<sos> 全面 加强 管理 是 当务之急 . <eos>\n",
      "REF:\n",
      "<sos> comprehensively strengthening management is an urgent task at present . <eos>\n",
      "PREDICTION:\n",
      "<sos> strengthening comprehensive management is a pressing task . <eos>\n",
      "BLEU = 0.514177\n",
      "------\n",
      "INPUT:\n",
      "<sos> 情节 , 后果 特别 严重 . <eos>\n",
      "REF:\n",
      "<sos> the nature and consequences of those offenses were extremely serious . <eos>\n",
      "PREDICTION:\n",
      "<sos> serious consequences serious serious consequences . <eos>\n",
      "BLEU = 0.292591\n",
      "------\n"
     ]
    },
    {
     "name": "stderr",
     "output_type": "stream",
     "text": [
      "\r",
      "  1%|▏         | 118/8572 [00:27<36:48,  3.83it/s]"
     ]
    },
    {
     "name": "stdout",
     "output_type": "stream",
     "text": [
      "INPUT:\n",
      "<sos> <unk> 的 起源 众说 不一 . <eos>\n",
      "REF:\n",
      "<sos> there are different theories about the origin of the <unk> . <eos>\n",
      "PREDICTION:\n",
      "<sos> a group of students on the - . <eos>\n",
      "BLEU = 0.359661\n",
      "------\n"
     ]
    },
    {
     "name": "stderr",
     "output_type": "stream",
     "text": [
      "  1%|▏         | 120/8572 [00:27<32:25,  4.34it/s]"
     ]
    },
    {
     "name": "stdout",
     "output_type": "stream",
     "text": [
      "INPUT:\n",
      "<sos> 大力 发掘 部队 培养 资源 . <eos>\n",
      "REF:\n",
      "<sos> vigorously develop training resources of troop units . <eos>\n",
      "PREDICTION:\n",
      "<sos> they must vigorously develop troops troops with great units . <eos>\n",
      "BLEU = 0.341723\n",
      "------\n",
      "INPUT:\n",
      "<sos> 这是 不 争 的 事实 . <eos>\n",
      "REF:\n",
      "<sos> this is an indisputable fact . <eos>\n",
      "PREDICTION:\n",
      "<sos> this is an fact fact at facts . <eos>\n",
      "BLEU = 0.324668\n",
      "------\n"
     ]
    },
    {
     "name": "stderr",
     "output_type": "stream",
     "text": [
      "\r",
      "  1%|▏         | 121/8572 [00:27<31:17,  4.50it/s]"
     ]
    },
    {
     "name": "stdout",
     "output_type": "stream",
     "text": [
      "INPUT:\n",
      "<sos> 你 对此 有 何 评价 ? <eos>\n",
      "REF:\n",
      "<sos> how do you evaluate this ? <eos>\n",
      "PREDICTION:\n",
      "<sos> are this comment on this ? <eos>\n",
      "BLEU = 0.392815\n",
      "------\n"
     ]
    },
    {
     "name": "stderr",
     "output_type": "stream",
     "text": [
      "\r",
      "  1%|▏         | 122/8572 [00:27<30:57,  4.55it/s]"
     ]
    },
    {
     "name": "stdout",
     "output_type": "stream",
     "text": [
      "INPUT:\n",
      "<sos> 其 涵义 不 言 自明 . <eos>\n",
      "REF:\n",
      "<sos> the meaning is self - evident . <eos>\n",
      "PREDICTION:\n",
      "<sos> the meaning goes on the meaning goes to his meaning . <eos>\n",
      "BLEU = 0.305769\n",
      "------\n"
     ]
    },
    {
     "name": "stderr",
     "output_type": "stream",
     "text": [
      "\r",
      "  1%|▏         | 123/8572 [00:28<33:44,  4.17it/s]"
     ]
    },
    {
     "name": "stdout",
     "output_type": "stream",
     "text": [
      "INPUT:\n",
      "<sos> 整顿 经济 鉴证 服务 市场 . <eos>\n",
      "REF:\n",
      "<sos> we will rectify the market for authentication services in economic activities . <eos>\n",
      "PREDICTION:\n",
      "<sos> the market of economic service sector is the . <eos>\n",
      "BLEU = 0.437525\n",
      "------\n"
     ]
    },
    {
     "name": "stderr",
     "output_type": "stream",
     "text": [
      "\r",
      "  1%|▏         | 124/8572 [00:28<35:49,  3.93it/s]"
     ]
    },
    {
     "name": "stdout",
     "output_type": "stream",
     "text": [
      "INPUT:\n",
      "<sos> 提高 认识 , 通力 协作 . <eos>\n",
      "REF:\n",
      "<sos> it is necessary to enhance understanding , and make a concerted effort . <eos>\n",
      "PREDICTION:\n",
      "<sos> understanding understanding understanding of understanding of understanding . <eos>\n",
      "BLEU = 0.278488\n",
      "------\n"
     ]
    },
    {
     "name": "stderr",
     "output_type": "stream",
     "text": [
      "\r",
      "  1%|▏         | 125/8572 [00:28<33:48,  4.16it/s]"
     ]
    },
    {
     "name": "stdout",
     "output_type": "stream",
     "text": [
      "INPUT:\n",
      "<sos> <unk> 脸上 顿时 火辣辣 的 . <eos>\n",
      "REF:\n",
      "<sos> zhang <unk> immediately felt very embarrassed . <eos>\n",
      "PREDICTION:\n",
      "<sos> the look at such as the . <eos>\n",
      "BLEU = 0.451801\n",
      "------\n"
     ]
    },
    {
     "name": "stderr",
     "output_type": "stream",
     "text": [
      "\r",
      "  1%|▏         | 126/8572 [00:28<32:13,  4.37it/s]"
     ]
    },
    {
     "name": "stdout",
     "output_type": "stream",
     "text": [
      "INPUT:\n",
      "<sos> 六 是 消费 结构 矛盾 . <eos>\n",
      "REF:\n",
      "<sos> sixth , contradictions exist in the consumption pattern . <eos>\n",
      "PREDICTION:\n",
      "<sos> contradictions , the contradiction of the six six . <eos>\n",
      "BLEU = 0.483270\n",
      "------\n"
     ]
    },
    {
     "name": "stderr",
     "output_type": "stream",
     "text": [
      "\r",
      "  1%|▏         | 127/8572 [00:29<31:12,  4.51it/s]"
     ]
    },
    {
     "name": "stdout",
     "output_type": "stream",
     "text": [
      "INPUT:\n",
      "<sos> 中国 非常 重视 立法 工作 . <eos>\n",
      "REF:\n",
      "<sos> we in china set great store in legislation . <eos>\n",
      "PREDICTION:\n",
      "<sos> china attaches great importance to its legislative work . <eos>\n",
      "BLEU = 0.461737\n",
      "------\n"
     ]
    },
    {
     "name": "stderr",
     "output_type": "stream",
     "text": [
      "  2%|▏         | 129/8572 [00:29<32:16,  4.36it/s]"
     ]
    },
    {
     "name": "stdout",
     "output_type": "stream",
     "text": [
      "INPUT:\n",
      "<sos> 其 三 , 更具 欺骗性 . <eos>\n",
      "REF:\n",
      "<sos> third , it is more deceitful in nature . <eos>\n",
      "PREDICTION:\n",
      "<sos> third , the three and more . <eos>\n",
      "BLEU = 0.348097\n",
      "------\n",
      "INPUT:\n",
      "<sos> 我们 被 禁止 使用 <unk> . \" <eos>\n",
      "REF:\n",
      "<sos> we were forbidden to use the washroom . \" <eos>\n",
      "PREDICTION:\n",
      "<sos> we use our use of \" \" <eos>\n",
      "BLEU = 0.488829\n",
      "------\n"
     ]
    },
    {
     "name": "stderr",
     "output_type": "stream",
     "text": [
      "\r",
      "  2%|▏         | 130/8572 [00:29<35:54,  3.92it/s]"
     ]
    },
    {
     "name": "stdout",
     "output_type": "stream",
     "text": [
      "INPUT:\n",
      "<sos> 对此 , 人们 不可 丧失 警惕 . <eos>\n",
      "REF:\n",
      "<sos> people should not lose their vigilance against this . <eos>\n",
      "PREDICTION:\n",
      "<sos> people should this kind of people must this this vigilance . <eos>\n",
      "BLEU = 0.332602\n",
      "------\n"
     ]
    },
    {
     "name": "stderr",
     "output_type": "stream",
     "text": [
      "\r",
      "  2%|▏         | 131/8572 [00:30<36:53,  3.81it/s]"
     ]
    },
    {
     "name": "stdout",
     "output_type": "stream",
     "text": [
      "INPUT:\n",
      "<sos> 其次 , 要 善 养 正气 . <eos>\n",
      "REF:\n",
      "<sos> second , party members should cultivate healthy trends . <eos>\n",
      "PREDICTION:\n",
      "<sos> second , we must be found with those people . <eos>\n",
      "BLEU = 0.326497\n",
      "------\n"
     ]
    },
    {
     "name": "stderr",
     "output_type": "stream",
     "text": [
      "\r",
      "  2%|▏         | 132/8572 [00:30<35:05,  4.01it/s]"
     ]
    },
    {
     "name": "stdout",
     "output_type": "stream",
     "text": [
      "INPUT:\n",
      "<sos> 全国 人民 代表 大会 常务 委员会 <unk> <eos>\n",
      "REF:\n",
      "<sos> standing committee , national people 's congress june 30 , 2001 <eos>\n",
      "PREDICTION:\n",
      "<sos> all npc standing committee of the npc standing committee on this session . <eos>\n",
      "BLEU = 0.371501\n",
      "------\n"
     ]
    },
    {
     "name": "stderr",
     "output_type": "stream",
     "text": [
      "  2%|▏         | 134/8572 [00:30<33:58,  4.14it/s]"
     ]
    },
    {
     "name": "stdout",
     "output_type": "stream",
     "text": [
      "INPUT:\n",
      "<sos> 这是 施政 的 两 大 成功 . <eos>\n",
      "REF:\n",
      "<sos> these are the two major successes that the government has achieved . <eos>\n",
      "PREDICTION:\n",
      "<sos> this is the major major watch the two major systems . <eos>\n",
      "BLEU = 0.307977\n",
      "------\n",
      "INPUT:\n",
      "<sos> 计划 是 宏观调控 的 一种 手段 . <eos>\n",
      "REF:\n",
      "<sos> planning is a means of macroeconomic regulation and control . <eos>\n",
      "PREDICTION:\n",
      "<sos> the control of a means exercising control means . <eos>\n",
      "BLEU = 0.545384\n",
      "------\n"
     ]
    },
    {
     "name": "stderr",
     "output_type": "stream",
     "text": [
      "\r",
      "  2%|▏         | 135/8572 [00:31<36:25,  3.86it/s]"
     ]
    },
    {
     "name": "stdout",
     "output_type": "stream",
     "text": [
      "INPUT:\n",
      "<sos> 阿拉法特 曾 先后 十四 访问 中国 . <eos>\n",
      "REF:\n",
      "<sos> ' arafat has paid 14 visits to china so far . <eos>\n",
      "PREDICTION:\n",
      "<sos> president arafat successively visited china . <eos>\n",
      "BLEU = 0.292591\n",
      "------\n"
     ]
    },
    {
     "name": "stderr",
     "output_type": "stream",
     "text": [
      "\r",
      "  2%|▏         | 136/8572 [00:31<34:28,  4.08it/s]"
     ]
    },
    {
     "name": "stdout",
     "output_type": "stream",
     "text": [
      "INPUT:\n",
      "<sos> 这 同样 说明 卫星 并非 万能 . <eos>\n",
      "REF:\n",
      "<sos> this similarly shows that satellites are by no means omnipotent . <eos>\n",
      "PREDICTION:\n",
      "<sos> this shows that all li does not mean from from all . <eos>\n",
      "BLEU = 0.560790\n",
      "------\n"
     ]
    },
    {
     "name": "stderr",
     "output_type": "stream",
     "text": [
      "\r",
      "  2%|▏         | 137/8572 [00:31<36:06,  3.89it/s]"
     ]
    },
    {
     "name": "stdout",
     "output_type": "stream",
     "text": [
      "INPUT:\n",
      "<sos> 第二 , 推进 利率 市场化 改革 . <eos>\n",
      "REF:\n",
      "<sos> second , we will reform interest rates in order to make them market - oriented . <eos>\n",
      "PREDICTION:\n",
      "<sos> second , we must promote reform rates . <eos>\n",
      "BLEU = 0.150835\n",
      "------\n"
     ]
    },
    {
     "name": "stderr",
     "output_type": "stream",
     "text": [
      "  2%|▏         | 139/8572 [00:32<31:53,  4.41it/s]"
     ]
    },
    {
     "name": "stdout",
     "output_type": "stream",
     "text": [
      "INPUT:\n",
      "<sos> 但是 , 天下 仍 不 太平 . <eos>\n",
      "REF:\n",
      "<sos> however , the world is still not quite peaceful . <eos>\n",
      "PREDICTION:\n",
      "<sos> however , however however however however not not tranquil . <eos>\n",
      "BLEU = 0.341723\n",
      "------\n",
      "INPUT:\n",
      "<sos> 但 仅有 这些 是 不够 的 . <eos>\n",
      "REF:\n",
      "<sos> but these things alone are not enough . <eos>\n",
      "PREDICTION:\n",
      "<sos> however , these these are not enough . <eos>\n",
      "BLEU = 0.427287\n",
      "------\n"
     ]
    },
    {
     "name": "stderr",
     "output_type": "stream",
     "text": [
      "\r",
      "  2%|▏         | 140/8572 [00:32<31:44,  4.43it/s]"
     ]
    },
    {
     "name": "stdout",
     "output_type": "stream",
     "text": [
      "INPUT:\n",
      "<sos> 第一 , 加强 和 改善 宏观调控 . <eos>\n",
      "REF:\n",
      "<sos> first , strengthen and improve macroeconomic regulation and control . <eos>\n",
      "PREDICTION:\n",
      "<sos> first , we should strengthen and improve macro regulation and control . <eos>\n",
      "BLEU = 0.437481\n",
      "------\n"
     ]
    },
    {
     "name": "stderr",
     "output_type": "stream",
     "text": [
      "\r",
      "  2%|▏         | 141/8572 [00:32<34:30,  4.07it/s]"
     ]
    },
    {
     "name": "stdout",
     "output_type": "stream",
     "text": [
      "INPUT:\n",
      "<sos> 李鹏 专门 谈 了 反腐败 问题 . <eos>\n",
      "REF:\n",
      "<sos> li peng also stressed the need to accelerate the development of infrastructure in the western region . <eos>\n",
      "PREDICTION:\n",
      "<sos> li peng also discussed special special talk about the question of the special . <eos>\n",
      "BLEU = 0.167045\n",
      "------\n"
     ]
    },
    {
     "name": "stderr",
     "output_type": "stream",
     "text": [
      "\r",
      "  2%|▏         | 142/8572 [00:32<36:58,  3.80it/s]"
     ]
    },
    {
     "name": "stdout",
     "output_type": "stream",
     "text": [
      "INPUT:\n",
      "<sos> 国家 经贸委 副主任 李荣融 到会 讲话 . <eos>\n",
      "REF:\n",
      "<sos> li rongrong , vice minister in charge of the state economic and trade commission , spoke at the meeting . <eos>\n",
      "PREDICTION:\n",
      "<sos> state economic and trade commission will li rongrong will included the the the opening ceremony . <eos>\n",
      "BLEU = 0.221757\n",
      "------\n"
     ]
    },
    {
     "name": "stderr",
     "output_type": "stream",
     "text": [
      "\r",
      "  2%|▏         | 143/8572 [00:33<38:06,  3.69it/s]"
     ]
    },
    {
     "name": "stdout",
     "output_type": "stream",
     "text": [
      "INPUT:\n",
      "<sos> ( 解放军报 2000年 09月 29日 第1 ) <eos>\n",
      "REF:\n",
      "<sos> doing so can help colleges improve the standards of their teaching . <eos>\n",
      "PREDICTION:\n",
      "<sos> ( on the on the on 2000 on 29 december 2000 . <eos>\n",
      "BLEU = 0.385032\n",
      "------\n"
     ]
    },
    {
     "name": "stderr",
     "output_type": "stream",
     "text": [
      "\r",
      "  2%|▏         | 144/8572 [00:33<38:52,  3.61it/s]"
     ]
    },
    {
     "name": "stdout",
     "output_type": "stream",
     "text": [
      "INPUT:\n",
      "<sos> 百 年 夙愿 终於 可望 实现 . <eos>\n",
      "REF:\n",
      "<sos> there is hope that we can materialize our century - old wish . <eos>\n",
      "PREDICTION:\n",
      "<sos> the state of the realized be realized over the end of their six . <eos>\n",
      "BLEU = 0.334370\n",
      "------\n"
     ]
    },
    {
     "name": "stderr",
     "output_type": "stream",
     "text": [
      "\r",
      "  2%|▏         | 145/8572 [00:33<35:52,  3.91it/s]"
     ]
    },
    {
     "name": "stdout",
     "output_type": "stream",
     "text": [
      "INPUT:\n",
      "<sos> 科索沃 局势 恶化 还有 另一个 原因 . <eos>\n",
      "REF:\n",
      "<sos> the deterioration of the kosovo situation has another reason . <eos>\n",
      "PREDICTION:\n",
      "<sos> there are the worsening worsening in kosovo . <eos>\n",
      "BLEU = 0.397487\n",
      "------\n"
     ]
    },
    {
     "name": "stderr",
     "output_type": "stream",
     "text": [
      "\r",
      "  2%|▏         | 146/8572 [00:33<33:45,  4.16it/s]"
     ]
    },
    {
     "name": "stdout",
     "output_type": "stream",
     "text": [
      "INPUT:\n",
      "<sos> ( 解放军报 2001年 02月 21日 第12 ) <eos>\n",
      "REF:\n",
      "<sos> ( jiefangjun bao , 21 february 2001 , p 12 ) <eos>\n",
      "PREDICTION:\n",
      "<sos> the new and the the ( the two ) . <eos>\n",
      "BLEU = 0.699083\n",
      "------\n"
     ]
    },
    {
     "name": "stderr",
     "output_type": "stream",
     "text": [
      "\r",
      "  2%|▏         | 147/8572 [00:34<35:50,  3.92it/s]"
     ]
    },
    {
     "name": "stdout",
     "output_type": "stream",
     "text": [
      "INPUT:\n",
      "<sos> 尉健行 高度 评价 中 津 关系 . <eos>\n",
      "REF:\n",
      "<sos> wei spoke highly of the sino - zimbabwean relationship . <eos>\n",
      "PREDICTION:\n",
      "<sos> wei jianxing highly praised the 's high - . <eos>\n",
      "BLEU = 0.545384\n",
      "------\n"
     ]
    },
    {
     "name": "stderr",
     "output_type": "stream",
     "text": [
      "  2%|▏         | 149/8572 [00:34<31:48,  4.41it/s]"
     ]
    },
    {
     "name": "stdout",
     "output_type": "stream",
     "text": [
      "INPUT:\n",
      "<sos> 俄罗斯 国内 经济 不振 更是 雪上加霜 . <eos>\n",
      "REF:\n",
      "<sos> the weak domestic economy adds to its misfortunes . <eos>\n",
      "PREDICTION:\n",
      "<sos> russia 's domestic economic will go to russia . <eos>\n",
      "BLEU = 0.461737\n",
      "------\n",
      "INPUT:\n",
      "<sos> 事情 恐怕 并不 那 幺 简单 . <eos>\n",
      "REF:\n",
      "<sos> perhaps circumstances may not be that simple . <eos>\n",
      "PREDICTION:\n",
      "<sos> perhaps not not not simple simple simple . <eos>\n",
      "BLEU = 0.397635\n",
      "------\n"
     ]
    },
    {
     "name": "stderr",
     "output_type": "stream",
     "text": [
      "\r",
      "  2%|▏         | 150/8572 [00:34<31:14,  4.49it/s]"
     ]
    },
    {
     "name": "stdout",
     "output_type": "stream",
     "text": [
      "INPUT:\n",
      "<sos> 但 这项 计划 一直 没有 付诸实施 . <eos>\n",
      "REF:\n",
      "<sos> but this plan had never materialized . <eos>\n",
      "PREDICTION:\n",
      "<sos> however , however , this has not been . <eos>\n",
      "BLEU = 0.436684\n",
      "------\n"
     ]
    },
    {
     "name": "stderr",
     "output_type": "stream",
     "text": [
      "  2%|▏         | 152/8572 [00:35<32:10,  4.36it/s]"
     ]
    },
    {
     "name": "stdout",
     "output_type": "stream",
     "text": [
      "INPUT:\n",
      "<sos> 这是 整个 国际 社会 的 共识 . <eos>\n",
      "REF:\n",
      "<sos> this is a common understanding of the international community at large . <eos>\n",
      "PREDICTION:\n",
      "<sos> this is the consensus of the entire society international community . <eos>\n",
      "BLEU = 0.372620\n",
      "------\n",
      "INPUT:\n",
      "<sos> 这 不是 没有 理由 的 担心 . <eos>\n",
      "REF:\n",
      "<sos> this is not a groundless worry . <eos>\n",
      "PREDICTION:\n",
      "<sos> nor is no reason nor nor reason . <eos>\n",
      "BLEU = 0.459150\n",
      "------\n"
     ]
    },
    {
     "name": "stderr",
     "output_type": "stream",
     "text": [
      "  2%|▏         | 154/8572 [00:35<29:52,  4.70it/s]"
     ]
    },
    {
     "name": "stdout",
     "output_type": "stream",
     "text": [
      "INPUT:\n",
      "<sos> 这 与 王志乐 的 调查 不谋而合 . <eos>\n",
      "REF:\n",
      "<sos> this view coincides with wang zhile 's survey . <eos>\n",
      "PREDICTION:\n",
      "<sos> this can be the with the sun of the . <eos>\n",
      "BLEU = 0.524634\n",
      "------\n",
      "INPUT:\n",
      "<sos> 胡锦涛 对 古利耶夫 访华 表示 欢迎 . <eos>\n",
      "REF:\n",
      "<sos> hu jintao expressed his welcome for guliyev 's visit to china . <eos>\n",
      "PREDICTION:\n",
      "<sos> hu jintao expressed his welcome to china on china . <eos>\n",
      "BLEU = 0.477209\n",
      "------\n"
     ]
    },
    {
     "name": "stderr",
     "output_type": "stream",
     "text": [
      "  2%|▏         | 156/8572 [00:36<28:47,  4.87it/s]"
     ]
    },
    {
     "name": "stdout",
     "output_type": "stream",
     "text": [
      "INPUT:\n",
      "<sos> 当今 世界 , 天下 并不 太平 . <eos>\n",
      "REF:\n",
      "<sos> the world is by no means at peace today . <eos>\n",
      "PREDICTION:\n",
      "<sos> today , world today is not tranquil today . <eos>\n",
      "BLEU = 0.302974\n",
      "------\n",
      "INPUT:\n",
      "<sos> 您 对此 有 什 幺 感触 ? <eos>\n",
      "REF:\n",
      "<sos> what is your comment on this ? <eos>\n",
      "PREDICTION:\n",
      "<sos> what are your purposes ? <eos>\n",
      "BLEU = 0.524933\n",
      "------\n"
     ]
    },
    {
     "name": "stderr",
     "output_type": "stream",
     "text": [
      "\r",
      "  2%|▏         | 157/8572 [00:36<32:54,  4.26it/s]"
     ]
    },
    {
     "name": "stdout",
     "output_type": "stream",
     "text": [
      "INPUT:\n",
      "<sos> 生活 中 , 这样的 事情 屡见不鲜 . <eos>\n",
      "REF:\n",
      "<sos> similar cases are also found in our daily life . <eos>\n",
      "PREDICTION:\n",
      "<sos> nothing , such such things are not . <eos>\n",
      "BLEU = 0.375920\n",
      "------\n"
     ]
    },
    {
     "name": "stderr",
     "output_type": "stream",
     "text": [
      "\r",
      "  2%|▏         | 158/8572 [00:36<31:36,  4.44it/s]"
     ]
    },
    {
     "name": "stdout",
     "output_type": "stream",
     "text": [
      "INPUT:\n",
      "<sos> 完善 西部 省区 间 的 通道 . <eos>\n",
      "REF:\n",
      "<sos> we should improve communications between the western provinces and autonomous regions . <eos>\n",
      "PREDICTION:\n",
      "<sos> the west should be perfected in an west . <eos>\n",
      "BLEU = 0.351520\n",
      "------\n"
     ]
    },
    {
     "name": "stderr",
     "output_type": "stream",
     "text": [
      "\r",
      "  2%|▏         | 159/8572 [00:36<34:48,  4.03it/s]"
     ]
    },
    {
     "name": "stdout",
     "output_type": "stream",
     "text": [
      "INPUT:\n",
      "<sos> 一 是 强化 全会 的 职能 . <eos>\n",
      "REF:\n",
      "<sos> first is strengthening the functions of the plenum . <eos>\n",
      "PREDICTION:\n",
      "<sos> first , it is the key to strengthening the regional foreign . <eos>\n",
      "BLEU = 0.602608\n",
      "------\n"
     ]
    },
    {
     "name": "stderr",
     "output_type": "stream",
     "text": [
      "\r",
      "  2%|▏         | 160/8572 [00:37<36:31,  3.84it/s]"
     ]
    },
    {
     "name": "stdout",
     "output_type": "stream",
     "text": [
      "INPUT:\n",
      "<sos> 第四 , 协商 精神 合作 态度 . <eos>\n",
      "REF:\n",
      "<sos> fourth , a consultative spirit and a cooperative attitude are essential . <eos>\n",
      "PREDICTION:\n",
      "<sos> fourth , we should cooperate together cooperation . <eos>\n",
      "BLEU = 0.254667\n",
      "------\n"
     ]
    },
    {
     "name": "stderr",
     "output_type": "stream",
     "text": [
      "\r",
      "  2%|▏         | 161/8572 [00:37<34:41,  4.04it/s]"
     ]
    },
    {
     "name": "stdout",
     "output_type": "stream",
     "text": [
      "INPUT:\n",
      "<sos> 此前 美国 的 态度 可不是 这样 . <eos>\n",
      "REF:\n",
      "<sos> burns will be unfolding activities of diplomatic mediations right away . <eos>\n",
      "PREDICTION:\n",
      "<sos> the attitude was a us attitude in this this . <eos>\n",
      "BLEU = 0.357228\n",
      "------\n"
     ]
    },
    {
     "name": "stderr",
     "output_type": "stream",
     "text": [
      "  2%|▏         | 163/8572 [00:37<33:43,  4.16it/s]"
     ]
    },
    {
     "name": "stdout",
     "output_type": "stream",
     "text": [
      "INPUT:\n",
      "<sos> 清理 和 规范 税收 优惠 政策 . <eos>\n",
      "REF:\n",
      "<sos> steps will be taken to rectify and standardize favorable tax treatments . <eos>\n",
      "PREDICTION:\n",
      "<sos> tax tax tax and tax tax policy taxation policy . <eos>\n",
      "BLEU = 0.373436\n",
      "------\n",
      "INPUT:\n",
      "<sos> 第十 , 加快 小 城镇 建设 . <eos>\n",
      "REF:\n",
      "<sos> tenth , construction of small cities and towns should be speeded up . <eos>\n",
      "PREDICTION:\n",
      "<sos> construction construction construction construction construction 10 small towns . <eos>\n",
      "BLEU = 0.335942\n",
      "------\n"
     ]
    },
    {
     "name": "stderr",
     "output_type": "stream",
     "text": [
      "  2%|▏         | 165/8572 [00:38<33:30,  4.18it/s]"
     ]
    },
    {
     "name": "stdout",
     "output_type": "stream",
     "text": [
      "INPUT:\n",
      "<sos> 要 下决心 加快 畜牧业 的 发展 . <eos>\n",
      "REF:\n",
      "<sos> we need to resolve to develop livestock raising faster . <eos>\n",
      "PREDICTION:\n",
      "<sos> it is necessary to speed the pace of development of development . <eos>\n",
      "BLEU = 0.385032\n",
      "------\n",
      "INPUT:\n",
      "<sos> 一九五八年 , 他 兼任 外交部 长 . <eos>\n",
      "REF:\n",
      "<sos> in 1958 , he was concurrently the minister of foreign affairs . <eos>\n",
      "PREDICTION:\n",
      "<sos> he was the for foreign foreign minister and . <eos>\n",
      "BLEU = 0.470152\n",
      "------\n"
     ]
    },
    {
     "name": "stderr",
     "output_type": "stream",
     "text": [
      "\r",
      "  2%|▏         | 166/8572 [00:38<33:37,  4.17it/s]"
     ]
    },
    {
     "name": "stdout",
     "output_type": "stream",
     "text": [
      "INPUT:\n",
      "<sos> 今年 是 中巴 建交 五十 周年 . <eos>\n",
      "REF:\n",
      "<sos> this year marks the 50 th anniversary of the establishment of diplomatic relations between the two countries . <eos>\n",
      "PREDICTION:\n",
      "<sos> this year is 50 50 th 50 50 50 50 50 th anniversary of diplomatic relations between china and 50 . <eos>\n",
      "BLEU = 0.266997\n",
      "------\n"
     ]
    },
    {
     "name": "stderr",
     "output_type": "stream",
     "text": [
      "\r",
      "  2%|▏         | 167/8572 [00:38<35:07,  3.99it/s]"
     ]
    },
    {
     "name": "stdout",
     "output_type": "stream",
     "text": [
      "INPUT:\n",
      "<sos> 为啥 关键 时刻 \" 掉 链子 \" <eos>\n",
      "REF:\n",
      "<sos> at what critical moment was the \" ball dropped \" ? <eos>\n",
      "PREDICTION:\n",
      "<sos> at the moment , the key key \" \" \" lies in the . <eos>\n",
      "BLEU = 0.413258\n",
      "------\n"
     ]
    },
    {
     "name": "stderr",
     "output_type": "stream",
     "text": [
      "\r",
      "  2%|▏         | 168/8572 [00:39<36:52,  3.80it/s]"
     ]
    },
    {
     "name": "stdout",
     "output_type": "stream",
     "text": [
      "INPUT:\n",
      "<sos> 二 是 人员 往来 日益 频繁 . <eos>\n",
      "REF:\n",
      "<sos> personnel contacts were more frequent . <eos>\n",
      "PREDICTION:\n",
      "<sos> second second is the second frequently frequent second and personnel second . <eos>\n",
      "BLEU = 0.407122\n",
      "------\n",
      "INPUT:\n",
      "<sos> 加强 对 地下水 资源 的 保护 . <eos>\n",
      "REF:\n",
      "<sos> it is necessary to strengthen the protection for underground water resources . <eos>\n",
      "PREDICTION:\n",
      "<sos> protection protection protection protection . <eos>\n",
      "BLEU = 0.204366\n",
      "------\n"
     ]
    },
    {
     "name": "stderr",
     "output_type": "stream",
     "text": [
      "\r",
      "  2%|▏         | 170/8572 [00:39<34:13,  4.09it/s]"
     ]
    },
    {
     "name": "stdout",
     "output_type": "stream",
     "text": [
      "INPUT:\n",
      "<sos> 推陈出新 , 还要 努力 推出 新人 . <eos>\n",
      "REF:\n",
      "<sos> to weed through the old to bring forth the new , we must strive to offer opportunities to new people . <eos>\n",
      "PREDICTION:\n",
      "<sos> to make next effort will be to make joint efforts . <eos>\n",
      "BLEU = 0.233156\n",
      "------\n"
     ]
    },
    {
     "name": "stderr",
     "output_type": "stream",
     "text": [
      "\r",
      "  2%|▏         | 171/8572 [00:39<36:48,  3.80it/s]"
     ]
    },
    {
     "name": "stdout",
     "output_type": "stream",
     "text": [
      "INPUT:\n",
      "<sos> 国务院 台办 今天 在这里 举行 新闻发布会 . <eos>\n",
      "REF:\n",
      "<sos> zhang mingqing made this statement at a news briefing sponsored by the state council taiwan affairs office today . <eos>\n",
      "PREDICTION:\n",
      "<sos> the press affairs office of the taiwan affairs council held a press conference here today . <eos>\n",
      "BLEU = 0.254491\n",
      "------\n"
     ]
    },
    {
     "name": "stderr",
     "output_type": "stream",
     "text": [
      "\r",
      "  2%|▏         | 172/8572 [00:40<37:31,  3.73it/s]"
     ]
    },
    {
     "name": "stdout",
     "output_type": "stream",
     "text": [
      "INPUT:\n",
      "<sos> 这个 图谋 是 不可能 得逞 的 . <eos>\n",
      "REF:\n",
      "<sos> it is impossible for this plot to succeed . <eos>\n",
      "PREDICTION:\n",
      "<sos> this cannot be impossible for the party . <eos>\n",
      "BLEU = 0.546771\n",
      "------\n"
     ]
    },
    {
     "name": "stderr",
     "output_type": "stream",
     "text": [
      "  2%|▏         | 174/8572 [00:40<32:28,  4.31it/s]"
     ]
    },
    {
     "name": "stdout",
     "output_type": "stream",
     "text": [
      "INPUT:\n",
      "<sos> 农民 一 是 怕 干部 瞎指挥 . <eos>\n",
      "REF:\n",
      "<sos> first , peasants fear cadres who issue confusing orders [ xia zhi hui <unk> <unk> <unk> ] . <eos>\n",
      "PREDICTION:\n",
      "<sos> cadres cadres is the cadres who cadres cadres this cadres . <eos>\n",
      "BLEU = 0.293676\n",
      "------\n",
      "INPUT:\n",
      "<sos> 人 是 从 哪里 来 的 ? <eos>\n",
      "REF:\n",
      "<sos> where did man come from ? <eos>\n",
      "PREDICTION:\n",
      "<sos> where is the people from ? <eos>\n",
      "BLEU = 0.459661\n",
      "------\n"
     ]
    },
    {
     "name": "stderr",
     "output_type": "stream",
     "text": [
      "  2%|▏         | 176/8572 [00:41<30:07,  4.64it/s]"
     ]
    },
    {
     "name": "stdout",
     "output_type": "stream",
     "text": [
      "INPUT:\n",
      "<sos> 汪会长 是不是 就 可以 回访 台湾 ? <eos>\n",
      "REF:\n",
      "<sos> can chairman wang pay a return visit to taiwan ? <eos>\n",
      "PREDICTION:\n",
      "<sos> can it can be able to taiwan ? <eos>\n",
      "BLEU = 0.255767\n",
      "------\n",
      "INPUT:\n",
      "<sos> 谢谢 您 接受 本报 的 采访 . <eos>\n",
      "REF:\n",
      "<sos> thank you for the interview . <eos>\n",
      "PREDICTION:\n",
      "<sos> so she is accepted remarks . <eos>\n",
      "BLEU = 0.481098\n",
      "------\n"
     ]
    },
    {
     "name": "stderr",
     "output_type": "stream",
     "text": [
      "\r",
      "  2%|▏         | 177/8572 [00:41<30:25,  4.60it/s]"
     ]
    },
    {
     "name": "stdout",
     "output_type": "stream",
     "text": [
      "INPUT:\n",
      "<sos> 向后 看 是 为了 更好地 向前看 . <eos>\n",
      "REF:\n",
      "<sos> the purpose of looking back is to look forward better . <eos>\n",
      "PREDICTION:\n",
      "<sos> in the purpose of this respect , the sake was was planning . <eos>\n",
      "BLEU = 0.284956\n",
      "------\n"
     ]
    },
    {
     "name": "stderr",
     "output_type": "stream",
     "text": [
      "\r",
      "  2%|▏         | 178/8572 [00:41<32:53,  4.25it/s]"
     ]
    },
    {
     "name": "stdout",
     "output_type": "stream",
     "text": [
      "INPUT:\n",
      "<sos> -- 始终 注意 保持 社会 稳定 . <eos>\n",
      "REF:\n",
      "<sos> - - constantly pay attention to maintaining social stability . <eos>\n",
      "PREDICTION:\n",
      "<sos> - - consistently attention to the stability of social stability . <eos>\n",
      "BLEU = 0.311709\n",
      "------\n"
     ]
    },
    {
     "name": "stderr",
     "output_type": "stream",
     "text": [
      "\r",
      "  2%|▏         | 179/8572 [00:41<32:03,  4.36it/s]"
     ]
    },
    {
     "name": "stdout",
     "output_type": "stream",
     "text": [
      "INPUT:\n",
      "<sos> 马克思主义 历来 重视 党 的 先进性 . <eos>\n",
      "REF:\n",
      "<sos> marxism has always attached importance to the advanced nature of the party . <eos>\n",
      "PREDICTION:\n",
      "<sos> marxism has always always attach importance to the party 's advanced nature . <eos>\n",
      "BLEU = 0.306205\n",
      "------\n"
     ]
    },
    {
     "name": "stderr",
     "output_type": "stream",
     "text": [
      "\r",
      "  2%|▏         | 180/8572 [00:42<34:18,  4.08it/s]"
     ]
    },
    {
     "name": "stdout",
     "output_type": "stream",
     "text": [
      "INPUT:\n",
      "<sos> 发展 要 不断 开拓 新 思路 . <eos>\n",
      "REF:\n",
      "<sos> development calls for constant exploration of new ways of thinking . <eos>\n",
      "PREDICTION:\n",
      "<sos> we should develop new development in the ground while continually . <eos>\n",
      "BLEU = 0.423118\n",
      "------\n"
     ]
    },
    {
     "name": "stderr",
     "output_type": "stream",
     "text": [
      "\r",
      "  2%|▏         | 181/8572 [00:42<32:30,  4.30it/s]"
     ]
    },
    {
     "name": "stdout",
     "output_type": "stream",
     "text": [
      "INPUT:\n",
      "<sos> \" <unk> 从 哪里 引进 的 ? <eos>\n",
      "REF:\n",
      "<sos> \" where do you import the grape <unk> from ? <eos>\n",
      "PREDICTION:\n",
      "<sos> where is where the the hinterland ? <eos>\n",
      "BLEU = 0.367828\n",
      "------\n"
     ]
    },
    {
     "name": "stderr",
     "output_type": "stream",
     "text": [
      "\r",
      "  2%|▏         | 182/8572 [00:42<31:24,  4.45it/s]"
     ]
    },
    {
     "name": "stdout",
     "output_type": "stream",
     "text": [
      "INPUT:\n",
      "<sos> 社会主义 的 优越性 不会 自动 实现 . <eos>\n",
      "REF:\n",
      "<sos> socialism superiority will not automatically manifest itself . <eos>\n",
      "PREDICTION:\n",
      "<sos> the superiority superiority of socialism superiority will not be . <eos>\n",
      "BLEU = 0.262025\n",
      "------\n"
     ]
    },
    {
     "name": "stderr",
     "output_type": "stream",
     "text": [
      "\r",
      "  2%|▏         | 183/8572 [00:42<30:48,  4.54it/s]"
     ]
    },
    {
     "name": "stdout",
     "output_type": "stream",
     "text": [
      "INPUT:\n",
      "<sos> 张全景 说 , 要 加强 领导 . <eos>\n",
      "REF:\n",
      "<sos> zhang said : we should strengthen leadership . <eos>\n",
      "PREDICTION:\n",
      "<sos> zhang said : in leadership is must strengthen leadership leadership leadership leadership leadership leadership . <eos>\n",
      "BLEU = 0.224075\n",
      "------\n"
     ]
    },
    {
     "name": "stderr",
     "output_type": "stream",
     "text": [
      "\r",
      "  2%|▏         | 184/8572 [00:42<33:33,  4.17it/s]"
     ]
    },
    {
     "name": "stdout",
     "output_type": "stream",
     "text": [
      "INPUT:\n",
      "<sos> 请问 公署 对此 有 何 评论 ? <eos>\n",
      "REF:\n",
      "<sos> how will the commissioners office comment on this ? <eos>\n",
      "PREDICTION:\n",
      "<sos> do you have any comment on this ? <eos>\n",
      "BLEU = 0.372009\n",
      "------\n"
     ]
    },
    {
     "name": "stderr",
     "output_type": "stream",
     "text": [
      "  2%|▏         | 186/8572 [00:43<30:55,  4.52it/s]"
     ]
    },
    {
     "name": "stdout",
     "output_type": "stream",
     "text": [
      "INPUT:\n",
      "<sos> 然而 , 台湾 当局 却是 反其道而行之 . <eos>\n",
      "REF:\n",
      "<sos> however , the taiwan authorities have acted in a diametrically opposite way . <eos>\n",
      "PREDICTION:\n",
      "<sos> however , the authorities authorities authorities taiwan authorities have been taiwan authorities . <eos>\n",
      "BLEU = 0.265181\n",
      "------\n",
      "INPUT:\n",
      "<sos> 信息社会 , 本质上 是 网络 社会 . <eos>\n",
      "REF:\n",
      "<sos> the information society is , in essence , the network society . <eos>\n",
      "PREDICTION:\n",
      "<sos> social social networks is a a social social social social social . <eos>\n",
      "BLEU = 0.385032\n",
      "------\n"
     ]
    },
    {
     "name": "stderr",
     "output_type": "stream",
     "text": [
      "  2%|▏         | 188/8572 [00:43<31:56,  4.37it/s]"
     ]
    },
    {
     "name": "stdout",
     "output_type": "stream",
     "text": [
      "INPUT:\n",
      "<sos> 改革 是 促进 发展 的 动力 . <eos>\n",
      "REF:\n",
      "<sos> reform represents a driving force for development . <eos>\n",
      "PREDICTION:\n",
      "<sos> reform is the driving force for driving force development . <eos>\n",
      "BLEU = 0.496168\n",
      "------\n",
      "INPUT:\n",
      "<sos> 请问 外交部 对此 有 何 评论 ? <eos>\n",
      "REF:\n",
      "<sos> does the foreign ministry have any comments on the issue ? <eos>\n",
      "PREDICTION:\n",
      "<sos> what is the ministry ministry about this ? <eos>\n",
      "BLEU = 0.359661\n",
      "------\n"
     ]
    },
    {
     "name": "stderr",
     "output_type": "stream",
     "text": [
      "  2%|▏         | 190/8572 [00:44<32:28,  4.30it/s]"
     ]
    },
    {
     "name": "stdout",
     "output_type": "stream",
     "text": [
      "INPUT:\n",
      "<sos> 但 台北 却 完全 不予 理会 . <eos>\n",
      "REF:\n",
      "<sos> nonetheless , taipei has again turned a blind eye to that . <eos>\n",
      "PREDICTION:\n",
      "<sos> however , however , however are all different from the . <eos>\n",
      "BLEU = 0.370533\n",
      "------\n",
      "INPUT:\n",
      "<sos> 试问 , 这是 什 麽 逻辑 ? <eos>\n",
      "REF:\n",
      "<sos> we would like to know , where is the logic in that ? <eos>\n",
      "PREDICTION:\n",
      "<sos> what is the is this ? <eos>\n",
      "BLEU = 0.270985\n",
      "------\n"
     ]
    },
    {
     "name": "stderr",
     "output_type": "stream",
     "text": [
      "\r",
      "  2%|▏         | 191/8572 [00:44<32:29,  4.30it/s]"
     ]
    },
    {
     "name": "stdout",
     "output_type": "stream",
     "text": [
      "INPUT:\n",
      "<sos> 布什 入主 白宫 已经 两 周 . <eos>\n",
      "REF:\n",
      "<sos> bush has now been in the white house for two weeks . <eos>\n",
      "PREDICTION:\n",
      "<sos> bush bush has already white house white white week white house . week . <eos>\n",
      "BLEU = 0.584436\n",
      "------\n"
     ]
    },
    {
     "name": "stderr",
     "output_type": "stream",
     "text": [
      "\r",
      "  2%|▏         | 192/8572 [00:44<34:31,  4.05it/s]"
     ]
    },
    {
     "name": "stdout",
     "output_type": "stream",
     "text": [
      "INPUT:\n",
      "<sos> 强化 按 知 分配 的 观念 . <eos>\n",
      "REF:\n",
      "<sos> it is necessary to stress the concept of distribution according to knowledge . <eos>\n",
      "PREDICTION:\n",
      "<sos> it is necessary to to strengthen the in the distribution of the . <eos>\n",
      "BLEU = 0.316805\n",
      "------\n"
     ]
    },
    {
     "name": "stderr",
     "output_type": "stream",
     "text": [
      "\r",
      "  2%|▏         | 193/8572 [00:45<37:01,  3.77it/s]"
     ]
    },
    {
     "name": "stdout",
     "output_type": "stream",
     "text": [
      "INPUT:\n",
      "<sos> 具体 管理 办法 由 国务院 规定 . <eos>\n",
      "REF:\n",
      "<sos> the state council shall work out specific management measures for this purpose . <eos>\n",
      "PREDICTION:\n",
      "<sos> specific specific measures shall be specific specific specific specific specific specific specific specific specific specific specific specific specific . <eos>\n",
      "BLEU = 0.345721\n",
      "------\n"
     ]
    },
    {
     "name": "stderr",
     "output_type": "stream",
     "text": [
      "\r",
      "  2%|▏         | 194/8572 [00:45<37:37,  3.71it/s]"
     ]
    },
    {
     "name": "stdout",
     "output_type": "stream",
     "text": [
      "INPUT:\n",
      "<sos> 我们 对此 表示 钦佩 和 赞赏 . <eos>\n",
      "REF:\n",
      "<sos> we admire and appreciate this . <eos>\n",
      "PREDICTION:\n",
      "<sos> we admire and and for this action for this . <eos>\n",
      "BLEU = 0.306615\n",
      "------\n"
     ]
    },
    {
     "name": "stderr",
     "output_type": "stream",
     "text": [
      "\r",
      "  2%|▏         | 195/8572 [00:45<35:13,  3.96it/s]"
     ]
    },
    {
     "name": "stdout",
     "output_type": "stream",
     "text": [
      "INPUT:\n",
      "<sos> 稳定 符合 人民 的 根本 利益 . <eos>\n",
      "REF:\n",
      "<sos> maintaining stability is in line with the people 's fundamental interests . <eos>\n",
      "PREDICTION:\n",
      "<sos> stability is the fundamental interest of people in the fundamental interests . <eos>\n",
      "BLEU = 0.240221\n",
      "------\n"
     ]
    },
    {
     "name": "stderr",
     "output_type": "stream",
     "text": [
      "\r",
      "  2%|▏         | 196/8572 [00:45<36:57,  3.78it/s]"
     ]
    },
    {
     "name": "stdout",
     "output_type": "stream",
     "text": [
      "INPUT:\n",
      "<sos> <unk> 也要 搞 \" 快 反 \" <eos>\n",
      "REF:\n",
      "<sos> you have to do no matter what to achieve \" rapid reaction . \" <eos>\n",
      "PREDICTION:\n",
      "<sos> it is necessary to engage in \" \" \" china \" \" <eos>\n",
      "BLEU = 0.352925\n",
      "------\n"
     ]
    },
    {
     "name": "stderr",
     "output_type": "stream",
     "text": [
      "\r",
      "  2%|▏         | 197/8572 [00:46<34:45,  4.02it/s]"
     ]
    },
    {
     "name": "stdout",
     "output_type": "stream",
     "text": [
      "INPUT:\n",
      "<sos> 祖国 和 人民 欢迎 你们 凯旋 . <eos>\n",
      "REF:\n",
      "<sos> the motherland and the people welcome your triumphant return . <eos>\n",
      "PREDICTION:\n",
      "<sos> the motherland and people , the motherland and to motherland motherland . <eos>\n",
      "BLEU = 0.227187\n",
      "------\n"
     ]
    },
    {
     "name": "stderr",
     "output_type": "stream",
     "text": [
      "\r",
      "  2%|▏         | 198/8572 [00:46<36:51,  3.79it/s]"
     ]
    },
    {
     "name": "stdout",
     "output_type": "stream",
     "text": [
      "INPUT:\n",
      "<sos> 五 是 切实 改进 工作 作风 . <eos>\n",
      "REF:\n",
      "<sos> fifth , it is necessary to conscientiously improve the style of work . <eos>\n",
      "PREDICTION:\n",
      "<sos> fifth , effectively improve the work style and effectively work . <eos>\n",
      "BLEU = 0.410314\n",
      "------\n"
     ]
    },
    {
     "name": "stderr",
     "output_type": "stream",
     "text": [
      "\r",
      "  2%|▏         | 199/8572 [00:46<37:33,  3.72it/s]"
     ]
    },
    {
     "name": "stdout",
     "output_type": "stream",
     "text": [
      "INPUT:\n",
      "<sos> 布什 政府 为何 如此 偏袒 以色列 ? <eos>\n",
      "REF:\n",
      "<sos> why is the bush administration so partial to israel ? <eos>\n",
      "PREDICTION:\n",
      "<sos> is bush administration is why bush administration bush administration ? <eos>\n",
      "BLEU = 0.570675\n",
      "------\n"
     ]
    },
    {
     "name": "stderr",
     "output_type": "stream",
     "text": [
      "  2%|▏         | 201/8572 [00:47<32:52,  4.24it/s]"
     ]
    },
    {
     "name": "stdout",
     "output_type": "stream",
     "text": [
      "INPUT:\n",
      "<sos> 美国 坚持 一个 中国 的 原则 . <eos>\n",
      "REF:\n",
      "<sos> the united states upholds the principle of one china . <eos>\n",
      "PREDICTION:\n",
      "<sos> the united states adheres to the one china principle . <eos>\n",
      "BLEU = 0.302898\n",
      "------\n",
      "INPUT:\n",
      "<sos> 改革 是 发展 的 重要 动力 . <eos>\n",
      "REF:\n",
      "<sos> reform is an important drive for development . <eos>\n",
      "PREDICTION:\n",
      "<sos> reform is an important driving force for development development development . <eos>\n",
      "BLEU = 0.413979\n",
      "------\n"
     ]
    },
    {
     "name": "stderr",
     "output_type": "stream",
     "text": [
      "\r",
      "  2%|▏         | 202/8572 [00:47<31:46,  4.39it/s]"
     ]
    },
    {
     "name": "stdout",
     "output_type": "stream",
     "text": [
      "INPUT:\n",
      "<sos> 全国各地 , 人们 街谈巷议 说 南丹 . <eos>\n",
      "REF:\n",
      "<sos> people all over the country are talking about nandan . <eos>\n",
      "PREDICTION:\n",
      "<sos> people are not , the nandan country . <eos>\n",
      "BLEU = 0.531631\n",
      "------\n"
     ]
    },
    {
     "name": "stderr",
     "output_type": "stream",
     "text": [
      "\r",
      "  2%|▏         | 203/8572 [00:47<34:43,  4.02it/s]"
     ]
    },
    {
     "name": "stdout",
     "output_type": "stream",
     "text": [
      "INPUT:\n",
      "<sos> 没有 稳定 , 万事 难 兴 . <eos>\n",
      "REF:\n",
      "<sos> without stability , nothing thrives . <eos>\n",
      "PREDICTION:\n",
      "<sos> without stability can stability can stability stability stability without stability . <eos>\n",
      "BLEU = 0.305769\n",
      "------\n"
     ]
    },
    {
     "name": "stderr",
     "output_type": "stream",
     "text": [
      "\r",
      "  2%|▏         | 204/8572 [00:47<37:08,  3.76it/s]"
     ]
    },
    {
     "name": "stdout",
     "output_type": "stream",
     "text": [
      "INPUT:\n",
      "<sos> 法律 得不到 实施 , 就是 一纸空文 . <eos>\n",
      "REF:\n",
      "<sos> if the laws fail to be implemented , then they are mere scraps of waste paper . <eos>\n",
      "PREDICTION:\n",
      "<sos> it means that such a thing is is means and is is is such thing is is . <eos>\n",
      "BLEU = 0.298081\n",
      "------\n"
     ]
    },
    {
     "name": "stderr",
     "output_type": "stream",
     "text": [
      "\r",
      "  2%|▏         | 205/8572 [00:48<37:35,  3.71it/s]"
     ]
    },
    {
     "name": "stdout",
     "output_type": "stream",
     "text": [
      "INPUT:\n",
      "<sos> 二 是 特殊 的 历史 背景 . <eos>\n",
      "REF:\n",
      "<sos> special historical background . <eos>\n",
      "PREDICTION:\n",
      "<sos> second , the special background special historical background . <eos>\n",
      "BLEU = 0.367206\n",
      "------\n"
     ]
    },
    {
     "name": "stderr",
     "output_type": "stream",
     "text": [
      "\r",
      "  2%|▏         | 206/8572 [00:48<35:30,  3.93it/s]"
     ]
    },
    {
     "name": "stdout",
     "output_type": "stream",
     "text": [
      "INPUT:\n",
      "<sos> 他 善于 审时度势 , 把握 全局 . <eos>\n",
      "REF:\n",
      "<sos> he was good at judging the hour and sizing up the situation and seeing the whole picture . <eos>\n",
      "PREDICTION:\n",
      "<sos> he situation situation situation situation situation and make make firm and situation situation . <eos>\n",
      "BLEU = 0.423573\n",
      "------\n"
     ]
    },
    {
     "name": "stderr",
     "output_type": "stream",
     "text": [
      "\r",
      "  2%|▏         | 207/8572 [00:48<37:01,  3.77it/s]"
     ]
    },
    {
     "name": "stdout",
     "output_type": "stream",
     "text": [
      "INPUT:\n",
      "<sos> <unk> , 朝鲜 宣布 发射 人造地球卫星 . <eos>\n",
      "REF:\n",
      "<sos> north korea announced its launching of a man - made earth satellite on august 31 , 1998 . <eos>\n",
      "PREDICTION:\n",
      "<sos> in view of the , the dprk announced the launch of nmd . <eos>\n",
      "BLEU = 0.294590\n",
      "------\n"
     ]
    },
    {
     "name": "stderr",
     "output_type": "stream",
     "text": [
      "\r",
      "  2%|▏         | 208/8572 [00:49<38:11,  3.65it/s]"
     ]
    },
    {
     "name": "stdout",
     "output_type": "stream",
     "text": [
      "INPUT:\n",
      "<sos> 首先 是 干涉 东道国 的 自主权 . <eos>\n",
      "REF:\n",
      "<sos> first of all , interference in the host country 's sovereignty . <eos>\n",
      "PREDICTION:\n",
      "<sos> first is the first stop of the 's 's affairs . <eos>\n",
      "BLEU = 0.506808\n",
      "------\n"
     ]
    },
    {
     "name": "stderr",
     "output_type": "stream",
     "text": [
      "  2%|▏         | 210/8572 [00:49<32:35,  4.28it/s]"
     ]
    },
    {
     "name": "stdout",
     "output_type": "stream",
     "text": [
      "INPUT:\n",
      "<sos> 奥运 赛场 , 强手 如 林 . <eos>\n",
      "REF:\n",
      "<sos> in the competition grounds , people compete in sports skills and strength . <eos>\n",
      "PREDICTION:\n",
      "<sos> as a gold , the olympic games is the to the scene of gold in the name as gold . <eos>\n",
      "BLEU = 0.401453\n",
      "------\n",
      "INPUT:\n",
      "<sos> 内地 的 文革 , 是 前车之鉴 . <eos>\n",
      "REF:\n",
      "<sos> the cultural revolution in the mainland is a lesson for hong kong . <eos>\n",
      "PREDICTION:\n",
      "<sos> the mainland is the to . <eos>\n",
      "BLEU = 0.223974\n",
      "------\n"
     ]
    },
    {
     "name": "stderr",
     "output_type": "stream",
     "text": [
      "\r",
      "  2%|▏         | 211/8572 [00:49<31:49,  4.38it/s]"
     ]
    },
    {
     "name": "stdout",
     "output_type": "stream",
     "text": [
      "INPUT:\n",
      "<sos> \" 当时 , 的确 无法 沟通 . <eos>\n",
      "REF:\n",
      "<sos> they were indeed unable to communicate at that time . <eos>\n",
      "PREDICTION:\n",
      "<sos> \" that time was indeed was not a . <eos>\n",
      "BLEU = 0.524766\n",
      "------\n"
     ]
    },
    {
     "name": "stderr",
     "output_type": "stream",
     "text": [
      "\r",
      "  2%|▏         | 212/8572 [00:49<34:29,  4.04it/s]"
     ]
    },
    {
     "name": "stdout",
     "output_type": "stream",
     "text": [
      "INPUT:\n",
      "<sos> 短短 几 年 作案 就 达 30 . <eos>\n",
      "REF:\n",
      "<sos> within a short period of several years , they had committed more than 30 crimes . <eos>\n",
      "PREDICTION:\n",
      "<sos> in a few years few years of a a few . <eos>\n",
      "BLEU = 0.301453\n",
      "------\n"
     ]
    },
    {
     "name": "stderr",
     "output_type": "stream",
     "text": [
      "\r",
      "  2%|▏         | 213/8572 [00:50<36:44,  3.79it/s]"
     ]
    },
    {
     "name": "stdout",
     "output_type": "stream",
     "text": [
      "INPUT:\n",
      "<sos> 要 加快 除 险 加固 工程 进度 . <eos>\n",
      "REF:\n",
      "<sos> it is necessary to quicken the process of risk - elimination and reinforcement projects . <eos>\n",
      "PREDICTION:\n",
      "<sos> we must accelerate the great the public of the - - projects . <eos>\n",
      "BLEU = 0.234199\n",
      "------\n"
     ]
    },
    {
     "name": "stderr",
     "output_type": "stream",
     "text": [
      "\r",
      "  2%|▏         | 214/8572 [00:50<37:44,  3.69it/s]"
     ]
    },
    {
     "name": "stdout",
     "output_type": "stream",
     "text": [
      "INPUT:\n",
      "<sos> 该 分部 保障 区 地理位置 十分 重要 . <eos>\n",
      "REF:\n",
      "<sos> the geographical position of the support area of this sub - section is very important . <eos>\n",
      "PREDICTION:\n",
      "<sos> this situation is important success in important important important region . <eos>\n",
      "BLEU = 0.301453\n",
      "------\n"
     ]
    },
    {
     "name": "stderr",
     "output_type": "stream",
     "text": [
      "\r",
      "  3%|▎         | 215/8572 [00:50<35:15,  3.95it/s]"
     ]
    },
    {
     "name": "stdout",
     "output_type": "stream",
     "text": [
      "INPUT:\n",
      "<sos> 对 於 未来 , 王文洋 充满 信心 . <eos>\n",
      "REF:\n",
      "<sos> wang wen - yang expressed his full confidence in the future . <eos>\n",
      "PREDICTION:\n",
      "<sos> we are full confidence confidence in the future future . <eos>\n",
      "BLEU = 0.280869\n",
      "------\n"
     ]
    },
    {
     "name": "stderr",
     "output_type": "stream",
     "text": [
      "\r",
      "  3%|▎         | 216/8572 [00:51<36:36,  3.80it/s]"
     ]
    },
    {
     "name": "stdout",
     "output_type": "stream",
     "text": [
      "INPUT:\n",
      "<sos> 导弹 武器 离不开 导弹 兵 的 保障 . <eos>\n",
      "REF:\n",
      "<sos> missile weapons cannot be separated from missile troop support . <eos>\n",
      "PREDICTION:\n",
      "<sos> missile missile missile a missile support of missile missile missile missile . <eos>\n",
      "BLEU = 0.506731\n",
      "------\n"
     ]
    },
    {
     "name": "stderr",
     "output_type": "stream",
     "text": [
      "\r",
      "  3%|▎         | 217/8572 [00:51<34:47,  4.00it/s]"
     ]
    },
    {
     "name": "stdout",
     "output_type": "stream",
     "text": [
      "INPUT:\n",
      "<sos> 加强 管理 是 企业 永恒 的 主题 . <eos>\n",
      "REF:\n",
      "<sos> intensification of management is an eternal theme of enterprises . <eos>\n",
      "PREDICTION:\n",
      "<sos> strengthen is a necessary to strengthen the management of the enterprise . <eos>\n",
      "BLEU = 0.426108\n",
      "------\n",
      "INPUT:\n",
      "<sos> 现代化 的 本质 是 人 的 现代化 . <eos>\n",
      "REF:\n",
      "<sos> the innate character of modernization is the modernization of man . <eos>\n",
      "PREDICTION:\n",
      "<sos> modernization modernization modernization is modernization modernization . <eos>\n",
      "BLEU = 0.409678\n",
      "------\n"
     ]
    },
    {
     "name": "stderr",
     "output_type": "stream",
     "text": [
      "\r",
      "  3%|▎         | 219/8572 [00:51<32:24,  4.30it/s]"
     ]
    },
    {
     "name": "stdout",
     "output_type": "stream",
     "text": [
      "INPUT:\n",
      "<sos> 这 等于 将 了 克林顿 的 军 . <eos>\n",
      "REF:\n",
      "<sos> this is equivalent to putting clinton on the spot . <eos>\n",
      "PREDICTION:\n",
      "<sos> these will clinton 's clinton . <eos>\n",
      "BLEU = 0.313560\n",
      "------\n"
     ]
    },
    {
     "name": "stderr",
     "output_type": "stream",
     "text": [
      "\r",
      "  3%|▎         | 220/8572 [00:51<31:44,  4.39it/s]"
     ]
    },
    {
     "name": "stdout",
     "output_type": "stream",
     "text": [
      "INPUT:\n",
      "<sos> 我们 向 大会 表示 热烈 的 祝贺 ! <eos>\n",
      "REF:\n",
      "<sos> we extend warm congratulations to this gathering ! <eos>\n",
      "PREDICTION:\n",
      "<sos> we warmly congratulate the congratulations to the conclusion of our ! ! <eos>\n",
      "BLEU = 0.560790\n",
      "------\n"
     ]
    },
    {
     "name": "stderr",
     "output_type": "stream",
     "text": [
      "\r",
      "  3%|▎         | 221/8572 [00:52<34:30,  4.03it/s]"
     ]
    },
    {
     "name": "stdout",
     "output_type": "stream",
     "text": [
      "INPUT:\n",
      "<sos> 外交部 副部长 张德广 等 参加 了 会见 . <eos>\n",
      "REF:\n",
      "<sos> also present during the meeting were chinese vice foreign minister zhang deguang and others . <eos>\n",
      "PREDICTION:\n",
      "<sos> vice minister of foreign affairs minister zhang wang were present during the meeting . <eos>\n",
      "BLEU = 0.215071\n",
      "------\n"
     ]
    },
    {
     "name": "stderr",
     "output_type": "stream",
     "text": [
      "\r",
      "  3%|▎         | 222/8572 [00:52<36:01,  3.86it/s]"
     ]
    },
    {
     "name": "stdout",
     "output_type": "stream",
     "text": [
      "INPUT:\n",
      "<sos> 我国 至今 没有 全国 统一 的 商会 . <eos>\n",
      "REF:\n",
      "<sos> thus far , there is no unified national chamber of commerce of the non - public enterprises in china . <eos>\n",
      "PREDICTION:\n",
      "<sos> china country have been no country in unified . <eos>\n",
      "BLEU = 0.184770\n",
      "------\n"
     ]
    },
    {
     "name": "stderr",
     "output_type": "stream",
     "text": [
      "\r",
      "  3%|▎         | 223/8572 [00:52<33:51,  4.11it/s]"
     ]
    },
    {
     "name": "stdout",
     "output_type": "stream",
     "text": [
      "INPUT:\n",
      "<sos> 德国 是 中国 可 信赖 的 伙伴 . <eos>\n",
      "REF:\n",
      "<sos> germany is a partner that china can trust and rely upon . <eos>\n",
      "PREDICTION:\n",
      "<sos> the german china was the china 's china . <eos>\n",
      "BLEU = 0.332447\n",
      "------\n"
     ]
    },
    {
     "name": "stderr",
     "output_type": "stream",
     "text": [
      "\r",
      "  3%|▎         | 224/8572 [00:52<32:37,  4.26it/s]"
     ]
    },
    {
     "name": "stdout",
     "output_type": "stream",
     "text": [
      "INPUT:\n",
      "<sos> 解决 台湾 问题 完全 是 中国 内政 . <eos>\n",
      "REF:\n",
      "<sos> however , resolving the taiwan issue is absolutely an internal affair of china . <eos>\n",
      "PREDICTION:\n",
      "<sos> the resolution of taiwan issue is a completely resolution of china 's internal affair . <eos>\n",
      "BLEU = 0.340742\n",
      "------\n"
     ]
    },
    {
     "name": "stderr",
     "output_type": "stream",
     "text": [
      "  3%|▎         | 226/8572 [00:53<32:38,  4.26it/s]"
     ]
    },
    {
     "name": "stdout",
     "output_type": "stream",
     "text": [
      "INPUT:\n",
      "<sos> 中国 工人阶级 具有 光荣 的 革命 传统 . <eos>\n",
      "REF:\n",
      "<sos> the chinese working class has glorious revolutionary traditions . <eos>\n",
      "PREDICTION:\n",
      "<sos> china chinese the glorious tradition of the glorious tradition of the chinese . <eos>\n",
      "BLEU = 0.488923\n",
      "------\n",
      "INPUT:\n",
      "<sos> 最近 , 台湾 举行 了 地方 选举 . <eos>\n",
      "REF:\n",
      "<sos> taiwan recently held local elections . <eos>\n",
      "PREDICTION:\n",
      "<sos> recently , taiwan taiwan taiwan recently held in taiwan . <eos>\n",
      "BLEU = 0.341723\n",
      "------\n"
     ]
    },
    {
     "name": "stderr",
     "output_type": "stream",
     "text": [
      "\r",
      "  3%|▎         | 227/8572 [00:53<32:11,  4.32it/s]"
     ]
    },
    {
     "name": "stdout",
     "output_type": "stream",
     "text": [
      "INPUT:\n",
      "<sos> 然后 , 播放 伊拉克 国歌 和 军乐 . <eos>\n",
      "REF:\n",
      "<sos> then , the television began to play the iraqi national anthem and military music . <eos>\n",
      "PREDICTION:\n",
      "<sos> iraq and the united and the iraqi military region and a force in 2 . <eos>\n",
      "BLEU = 0.492479\n",
      "------\n"
     ]
    },
    {
     "name": "stderr",
     "output_type": "stream",
     "text": [
      "\r",
      "  3%|▎         | 228/8572 [00:53<33:57,  4.10it/s]"
     ]
    },
    {
     "name": "stdout",
     "output_type": "stream",
     "text": [
      "INPUT:\n",
      "<sos> 世界 应该 是 丰富 多 采 的 . <eos>\n",
      "REF:\n",
      "<sos> the world should be rich and varied . <eos>\n",
      "PREDICTION:\n",
      "<sos> world should be more rich in rich rich . <eos>\n",
      "BLEU = 0.381633\n",
      "------\n"
     ]
    },
    {
     "name": "stderr",
     "output_type": "stream",
     "text": [
      "\r",
      "  3%|▎         | 229/8572 [00:54<32:45,  4.25it/s]"
     ]
    },
    {
     "name": "stdout",
     "output_type": "stream",
     "text": [
      "INPUT:\n",
      "<sos> \" 教师 工资 能不能 按时 发放 ? \" <eos>\n",
      "REF:\n",
      "<sos> \" were teachers ' salaries paid in time ? \" <eos>\n",
      "PREDICTION:\n",
      "<sos> \" teachers teachers the teachers ' teachers ' wages for teachers ' salaries ? \" <eos>\n",
      "BLEU = 0.374203\n",
      "------\n"
     ]
    },
    {
     "name": "stderr",
     "output_type": "stream",
     "text": [
      "\r",
      "  3%|▎         | 230/8572 [00:54<35:54,  3.87it/s]"
     ]
    },
    {
     "name": "stdout",
     "output_type": "stream",
     "text": [
      "INPUT:\n",
      "<sos> 同样 的 质疑 亦 存在 <unk> 代表 . <eos>\n",
      "REF:\n",
      "<sos> this is also the case with members from the academic circles . <eos>\n",
      "PREDICTION:\n",
      "<sos> also , there are also also also in the same also also the same of the media . <eos>\n",
      "BLEU = 0.421550\n",
      "------\n"
     ]
    },
    {
     "name": "stderr",
     "output_type": "stream",
     "text": [
      "\r",
      "  3%|▎         | 231/8572 [00:54<36:46,  3.78it/s]"
     ]
    },
    {
     "name": "stdout",
     "output_type": "stream",
     "text": [
      "INPUT:\n",
      "<sos> 双方 签署 了 经济 技术 合作 协定 . <eos>\n",
      "REF:\n",
      "<sos> both sides signed economic and technological cooperation agreements too . <eos>\n",
      "PREDICTION:\n",
      "<sos> the two sides signed an agreement on economic and technical cooperation . <eos>\n",
      "BLEU = 0.602608\n",
      "------\n"
     ]
    },
    {
     "name": "stderr",
     "output_type": "stream",
     "text": [
      "  3%|▎         | 233/8572 [00:55<34:51,  3.99it/s]"
     ]
    },
    {
     "name": "stdout",
     "output_type": "stream",
     "text": [
      "INPUT:\n",
      "<sos> ( 五 ) 当前 的 工作 重点 . <eos>\n",
      "REF:\n",
      "<sos> ( 5 ) the focus of current work . <eos>\n",
      "PREDICTION:\n",
      "<sos> ( current current current focus focus on current current current current work . <eos>\n",
      "BLEU = 0.203334\n",
      "------\n",
      "INPUT:\n",
      "<sos> 中亚 还 存在 严重 的 生态 问题 . <eos>\n",
      "REF:\n",
      "<sos> there are also serious ecological problems in central asia . <eos>\n",
      "PREDICTION:\n",
      "<sos> we are also a serious ecological environment . <eos>\n",
      "BLEU = 0.569030\n",
      "------\n"
     ]
    },
    {
     "name": "stderr",
     "output_type": "stream",
     "text": [
      "\r",
      "  3%|▎         | 234/8572 [00:55<33:11,  4.19it/s]"
     ]
    },
    {
     "name": "stdout",
     "output_type": "stream",
     "text": [
      "INPUT:\n",
      "<sos> 没有 民主 就 不是 真正 的 共产主义 . <eos>\n",
      "REF:\n",
      "<sos> without democracy , it is not real communism . <eos>\n",
      "PREDICTION:\n",
      "<sos> without democracy democracy not have not communism without the democratic democratic election . <eos>\n",
      "BLEU = 0.296152\n",
      "------\n"
     ]
    },
    {
     "name": "stderr",
     "output_type": "stream",
     "text": [
      "\r",
      "  3%|▎         | 235/8572 [00:55<35:50,  3.88it/s]"
     ]
    },
    {
     "name": "stdout",
     "output_type": "stream",
     "text": [
      "INPUT:\n",
      "<sos> 李鹏 对 法斯拉本德 议长 来访 表示 欢迎 . <eos>\n",
      "REF:\n",
      "<sos> li peng welcomed speaker fasslabend 's visit to china . <eos>\n",
      "PREDICTION:\n",
      "<sos> li peng expressed his cordial and his on his visit to china . <eos>\n",
      "BLEU = 0.329039\n",
      "------\n"
     ]
    },
    {
     "name": "stderr",
     "output_type": "stream",
     "text": [
      "\r",
      "  3%|▎         | 236/8572 [00:55<37:14,  3.73it/s]"
     ]
    },
    {
     "name": "stdout",
     "output_type": "stream",
     "text": [
      "INPUT:\n",
      "<sos> 中外 记者 100 多人 参加 了 新闻发布会 . <eos>\n",
      "REF:\n",
      "<sos> over 100 chinese and foreign reporters were present at the news briefing . <eos>\n",
      "PREDICTION:\n",
      "<sos> chinese officers , foreign reporters , chinese foreign attended . <eos>\n",
      "BLEU = 0.427640\n",
      "------\n"
     ]
    },
    {
     "name": "stderr",
     "output_type": "stream",
     "text": [
      "\r",
      "  3%|▎         | 237/8572 [00:56<38:31,  3.61it/s]"
     ]
    },
    {
     "name": "stdout",
     "output_type": "stream",
     "text": [
      "INPUT:\n",
      "<sos> 任命 杨洁篪 为 中华人民共和国 驻 美利坚合众国 特命全权大使 . <eos>\n",
      "REF:\n",
      "<sos> yang jiechi is appointed as the people 's republic of china ambassador extraordinary and plenipotentiary to the united states of america . <eos>\n",
      "PREDICTION:\n",
      "<sos> ambassador jian is appointed ambassador ambassador extraordinary and plenipotentiary to the . <eos>\n",
      "BLEU = 0.216794\n",
      "------\n"
     ]
    },
    {
     "name": "stderr",
     "output_type": "stream",
     "text": [
      "\r",
      "  3%|▎         | 238/8572 [00:56<35:36,  3.90it/s]"
     ]
    },
    {
     "name": "stdout",
     "output_type": "stream",
     "text": [
      "INPUT:\n",
      "<sos> 三 是 演习 的 高技术 含量 大 . <eos>\n",
      "REF:\n",
      "<sos> thirdly , these exercises contained a lot of high - tech elements . <eos>\n",
      "PREDICTION:\n",
      "<sos> third , high - high - tech content is high high . <eos>\n",
      "BLEU = 0.291555\n",
      "------\n"
     ]
    },
    {
     "name": "stderr",
     "output_type": "stream",
     "text": [
      "\r",
      "  3%|▎         | 239/8572 [00:56<37:39,  3.69it/s]"
     ]
    },
    {
     "name": "stdout",
     "output_type": "stream",
     "text": [
      "INPUT:\n",
      "<sos> 此后 , 各国 纷纷 调整 半岛 政策 . <eos>\n",
      "REF:\n",
      "<sos> after that , other countries successively adjusted their policies toward the korean peninsula . <eos>\n",
      "PREDICTION:\n",
      "<sos> after all countries have been policies on policies after the countries after another . <eos>\n",
      "BLEU = 0.491450\n",
      "------\n"
     ]
    },
    {
     "name": "stderr",
     "output_type": "stream",
     "text": [
      "\r",
      "  3%|▎         | 240/8572 [00:57<38:38,  3.59it/s]"
     ]
    },
    {
     "name": "stdout",
     "output_type": "stream",
     "text": [
      "INPUT:\n",
      "<sos> 三 是 大力 推进 农业 科技 进步 . <eos>\n",
      "REF:\n",
      "<sos> third , we must vigorously promote the progress of agricultural science and technology . <eos>\n",
      "PREDICTION:\n",
      "<sos> third ) vigorously vigorously promote the promote the agricultural promotion of agricultural science and technology . <eos>\n",
      "BLEU = 0.433437\n",
      "------\n"
     ]
    },
    {
     "name": "stderr",
     "output_type": "stream",
     "text": [
      "\r",
      "  3%|▎         | 241/8572 [00:57<39:34,  3.51it/s]"
     ]
    },
    {
     "name": "stdout",
     "output_type": "stream",
     "text": [
      "INPUT:\n",
      "<sos> 这个 机会 已经 开始 引起 外界 关注 . <eos>\n",
      "REF:\n",
      "<sos> this opportunity has already begun to attract the attention of the outside world . <eos>\n",
      "PREDICTION:\n",
      "<sos> this has already been concern concern has already drawn attention attention to the outside . <eos>\n",
      "BLEU = 0.619260\n",
      "------\n"
     ]
    },
    {
     "name": "stderr",
     "output_type": "stream",
     "text": [
      "\r",
      "  3%|▎         | 242/8572 [00:57<39:30,  3.51it/s]"
     ]
    },
    {
     "name": "stdout",
     "output_type": "stream",
     "text": [
      "INPUT:\n",
      "<sos> 科恩 曾 於 一九九八年 访问 过 中国 . <eos>\n",
      "REF:\n",
      "<sos> cohen visited china once before , in 1998 . <eos>\n",
      "PREDICTION:\n",
      "<sos> cohen visited the us senate in china . <eos>\n",
      "BLEU = 0.373932\n",
      "------\n"
     ]
    },
    {
     "name": "stderr",
     "output_type": "stream",
     "text": [
      "\r",
      "  3%|▎         | 243/8572 [00:57<36:08,  3.84it/s]"
     ]
    },
    {
     "name": "stdout",
     "output_type": "stream",
     "text": [
      "INPUT:\n",
      "<sos> 花 落 还 开 , 水流 不断 . <eos>\n",
      "REF:\n",
      "<sos> flowers blossom again after withering , and rivers flow nonstop . <eos>\n",
      "PREDICTION:\n",
      "<sos> there are still a serious . <eos>\n",
      "BLEU = 0.257513\n",
      "------\n"
     ]
    },
    {
     "name": "stderr",
     "output_type": "stream",
     "text": [
      "\r",
      "  3%|▎         | 244/8572 [00:58<33:48,  4.11it/s]"
     ]
    },
    {
     "name": "stdout",
     "output_type": "stream",
     "text": [
      "INPUT:\n",
      "<sos> 能够 运用 的 政策 手段 有 哪些 ? <eos>\n",
      "REF:\n",
      "<sos> what policies can be applied by government ? <eos>\n",
      "PREDICTION:\n",
      "<sos> what is the policy means make make ? ? <eos>\n",
      "BLEU = 0.519307\n",
      "------\n"
     ]
    },
    {
     "name": "stderr",
     "output_type": "stream",
     "text": [
      "\r",
      "  3%|▎         | 245/8572 [00:58<32:46,  4.23it/s]"
     ]
    },
    {
     "name": "stdout",
     "output_type": "stream",
     "text": [
      "INPUT:\n",
      "<sos> 招待会 由 全国 政协 副主席 杨汝岱 主持 . <eos>\n",
      "REF:\n",
      "<sos> the reception party was chaired by yang rudai , vice chairman of the cppcc . <eos>\n",
      "PREDICTION:\n",
      "<sos> the reception was vice chairman of the national committee of the chinese people 's reception . <eos>\n",
      "BLEU = 0.222503\n",
      "------\n"
     ]
    },
    {
     "name": "stderr",
     "output_type": "stream",
     "text": [
      "\r",
      "  3%|▎         | 246/8572 [00:58<35:47,  3.88it/s]"
     ]
    },
    {
     "name": "stdout",
     "output_type": "stream",
     "text": [
      "INPUT:\n",
      "<sos> 会议 由 全国 政协 副主席 叶选平 主持 . <eos>\n",
      "REF:\n",
      "<sos> the meeting was presided over by cppcc national committee vice chairman ye xuanping . <eos>\n",
      "PREDICTION:\n",
      "<sos> ye xuanping presided over the conference cppcc vice chairman of the chinese people 's cppcc national ye xuanping presided . <eos>\n",
      "BLEU = 0.600312\n",
      "------\n"
     ]
    },
    {
     "name": "stderr",
     "output_type": "stream",
     "text": [
      "\r",
      "  3%|▎         | 247/8572 [00:58<36:52,  3.76it/s]"
     ]
    },
    {
     "name": "stdout",
     "output_type": "stream",
     "text": [
      "INPUT:\n",
      "<sos> 二 者 缺一不可 , 也 不可偏废 . \" <eos>\n",
      "REF:\n",
      "<sos> neither is <unk> nor is <unk> at the expense of the other . \" <eos>\n",
      "PREDICTION:\n",
      "<sos> one cannot do the the other , the the other can do without the second one other . \" <eos>\n",
      "BLEU = 0.140517\n",
      "------\n"
     ]
    },
    {
     "name": "stderr",
     "output_type": "stream",
     "text": [
      "\r",
      "  3%|▎         | 248/8572 [00:59<37:52,  3.66it/s]"
     ]
    },
    {
     "name": "stdout",
     "output_type": "stream",
     "text": [
      "INPUT:\n",
      "<sos> 垮 起来 容易 , 建设 就 很难 . <eos>\n",
      "REF:\n",
      "<sos> collapse is easy , while construction is so difficult . <eos>\n",
      "PREDICTION:\n",
      "<sos> it is difficult difficult for difficult for difficult training . <eos>\n",
      "BLEU = 0.441163\n",
      "------\n"
     ]
    },
    {
     "name": "stderr",
     "output_type": "stream",
     "text": [
      "\r",
      "  3%|▎         | 249/8572 [00:59<38:38,  3.59it/s]"
     ]
    },
    {
     "name": "stdout",
     "output_type": "stream",
     "text": [
      "INPUT:\n",
      "<sos> 美国 是 一个 非常 多元化 的 社会 . <eos>\n",
      "REF:\n",
      "<sos> the united states is a very pluralistic society . <eos>\n",
      "PREDICTION:\n",
      "<sos> the united states is a very great . <eos>\n",
      "BLEU = 0.639817\n",
      "------\n"
     ]
    },
    {
     "name": "stderr",
     "output_type": "stream",
     "text": [
      "\r",
      "  3%|▎         | 250/8572 [00:59<35:55,  3.86it/s]"
     ]
    },
    {
     "name": "stdout",
     "output_type": "stream",
     "text": [
      "INPUT:\n",
      "<sos> 最后 , 两岸 交流 领域 进一步 拓宽 . <eos>\n",
      "REF:\n",
      "<sos> last , the sphere of cross - strait exchanges has been further widened . <eos>\n",
      "PREDICTION:\n",
      "<sos> further cross - strait exchanges further further . <eos>\n",
      "BLEU = 0.184230\n",
      "------\n"
     ]
    },
    {
     "name": "stderr",
     "output_type": "stream",
     "text": [
      "\r",
      "  3%|▎         | 251/8572 [00:59<37:01,  3.75it/s]"
     ]
    },
    {
     "name": "stdout",
     "output_type": "stream",
     "text": [
      "INPUT:\n",
      "<sos> ( 六 ) 禁止 强行 以资 代劳 . <eos>\n",
      "REF:\n",
      "<sos> it is prohibited to force people to substitute funds for labor . 7 . <eos>\n",
      "PREDICTION:\n",
      "<sos> ( 6 ) six 6 family . <eos>\n",
      "BLEU = 0.207569\n",
      "------\n"
     ]
    },
    {
     "name": "stderr",
     "output_type": "stream",
     "text": [
      "\r",
      "  3%|▎         | 252/8572 [01:00<34:34,  4.01it/s]"
     ]
    },
    {
     "name": "stdout",
     "output_type": "stream",
     "text": [
      "INPUT:\n",
      "<sos> 南海 的 和平 宁静 被 骤然 打破 . <eos>\n",
      "REF:\n",
      "<sos> all of a sudden , the incident broke the peace and tranquility in the south china sea . <eos>\n",
      "PREDICTION:\n",
      "<sos> the peaceful peaceful peaceful peaceful and peaceful . <eos>\n",
      "BLEU = 0.178602\n",
      "------\n"
     ]
    },
    {
     "name": "stderr",
     "output_type": "stream",
     "text": [
      "\r",
      "  3%|▎         | 253/8572 [01:00<33:00,  4.20it/s]"
     ]
    },
    {
     "name": "stdout",
     "output_type": "stream",
     "text": [
      "INPUT:\n",
      "<sos> 阿利耶夫 表示 完全 赞同 李鹏 的 看法 . <eos>\n",
      "REF:\n",
      "<sos> aliyev said that he was in complete agreement with li peng . <eos>\n",
      "PREDICTION:\n",
      "<sos> li agreed with li view view view view with li peng view view . <eos>\n",
      "BLEU = 0.270541\n",
      "------\n"
     ]
    },
    {
     "name": "stderr",
     "output_type": "stream",
     "text": [
      "\r",
      "  3%|▎         | 254/8572 [01:00<35:13,  3.94it/s]"
     ]
    },
    {
     "name": "stdout",
     "output_type": "stream",
     "text": [
      "INPUT:\n",
      "<sos> -- 加强 磋商 , 全面 推进 南南合作 . <eos>\n",
      "REF:\n",
      "<sos> - - strengthen consultation , advance south - south cooperation in all fields . <eos>\n",
      "PREDICTION:\n",
      "<sos> - - we should be improvement and the - round improvement . <eos>\n",
      "BLEU = 0.261194\n",
      "------\n"
     ]
    },
    {
     "name": "stderr",
     "output_type": "stream",
     "text": [
      "  3%|▎         | 256/8572 [01:01<34:00,  4.07it/s]"
     ]
    },
    {
     "name": "stdout",
     "output_type": "stream",
     "text": [
      "INPUT:\n",
      "<sos> 建立 有形 建筑 市场 工作 不断 深入 . <eos>\n",
      "REF:\n",
      "<sos> the work of establishing a visible construction market has been advancing continuously in depth . <eos>\n",
      "PREDICTION:\n",
      "<sos> the establishment of a open up to open up markets . <eos>\n",
      "BLEU = 0.387155\n",
      "------\n",
      "INPUT:\n",
      "<sos> 中国 保险 业 发展 潜力 十分 大 . <eos>\n",
      "REF:\n",
      "<sos> china 's insurance sector still has enormous potential in terms of development . <eos>\n",
      "PREDICTION:\n",
      "<sos> china 's development of insurance industry is very very . <eos>\n",
      "BLEU = 0.285980\n",
      "------\n"
     ]
    },
    {
     "name": "stderr",
     "output_type": "stream",
     "text": [
      "  3%|▎         | 258/8572 [01:01<30:45,  4.51it/s]"
     ]
    },
    {
     "name": "stdout",
     "output_type": "stream",
     "text": [
      "INPUT:\n",
      "<sos> 三 要 提高 防汛 抗旱 现代化 技术水平 . <eos>\n",
      "REF:\n",
      "<sos> third , we must raise the level of modern flood - prevention and drought resistance technology . <eos>\n",
      "PREDICTION:\n",
      "<sos> third , raise the level of oil and modernization drought . <eos>\n",
      "BLEU = 0.206582\n",
      "------\n",
      "INPUT:\n",
      "<sos> 届时 情况 如何 , 确 应 <unk> . <eos>\n",
      "REF:\n",
      "<sos> it has no say in the matter at all . <eos>\n",
      "PREDICTION:\n",
      "<sos> should should should true true these true . <eos>\n",
      "BLEU = 0.349833\n",
      "------\n"
     ]
    },
    {
     "name": "stderr",
     "output_type": "stream",
     "text": [
      "\r",
      "  3%|▎         | 259/8572 [01:01<34:30,  4.01it/s]"
     ]
    },
    {
     "name": "stdout",
     "output_type": "stream",
     "text": [
      "INPUT:\n",
      "<sos> 他 的 丰功伟绩 将 永 载 史册 . <eos>\n",
      "REF:\n",
      "<sos> his great contributions will be forever inscribed in the annals of history . <eos>\n",
      "PREDICTION:\n",
      "<sos> he will fly for the endless and will endless forever in the days . <eos>\n",
      "BLEU = 0.491450\n",
      "------\n"
     ]
    },
    {
     "name": "stderr",
     "output_type": "stream",
     "text": [
      "\r",
      "  3%|▎         | 260/8572 [01:02<35:56,  3.85it/s]"
     ]
    },
    {
     "name": "stdout",
     "output_type": "stream",
     "text": [
      "INPUT:\n",
      "<sos> 提拉 说 , 泰 中 友好 源远流长 . <eos>\n",
      "REF:\n",
      "<sos> tira said that : the thai - china friendship is longstanding . <eos>\n",
      "PREDICTION:\n",
      "<sos> zhu said that the friendship between the have a long time running . <eos>\n",
      "BLEU = 0.508133\n",
      "------\n"
     ]
    },
    {
     "name": "stderr",
     "output_type": "stream",
     "text": [
      "\r",
      "  3%|▎         | 261/8572 [01:02<33:42,  4.11it/s]"
     ]
    },
    {
     "name": "stdout",
     "output_type": "stream",
     "text": [
      "INPUT:\n",
      "<sos> 二 是 发展 经济 的 手段 不同 . <eos>\n",
      "REF:\n",
      "<sos> secondly their methods of economic development are different . <eos>\n",
      "PREDICTION:\n",
      "<sos> second is the essential for developing economic development . <eos>\n",
      "BLEU = 0.549100\n",
      "------\n"
     ]
    },
    {
     "name": "stderr",
     "output_type": "stream",
     "text": [
      "\r",
      "  3%|▎         | 262/8572 [01:02<32:11,  4.30it/s]"
     ]
    },
    {
     "name": "stdout",
     "output_type": "stream",
     "text": [
      "INPUT:\n",
      "<sos> 保护 耕地 是 人类 的 共同 责任 . <eos>\n",
      "REF:\n",
      "<sos> protecting farmland is the common responsibility of mankind . <eos>\n",
      "PREDICTION:\n",
      "<sos> protecting responsibility is the common responsibility of mankind . <eos>\n",
      "BLEU = 0.741945\n",
      "------\n"
     ]
    },
    {
     "name": "stderr",
     "output_type": "stream",
     "text": [
      "\r",
      "  3%|▎         | 263/8572 [01:02<35:14,  3.93it/s]"
     ]
    },
    {
     "name": "stdout",
     "output_type": "stream",
     "text": [
      "INPUT:\n",
      "<sos> 会议 由 国务院 副 秘书长 徐荣凯 主持 . <eos>\n",
      "REF:\n",
      "<sos> the meeting was presided over by xu rongkai , deputy secretary general of the state council . <eos>\n",
      "PREDICTION:\n",
      "<sos> xu rongkai , deputy secretary general xu , was presided over the meeting . <eos>\n",
      "BLEU = 0.378107\n",
      "------\n"
     ]
    },
    {
     "name": "stderr",
     "output_type": "stream",
     "text": [
      "\r",
      "  3%|▎         | 264/8572 [01:03<37:16,  3.72it/s]"
     ]
    },
    {
     "name": "stdout",
     "output_type": "stream",
     "text": [
      "INPUT:\n",
      "<sos> 塔拉尔 热烈 欢迎 朱鎔基 率团 访问 巴基斯坦 . <eos>\n",
      "REF:\n",
      "<sos> tarar warmly welcomed zhu rongji and his delegation on their visit to pakistan . <eos>\n",
      "PREDICTION:\n",
      "<sos> vice premier zhu rongji warmly welcomed a delegation to visit delegation delegation delegation delegation delegation delegation delegation delegation delegation . <eos>\n",
      "BLEU = 0.504801\n",
      "------\n"
     ]
    },
    {
     "name": "stderr",
     "output_type": "stream",
     "text": [
      "\r",
      "  3%|▎         | 265/8572 [01:03<37:32,  3.69it/s]"
     ]
    },
    {
     "name": "stdout",
     "output_type": "stream",
     "text": [
      "INPUT:\n",
      "<sos> 一 , 具有 鲜明 的 时代 特色 . <eos>\n",
      "REF:\n",
      "<sos> i. it has a distinct hallmark of the times . <eos>\n",
      "PREDICTION:\n",
      "<sos> distinct distinct characteristics of distinct distinct is distinct distinct . <eos>\n",
      "BLEU = 0.441163\n",
      "------\n"
     ]
    },
    {
     "name": "stderr",
     "output_type": "stream",
     "text": [
      "\r",
      "  3%|▎         | 266/8572 [01:03<34:54,  3.97it/s]"
     ]
    },
    {
     "name": "stdout",
     "output_type": "stream",
     "text": [
      "INPUT:\n",
      "<sos> 这是 多 幺 残忍 的 邪说 啊 ! <eos>\n",
      "REF:\n",
      "<sos> how cruel these heresies are ! <eos>\n",
      "PREDICTION:\n",
      "<sos> what a appalling is a this ! <eos>\n",
      "BLEU = 0.451801\n",
      "------\n"
     ]
    },
    {
     "name": "stderr",
     "output_type": "stream",
     "text": [
      "\r",
      "  3%|▎         | 267/8572 [01:03<33:11,  4.17it/s]"
     ]
    },
    {
     "name": "stdout",
     "output_type": "stream",
     "text": [
      "INPUT:\n",
      "<sos> 记者 随同 前往 龙泉 <unk> 总厂 总部 . <eos>\n",
      "REF:\n",
      "<sos> we joined some public security personnel to the headquarters of the longquan mining and metallurgical plant . <eos>\n",
      "PREDICTION:\n",
      "<sos> the reporter will be headquarters for the headquarters on 20 february . <eos>\n",
      "BLEU = 0.354546\n",
      "------\n"
     ]
    },
    {
     "name": "stderr",
     "output_type": "stream",
     "text": [
      "\r",
      "  3%|▎         | 268/8572 [01:04<35:33,  3.89it/s]"
     ]
    },
    {
     "name": "stdout",
     "output_type": "stream",
     "text": [
      "INPUT:\n",
      "<sos> <unk> 问 是 有关 圣经 的 问题 . <eos>\n",
      "REF:\n",
      "<sos> the second question master ye asked is about the bible . <eos>\n",
      "PREDICTION:\n",
      "<sos> the question is a questions with relevant issue . <eos>\n",
      "BLEU = 0.479164\n",
      "------\n"
     ]
    },
    {
     "name": "stderr",
     "output_type": "stream",
     "text": [
      "\r",
      "  3%|▎         | 269/8572 [01:04<36:57,  3.74it/s]"
     ]
    },
    {
     "name": "stdout",
     "output_type": "stream",
     "text": [
      "INPUT:\n",
      "<sos> 我们 对 澳门 的 前途 充满 信心 . <eos>\n",
      "REF:\n",
      "<sos> we are full of confidence to macao 's future . <eos>\n",
      "PREDICTION:\n",
      "<sos> we are full confidence confidence confidence confidence in the future . <eos>\n",
      "BLEU = 0.289178\n",
      "------\n"
     ]
    },
    {
     "name": "stderr",
     "output_type": "stream",
     "text": [
      "\r",
      "  3%|▎         | 270/8572 [01:04<34:50,  3.97it/s]"
     ]
    },
    {
     "name": "stdout",
     "output_type": "stream",
     "text": [
      "INPUT:\n",
      "<sos> 面对 wto , 广东 已经 着手 准备 . <eos>\n",
      "REF:\n",
      "<sos> guangdong has started preparing for entry into the wto . <eos>\n",
      "PREDICTION:\n",
      "<sos> facing the face of these wto , the has already prepared out of these work . <eos>\n",
      "BLEU = 0.374203\n",
      "------\n"
     ]
    },
    {
     "name": "stderr",
     "output_type": "stream",
     "text": [
      "\r",
      "  3%|▎         | 271/8572 [01:04<36:25,  3.80it/s]"
     ]
    },
    {
     "name": "stdout",
     "output_type": "stream",
     "text": [
      "INPUT:\n",
      "<sos> 对此 民进党 应该 心 知 肚 明 . <eos>\n",
      "REF:\n",
      "<sos> the dpp should know this very well . <eos>\n",
      "PREDICTION:\n",
      "<sos> the should should know this this should know the deep . <eos>\n",
      "BLEU = 0.357405\n",
      "------\n"
     ]
    },
    {
     "name": "stderr",
     "output_type": "stream",
     "text": [
      "\r",
      "  3%|▎         | 272/8572 [01:05<37:29,  3.69it/s]"
     ]
    },
    {
     "name": "stdout",
     "output_type": "stream",
     "text": [
      "INPUT:\n",
      "<sos> <unk> 的 尾巴 终究 会 <unk> 的 . <eos>\n",
      "REF:\n",
      "<sos> the tail of a fox sooner or later will be exposed . <eos>\n",
      "PREDICTION:\n",
      "<sos> large - will walk out of large . <eos>\n",
      "BLEU = 0.325435\n",
      "------\n"
     ]
    },
    {
     "name": "stderr",
     "output_type": "stream",
     "text": [
      "\r",
      "  3%|▎         | 273/8572 [01:05<34:47,  3.97it/s]"
     ]
    },
    {
     "name": "stdout",
     "output_type": "stream",
     "text": [
      "INPUT:\n",
      "<sos> 我们 绝 不愿 看到 这样的 事情 发生 . <eos>\n",
      "REF:\n",
      "<sos> we absolutely do not wish to see such a thing happen . <eos>\n",
      "PREDICTION:\n",
      "<sos> we must never see such a very . <eos>\n",
      "BLEU = 0.297672\n",
      "------\n"
     ]
    },
    {
     "name": "stderr",
     "output_type": "stream",
     "text": [
      "\r",
      "  3%|▎         | 274/8572 [01:05<33:05,  4.18it/s]"
     ]
    },
    {
     "name": "stdout",
     "output_type": "stream",
     "text": [
      "INPUT:\n",
      "<sos> 在这里 , 我 想 不 存在 秘密 . <eos>\n",
      "REF:\n",
      "<sos> i think we have no secrets here . \" <eos>\n",
      "PREDICTION:\n",
      "<sos> here i i would not my here here here here . <eos>\n",
      "BLEU = 0.423118\n",
      "------\n"
     ]
    },
    {
     "name": "stderr",
     "output_type": "stream",
     "text": [
      "\r",
      "  3%|▎         | 275/8572 [01:05<35:24,  3.91it/s]"
     ]
    },
    {
     "name": "stdout",
     "output_type": "stream",
     "text": [
      "INPUT:\n",
      "<sos> 整个 战役 约 八 小时 内 完成 . <eos>\n",
      "REF:\n",
      "<sos> the entire battle lasted less than eight hours . <eos>\n",
      "PREDICTION:\n",
      "<sos> entire entire entire entire entire entire hours hours entire entire hours . <eos>\n",
      "BLEU = 0.260128\n",
      "------\n"
     ]
    },
    {
     "name": "stderr",
     "output_type": "stream",
     "text": [
      "  3%|▎         | 277/8572 [01:06<34:00,  4.07it/s]"
     ]
    },
    {
     "name": "stdout",
     "output_type": "stream",
     "text": [
      "INPUT:\n",
      "<sos> 日本 篡改 教科书 如今 已 近乎 登峰造极 . <eos>\n",
      "REF:\n",
      "<sos> japan 's distortion of the textbooks has today nearly reached its apex . <eos>\n",
      "PREDICTION:\n",
      "<sos> japan japanese japanese and has been a in a in this . <eos>\n",
      "BLEU = 0.450776\n",
      "------\n",
      "INPUT:\n",
      "<sos> 这个 道理 对 我们 很 有 启发 . <eos>\n",
      "REF:\n",
      "<sos> this reasoning is very enlightening for us . <eos>\n",
      "PREDICTION:\n",
      "<sos> this is very very . <eos>\n",
      "BLEU = 0.527084\n",
      "------\n"
     ]
    },
    {
     "name": "stderr",
     "output_type": "stream",
     "text": [
      "\r",
      "  3%|▎         | 278/8572 [01:06<32:40,  4.23it/s]"
     ]
    },
    {
     "name": "stdout",
     "output_type": "stream",
     "text": [
      "INPUT:\n",
      "<sos> 两岸 的 商谈 是 平等 的 商谈 . <eos>\n",
      "REF:\n",
      "<sos> cross - strait talks are reciprocal talks . <eos>\n",
      "PREDICTION:\n",
      "<sos> cross - strait consultations are two be replaced . <eos>\n",
      "BLEU = 0.289978\n",
      "------\n"
     ]
    },
    {
     "name": "stderr",
     "output_type": "stream",
     "text": [
      "\r",
      "  3%|▎         | 279/8572 [01:06<35:22,  3.91it/s]"
     ]
    },
    {
     "name": "stdout",
     "output_type": "stream",
     "text": [
      "INPUT:\n",
      "<sos> 这就 需要 一套 全面 的 移民 政策 . <eos>\n",
      "REF:\n",
      "<sos> this requires a complete set of comprehensive immigration policy . <eos>\n",
      "PREDICTION:\n",
      "<sos> all we must comprehensively done a comprehensive comprehensive of all - round policies . <eos>\n",
      "BLEU = 0.397635\n",
      "------\n"
     ]
    },
    {
     "name": "stderr",
     "output_type": "stream",
     "text": [
      "\r",
      "  3%|▎         | 280/8572 [01:07<37:13,  3.71it/s]"
     ]
    },
    {
     "name": "stdout",
     "output_type": "stream",
     "text": [
      "INPUT:\n",
      "<sos> 互利 是 维护 和平 的 物质 基础 . <eos>\n",
      "REF:\n",
      "<sos> mutual interests are the material foundation for maintaining peace . <eos>\n",
      "PREDICTION:\n",
      "<sos> material is the foundation for the material foundation for safeguarding mutual benefit . <eos>\n",
      "BLEU = 0.210237\n",
      "------\n"
     ]
    },
    {
     "name": "stderr",
     "output_type": "stream",
     "text": [
      "\r",
      "  3%|▎         | 281/8572 [01:07<37:52,  3.65it/s]"
     ]
    },
    {
     "name": "stdout",
     "output_type": "stream",
     "text": [
      "INPUT:\n",
      "<sos> 数字 显示 事实 , 事实 胜于 雄辩 . <eos>\n",
      "REF:\n",
      "<sos> the figures show the facts , and facts speak louder than words . <eos>\n",
      "PREDICTION:\n",
      "<sos> facts facts facts facts facts facts facts facts facts facts facts facts . <eos>\n",
      "BLEU = 0.392815\n",
      "------\n"
     ]
    },
    {
     "name": "stderr",
     "output_type": "stream",
     "text": [
      "\r",
      "  3%|▎         | 282/8572 [01:07<35:22,  3.90it/s]"
     ]
    },
    {
     "name": "stdout",
     "output_type": "stream",
     "text": [
      "INPUT:\n",
      "<sos> 内容 决定 形式 , 形式 反映 内容 . <eos>\n",
      "REF:\n",
      "<sos> contents determine forms , and forms reflect contents . <eos>\n",
      "PREDICTION:\n",
      "<sos> form contents content content form contents content content content form form form . <eos>\n",
      "BLEU = 0.392815\n",
      "------\n"
     ]
    },
    {
     "name": "stderr",
     "output_type": "stream",
     "text": [
      "\r",
      "  3%|▎         | 283/8572 [01:08<37:15,  3.71it/s]"
     ]
    },
    {
     "name": "stdout",
     "output_type": "stream",
     "text": [
      "INPUT:\n",
      "<sos> 对 重要 任务 要 跟踪 督 查 . <eos>\n",
      "REF:\n",
      "<sos> we need to track and oversee key missions . <eos>\n",
      "PREDICTION:\n",
      "<sos> the important task should should the the important tasks of battle . <eos>\n",
      "BLEU = 0.358313\n",
      "------\n"
     ]
    },
    {
     "name": "stderr",
     "output_type": "stream",
     "text": [
      "\r",
      "  3%|▎         | 284/8572 [01:08<38:42,  3.57it/s]"
     ]
    },
    {
     "name": "stdout",
     "output_type": "stream",
     "text": [
      "INPUT:\n",
      "<sos> 陈水 扁 骑虎难下 , 难 脱 困厄 . <eos>\n",
      "REF:\n",
      "<sos> chen shui - bian has no way to come back . <eos>\n",
      "PREDICTION:\n",
      "<sos> chen chen shui chen shui chen shui - bian to come to a a battle . <eos>\n",
      "BLEU = 0.195827\n",
      "------\n"
     ]
    },
    {
     "name": "stderr",
     "output_type": "stream",
     "text": [
      "\r",
      "  3%|▎         | 285/8572 [01:08<38:58,  3.54it/s]"
     ]
    },
    {
     "name": "stdout",
     "output_type": "stream",
     "text": [
      "INPUT:\n",
      "<sos> 第四 , 必须 不断 提高 人民 生活水平 . <eos>\n",
      "REF:\n",
      "<sos> fourth , we should constantly improve the living standards of our people . <eos>\n",
      "PREDICTION:\n",
      "<sos> fourth , it is continually raise constantly raise constantly raise the living standards . <eos>\n",
      "BLEU = 0.404553\n",
      "------\n"
     ]
    },
    {
     "name": "stderr",
     "output_type": "stream",
     "text": [
      "\r",
      "  3%|▎         | 286/8572 [01:08<39:35,  3.49it/s]"
     ]
    },
    {
     "name": "stdout",
     "output_type": "stream",
     "text": [
      "INPUT:\n",
      "<sos> 中国 的 国务委员 司马义艾买提 会见 了 他 . <eos>\n",
      "REF:\n",
      "<sos> chinese state counsellor ismail amat met him . <eos>\n",
      "PREDICTION:\n",
      "<sos> china state councilor met with us state councilor wu yi . <eos>\n",
      "BLEU = 0.423118\n",
      "------\n"
     ]
    },
    {
     "name": "stderr",
     "output_type": "stream",
     "text": [
      "\r",
      "  3%|▎         | 287/8572 [01:09<39:48,  3.47it/s]"
     ]
    },
    {
     "name": "stdout",
     "output_type": "stream",
     "text": [
      "INPUT:\n",
      "<sos> 澳 的 出尔反尔 让 德国 大为 恼火 . <eos>\n",
      "REF:\n",
      "<sos> australia 's going back on its word greatly <unk> germany . <eos>\n",
      "PREDICTION:\n",
      "<sos> germany 's germany was a greatly greatly . <eos>\n",
      "BLEU = 0.376434\n",
      "------\n"
     ]
    },
    {
     "name": "stderr",
     "output_type": "stream",
     "text": [
      "\r",
      "  3%|▎         | 288/8572 [01:09<36:51,  3.75it/s]"
     ]
    },
    {
     "name": "stdout",
     "output_type": "stream",
     "text": [
      "INPUT:\n",
      "<sos> 二 , 切实 加强 专题 调研 工作 . <eos>\n",
      "REF:\n",
      "<sos> effectively stepping up research on special topics . <eos>\n",
      "PREDICTION:\n",
      "<sos> second , we special special study and special work . <eos>\n",
      "BLEU = 0.417226\n",
      "------\n"
     ]
    },
    {
     "name": "stderr",
     "output_type": "stream",
     "text": [
      "\r",
      "  3%|▎         | 289/8572 [01:09<37:36,  3.67it/s]"
     ]
    },
    {
     "name": "stdout",
     "output_type": "stream",
     "text": [
      "INPUT:\n",
      "<sos> 科学 , 是 文化 的 重要 组成部分 . <eos>\n",
      "REF:\n",
      "<sos> science is an important component part of culture . <eos>\n",
      "PREDICTION:\n",
      "<sos> science culture is an important component part . <eos>\n",
      "BLEU = 0.467777\n",
      "------\n"
     ]
    },
    {
     "name": "stderr",
     "output_type": "stream",
     "text": [
      "\r",
      "  3%|▎         | 290/8572 [01:09<35:15,  3.92it/s]"
     ]
    },
    {
     "name": "stdout",
     "output_type": "stream",
     "text": [
      "INPUT:\n",
      "<sos> 潮流 不可 违 , 民意 不可 侮 . <eos>\n",
      "REF:\n",
      "<sos> the tide cannot be countered and public opinion cannot be <unk> . <eos>\n",
      "PREDICTION:\n",
      "<sos> after the trend of popular is not not people 's end . <eos>\n",
      "BLEU = 0.385032\n",
      "------\n"
     ]
    },
    {
     "name": "stderr",
     "output_type": "stream",
     "text": [
      "\r",
      "  3%|▎         | 291/8572 [01:10<36:58,  3.73it/s]"
     ]
    },
    {
     "name": "stdout",
     "output_type": "stream",
     "text": [
      "INPUT:\n",
      "<sos> 统一 是 中国 历史 发展 的 主流 . <eos>\n",
      "REF:\n",
      "<sos> reunification is the mainstream in the development of chinese history . <eos>\n",
      "PREDICTION:\n",
      "<sos> reunification is the mainstream of the mainstream of history . <eos>\n",
      "BLEU = 0.412491\n",
      "------\n"
     ]
    },
    {
     "name": "stderr",
     "output_type": "stream",
     "text": [
      "\r",
      "  3%|▎         | 292/8572 [01:10<38:25,  3.59it/s]"
     ]
    },
    {
     "name": "stdout",
     "output_type": "stream",
     "text": [
      "INPUT:\n",
      "<sos> 首先 , 注重 经济 结构 战略性 调整 . <eos>\n",
      "REF:\n",
      "<sos> first , it pays attention to the strategic readjustment of the economic structure . <eos>\n",
      "PREDICTION:\n",
      "<sos> first , we strategic readjustment of the strategic readjustment of economic structure . <eos>\n",
      "BLEU = 0.451791\n",
      "------\n"
     ]
    },
    {
     "name": "stderr",
     "output_type": "stream",
     "text": [
      "\r",
      "  3%|▎         | 293/8572 [01:10<39:12,  3.52it/s]"
     ]
    },
    {
     "name": "stdout",
     "output_type": "stream",
     "text": [
      "INPUT:\n",
      "<sos> 这 体现 对 少数民族 自治区 的 照顾 . <eos>\n",
      "REF:\n",
      "<sos> this is indicative of consideration for the minority nationality autonomous regions . <eos>\n",
      "PREDICTION:\n",
      "<sos> this is given to the given the minority nationalities autonomous minority nationalities . <eos>\n",
      "BLEU = 0.329039\n",
      "------\n"
     ]
    },
    {
     "name": "stderr",
     "output_type": "stream",
     "text": [
      "\r",
      "  3%|▎         | 294/8572 [01:11<39:13,  3.52it/s]"
     ]
    },
    {
     "name": "stdout",
     "output_type": "stream",
     "text": [
      "INPUT:\n",
      "<sos> 对此 , 达赖 本人 也是 清楚 的 . <eos>\n",
      "REF:\n",
      "<sos> dalai himself is clear about this . <eos>\n",
      "PREDICTION:\n",
      "<sos> this is also dalai dalai and dalai . <eos>\n",
      "BLEU = 0.508133\n",
      "------\n"
     ]
    },
    {
     "name": "stderr",
     "output_type": "stream",
     "text": [
      "\r",
      "  3%|▎         | 295/8572 [01:11<36:50,  3.74it/s]"
     ]
    },
    {
     "name": "stdout",
     "output_type": "stream",
     "text": [
      "INPUT:\n",
      "<sos> 这是 世界 银行 贷款 资助 的 项目 . <eos>\n",
      "REF:\n",
      "<sos> the world bank has granted loans to china to support this project . <eos>\n",
      "PREDICTION:\n",
      "<sos> this will be bank loans projects in the world bank of bank . <eos>\n",
      "BLEU = 0.306205\n",
      "------\n"
     ]
    },
    {
     "name": "stderr",
     "output_type": "stream",
     "text": [
      "\r",
      "  3%|▎         | 296/8572 [01:11<37:57,  3.63it/s]"
     ]
    },
    {
     "name": "stdout",
     "output_type": "stream",
     "text": [
      "INPUT:\n",
      "<sos> 这是 农村 工作 方法 的 一个 基本原则 . <eos>\n",
      "REF:\n",
      "<sos> this is a basic principle in the method of doing rural work . <eos>\n",
      "PREDICTION:\n",
      "<sos> this is a basic principle for rural work in rural areas . <eos>\n",
      "BLEU = 0.412321\n",
      "------\n"
     ]
    },
    {
     "name": "stderr",
     "output_type": "stream",
     "text": [
      "\r",
      "  3%|▎         | 297/8572 [01:11<38:17,  3.60it/s]"
     ]
    },
    {
     "name": "stdout",
     "output_type": "stream",
     "text": [
      "INPUT:\n",
      "<sos> 万 人 大礼堂 , <unk> 齐 放 . <eos>\n",
      "REF:\n",
      "<sos> the 10,000 - seat auditorium was brightly lit . <eos>\n",
      "PREDICTION:\n",
      "<sos> by those people , how to be filled by the discipline . <eos>\n",
      "BLEU = 0.385032\n",
      "------\n"
     ]
    },
    {
     "name": "stderr",
     "output_type": "stream",
     "text": [
      "\r",
      "  3%|▎         | 298/8572 [01:12<35:43,  3.86it/s]"
     ]
    },
    {
     "name": "stdout",
     "output_type": "stream",
     "text": [
      "INPUT:\n",
      "<sos> 说到 能力 , 拉姆斯斐尔德 堪称 运筹帷幄 高手 . <eos>\n",
      "REF:\n",
      "<sos> as for personal ability , rumsfeld is an expert in devising strategies . <eos>\n",
      "PREDICTION:\n",
      "<sos> the units that no time that the dragon is be an in . <eos>\n",
      "BLEU = 0.411134\n",
      "------\n"
     ]
    },
    {
     "name": "stderr",
     "output_type": "stream",
     "text": [
      "\r",
      "  3%|▎         | 299/8572 [01:12<36:57,  3.73it/s]"
     ]
    },
    {
     "name": "stdout",
     "output_type": "stream",
     "text": [
      "INPUT:\n",
      "<sos> 持 这种 观点 的 人 也是 少数 . <eos>\n",
      "REF:\n",
      "<sos> those holding such a view constitute a small minority . <eos>\n",
      "PREDICTION:\n",
      "<sos> such a viewpoints do things do same same . <eos>\n",
      "BLEU = 0.501384\n",
      "------\n"
     ]
    },
    {
     "name": "stderr",
     "output_type": "stream",
     "text": [
      "  4%|▎         | 301/8572 [01:12<34:52,  3.95it/s]"
     ]
    },
    {
     "name": "stdout",
     "output_type": "stream",
     "text": [
      "INPUT:\n",
      "<sos> 这一切 , 都 让 人 十分 担忧 . <eos>\n",
      "REF:\n",
      "<sos> all of this is very <unk> indeed . <eos>\n",
      "PREDICTION:\n",
      "<sos> all this is very worried to all to the people . <eos>\n",
      "BLEU = 0.357405\n",
      "------\n",
      "INPUT:\n",
      "<sos> 发 此 议论 的 依据 在 哪里 ? <eos>\n",
      "REF:\n",
      "<sos> what is the basis of his argument ? <eos>\n",
      "PREDICTION:\n",
      "<sos> what is the the basis of such ? <eos>\n",
      "BLEU = 0.411134\n",
      "------\n"
     ]
    },
    {
     "name": "stderr",
     "output_type": "stream",
     "text": [
      "\r",
      "  4%|▎         | 302/8572 [01:13<33:05,  4.17it/s]"
     ]
    },
    {
     "name": "stdout",
     "output_type": "stream",
     "text": [
      "INPUT:\n",
      "<sos> 第二 绝路 是 以 拖 拒 统 . <eos>\n",
      "REF:\n",
      "<sos> the second impasse is to resist reunification by procrastination . <eos>\n",
      "PREDICTION:\n",
      "<sos> second , the special should be aid . <eos>\n",
      "BLEU = 0.397487\n",
      "------\n"
     ]
    },
    {
     "name": "stderr",
     "output_type": "stream",
     "text": [
      "\r",
      "  4%|▎         | 303/8572 [01:13<34:58,  3.94it/s]"
     ]
    },
    {
     "name": "stdout",
     "output_type": "stream",
     "text": [
      "INPUT:\n",
      "<sos> 这些 问题 , 必须 切实 加以 解决 . <eos>\n",
      "REF:\n",
      "<sos> third , the legal system for urban and rural planning is unsound and the plans drawn up are lacking in authority . <eos>\n",
      "PREDICTION:\n",
      "<sos> these problems must be resolved to resolve these problems . <eos>\n",
      "BLEU = 0.142838\n",
      "------\n"
     ]
    },
    {
     "name": "stderr",
     "output_type": "stream",
     "text": [
      "\r",
      "  4%|▎         | 304/8572 [01:13<33:22,  4.13it/s]"
     ]
    },
    {
     "name": "stdout",
     "output_type": "stream",
     "text": [
      "INPUT:\n",
      "<sos> 顿时 , 整个 城市 处于 瘫痪 状态 . <eos>\n",
      "REF:\n",
      "<sos> all of the sudden , the entire city was paralyzed . <eos>\n",
      "PREDICTION:\n",
      "<sos> the entire city of entire entire entire entire state . <eos>\n",
      "BLEU = 0.326753\n",
      "------\n"
     ]
    },
    {
     "name": "stderr",
     "output_type": "stream",
     "text": [
      "\r",
      "  4%|▎         | 305/8572 [01:13<35:37,  3.87it/s]"
     ]
    },
    {
     "name": "stdout",
     "output_type": "stream",
     "text": [
      "INPUT:\n",
      "<sos> <unk> 李登辉 意在 制造 新 的 麻烦 . <eos>\n",
      "REF:\n",
      "<sos> evidently lee teng - hui is trying to make trouble again . <eos>\n",
      "PREDICTION:\n",
      "<sos> lee teng - hui has made lee teng - hui 's new troublemaker . <eos>\n",
      "BLEU = 0.189224\n",
      "------\n"
     ]
    },
    {
     "name": "stderr",
     "output_type": "stream",
     "text": [
      "\r",
      "  4%|▎         | 306/8572 [01:14<37:27,  3.68it/s]"
     ]
    },
    {
     "name": "stdout",
     "output_type": "stream",
     "text": [
      "INPUT:\n",
      "<sos> 近年来 , 我国 互联网 事业 发展 迅速 . <eos>\n",
      "REF:\n",
      "<sos> china 's internet has developed swiftly over the past years . <eos>\n",
      "PREDICTION:\n",
      "<sos> over the past years , china has developed rapidly in recent years . <eos>\n",
      "BLEU = 0.272259\n",
      "------\n"
     ]
    },
    {
     "name": "stderr",
     "output_type": "stream",
     "text": [
      "\r",
      "  4%|▎         | 307/8572 [01:14<38:43,  3.56it/s]"
     ]
    },
    {
     "name": "stdout",
     "output_type": "stream",
     "text": [
      "INPUT:\n",
      "<sos> 国务院 副总理 李岚清 出席 大会 并 讲话 . <eos>\n",
      "REF:\n",
      "<sos> state council vice premier li lanqing attended the meeting and delivered a speech . <eos>\n",
      "PREDICTION:\n",
      "<sos> li lanqing , vice premier of the state council , attended and attended the gathering . <eos>\n",
      "BLEU = 0.665438\n",
      "------\n"
     ]
    },
    {
     "name": "stderr",
     "output_type": "stream",
     "text": [
      "\r",
      "  4%|▎         | 308/8572 [01:14<38:45,  3.55it/s]"
     ]
    },
    {
     "name": "stdout",
     "output_type": "stream",
     "text": [
      "INPUT:\n",
      "<sos> 前 两 的 目标 已经 顺利 实现 . <eos>\n",
      "REF:\n",
      "<sos> the targets set for the first two steps have already been met smoothly . <eos>\n",
      "PREDICTION:\n",
      "<sos> the two two smoothly smoothly two two smoothly smoothly . <eos>\n",
      "BLEU = 0.244855\n",
      "------\n"
     ]
    },
    {
     "name": "stderr",
     "output_type": "stream",
     "text": [
      "\r",
      "  4%|▎         | 309/8572 [01:15<36:45,  3.75it/s]"
     ]
    },
    {
     "name": "stdout",
     "output_type": "stream",
     "text": [
      "INPUT:\n",
      "<sos> 布希 政府 如何 评估 亚太 政经 情势 ? <eos>\n",
      "REF:\n",
      "<sos> how will the bush government evaluate the political and economic situation of the asia pacific region ? <eos>\n",
      "PREDICTION:\n",
      "<sos> how how the the government of the - - the government of the asia - pacific region ? <eos>\n",
      "BLEU = 0.207605\n",
      "------\n"
     ]
    },
    {
     "name": "stderr",
     "output_type": "stream",
     "text": [
      "  4%|▎         | 311/8572 [01:15<33:59,  4.05it/s]"
     ]
    },
    {
     "name": "stdout",
     "output_type": "stream",
     "text": [
      "INPUT:\n",
      "<sos> 这 显示 了 世纪之交 党中央 的 远见卓识 . <eos>\n",
      "REF:\n",
      "<sos> this has demonstrated the foresight and sagacity of the party central committee at the turn of the centuries . <eos>\n",
      "PREDICTION:\n",
      "<sos> this this this showed the the of the cpc central committee at the turn of the central central committee . <eos>\n",
      "BLEU = 0.346134\n",
      "------\n",
      "INPUT:\n",
      "<sos> 这 方面 思想 要 再 解放 一些 . <eos>\n",
      "REF:\n",
      "<sos> people should emancipate their minds a bit more in this respect . <eos>\n",
      "PREDICTION:\n",
      "<sos> this thinking should be some emancipate some aspects . <eos>\n",
      "BLEU = 0.367913\n",
      "------\n"
     ]
    },
    {
     "name": "stderr",
     "output_type": "stream",
     "text": [
      "\r",
      "  4%|▎         | 312/8572 [01:15<36:27,  3.78it/s]"
     ]
    },
    {
     "name": "stdout",
     "output_type": "stream",
     "text": [
      "INPUT:\n",
      "<sos> 百 年 沧桑 , 百 年 奋斗 . <eos>\n",
      "REF:\n",
      "<sos> it was a century of great changes and struggle . <eos>\n",
      "PREDICTION:\n",
      "<sos> the 100 hundred years of searching have been shot . <eos>\n",
      "BLEU = 0.417226\n",
      "------\n"
     ]
    },
    {
     "name": "stderr",
     "output_type": "stream",
     "text": [
      "\r",
      "  4%|▎         | 313/8572 [01:16<37:41,  3.65it/s]"
     ]
    },
    {
     "name": "stdout",
     "output_type": "stream",
     "text": [
      "INPUT:\n",
      "<sos> 四 , 要 严格 党风 廉政建设 责任制 . <eos>\n",
      "REF:\n",
      "<sos> fighting corruption is the work of the whole party . <eos>\n",
      "PREDICTION:\n",
      "<sos> fourth , we should strictly style style style system style style system . <eos>\n",
      "BLEU = 0.345721\n",
      "------\n"
     ]
    },
    {
     "name": "stderr",
     "output_type": "stream",
     "text": [
      "  4%|▎         | 315/8572 [01:16<34:59,  3.93it/s]"
     ]
    },
    {
     "name": "stdout",
     "output_type": "stream",
     "text": [
      "INPUT:\n",
      "<sos> 李鹏 对 <unk> 再次 访华 表示 欢迎 . <eos>\n",
      "REF:\n",
      "<sos> li peng expressed his welcome to <unk> teng <unk> for visiting china again . <eos>\n",
      "PREDICTION:\n",
      "<sos> li peng expressed his welcome to china visit to china again . <eos>\n",
      "BLEU = 0.534223\n",
      "------\n",
      "INPUT:\n",
      "<sos> 五 是 加强 地下水 资源 的 保护 . <eos>\n",
      "REF:\n",
      "<sos> fifth , the protection of underground water resources should be strengthened . <eos>\n",
      "PREDICTION:\n",
      "<sos> five protection protection protection protection . <eos>\n",
      "BLEU = 0.244201\n",
      "------\n"
     ]
    },
    {
     "name": "stderr",
     "output_type": "stream",
     "text": [
      "\r",
      "  4%|▎         | 316/8572 [01:16<33:41,  4.09it/s]"
     ]
    },
    {
     "name": "stdout",
     "output_type": "stream",
     "text": [
      "INPUT:\n",
      "<sos> 看来 国民党 内 已经 出现 某种 转机 . <eos>\n",
      "REF:\n",
      "<sos> it seems that some changes have already taken place within the kmt . <eos>\n",
      "PREDICTION:\n",
      "<sos> besides , the has has has the the kmt . <eos>\n",
      "BLEU = 0.174583\n",
      "------\n"
     ]
    },
    {
     "name": "stderr",
     "output_type": "stream",
     "text": [
      "\r",
      "  4%|▎         | 317/8572 [01:17<35:12,  3.91it/s]"
     ]
    },
    {
     "name": "stdout",
     "output_type": "stream",
     "text": [
      "INPUT:\n",
      "<sos> <unk> 代表 党 留在 了 察 隅 . <eos>\n",
      "REF:\n",
      "<sos> ye dongliang settled down in chayu as a party representative . <eos>\n",
      "PREDICTION:\n",
      "<sos> deputy to the special of the times was to to this . <eos>\n",
      "BLEU = 0.358313\n",
      "------\n"
     ]
    },
    {
     "name": "stderr",
     "output_type": "stream",
     "text": [
      "\r",
      "  4%|▎         | 318/8572 [01:17<33:24,  4.12it/s]"
     ]
    },
    {
     "name": "stdout",
     "output_type": "stream",
     "text": [
      "INPUT:\n",
      "<sos> 规律 之一 : 生产力 决定 装备 战斗力 . <eos>\n",
      "REF:\n",
      "<sos> the first law : productive forces determine the combat power of weaponry . <eos>\n",
      "PREDICTION:\n",
      "<sos> equipment determines : equipment is of the combat strength of the productive forces . <eos>\n",
      "BLEU = 0.594604\n",
      "------\n"
     ]
    },
    {
     "name": "stderr",
     "output_type": "stream",
     "text": [
      "\r",
      "  4%|▎         | 319/8572 [01:17<35:34,  3.87it/s]"
     ]
    },
    {
     "name": "stdout",
     "output_type": "stream",
     "text": [
      "INPUT:\n",
      "<sos> 台湾 同胞 , 你们 要 警惕 啊 ! <eos>\n",
      "REF:\n",
      "<sos> taiwan compatriots , you must be on your guard ! <eos>\n",
      "PREDICTION:\n",
      "<sos> compatriots people must taiwan compatriots must take this vigilance ! <eos>\n",
      "BLEU = 0.549100\n",
      "------\n"
     ]
    },
    {
     "name": "stderr",
     "output_type": "stream",
     "text": [
      "\r",
      "  4%|▎         | 320/8572 [01:17<37:14,  3.69it/s]"
     ]
    },
    {
     "name": "stdout",
     "output_type": "stream",
     "text": [
      "INPUT:\n",
      "<sos> 大家 都要 支持 行政 长官 的 工作 . <eos>\n",
      "REF:\n",
      "<sos> everyone must support the work of the sar chief executive . <eos>\n",
      "PREDICTION:\n",
      "<sos> each other all each chief work of the work work to work to work . <eos>\n",
      "BLEU = 0.287822\n",
      "------\n"
     ]
    },
    {
     "name": "stderr",
     "output_type": "stream",
     "text": [
      "\r",
      "  4%|▎         | 321/8572 [01:18<38:40,  3.56it/s]"
     ]
    },
    {
     "name": "stdout",
     "output_type": "stream",
     "text": [
      "INPUT:\n",
      "<sos> 据悉 北京 方面 并未 有 即时 表态 . <eos>\n",
      "REF:\n",
      "<sos> reportedly , beijing did not give them an immediate response . <eos>\n",
      "PREDICTION:\n",
      "<sos> it has been been been been been been the the of the taiwan has been been . <eos>\n",
      "BLEU = 0.306037\n",
      "------\n"
     ]
    },
    {
     "name": "stderr",
     "output_type": "stream",
     "text": [
      "\r",
      "  4%|▍         | 322/8572 [01:18<38:39,  3.56it/s]"
     ]
    },
    {
     "name": "stdout",
     "output_type": "stream",
     "text": [
      "INPUT:\n",
      "<sos> <unk> 打坐 绝食 七 天 而 亡 . <eos>\n",
      "REF:\n",
      "<sos> jiang <unk> conducted a <unk> by \" sitting in meditation \" for seven days before he died . <eos>\n",
      "PREDICTION:\n",
      "<sos> the of the day 's seven days day of the . <eos>\n",
      "BLEU = 0.293676\n",
      "------\n"
     ]
    },
    {
     "name": "stderr",
     "output_type": "stream",
     "text": [
      "\r",
      "  4%|▍         | 323/8572 [01:18<35:25,  3.88it/s]"
     ]
    },
    {
     "name": "stdout",
     "output_type": "stream",
     "text": [
      "INPUT:\n",
      "<sos> 市场 的 开放 应该 是 双向 的 . <eos>\n",
      "REF:\n",
      "<sos> market opening should be a two - way street . <eos>\n",
      "PREDICTION:\n",
      "<sos> market market should be should be opened . <eos>\n",
      "BLEU = 0.547518\n",
      "------\n"
     ]
    },
    {
     "name": "stderr",
     "output_type": "stream",
     "text": [
      "\r",
      "  4%|▍         | 324/8572 [01:18<33:17,  4.13it/s]"
     ]
    },
    {
     "name": "stdout",
     "output_type": "stream",
     "text": [
      "INPUT:\n",
      "<sos> 对此 我们 必须 有 清醒 的 认识 . <eos>\n",
      "REF:\n",
      "<sos> we must have a clear understanding on this point . <eos>\n",
      "PREDICTION:\n",
      "<sos> we must have sober understanding understanding this point . <eos>\n",
      "BLEU = 0.441274\n",
      "------\n"
     ]
    },
    {
     "name": "stderr",
     "output_type": "stream",
     "text": [
      "\r",
      "  4%|▍         | 325/8572 [01:19<31:54,  4.31it/s]"
     ]
    },
    {
     "name": "stdout",
     "output_type": "stream",
     "text": [
      "INPUT:\n",
      "<sos> 江泽民 积极 评价 中 尼 两国 关系 . <eos>\n",
      "REF:\n",
      "<sos> jiang zemin spoke highly of sino - niger relations . <eos>\n",
      "PREDICTION:\n",
      "<sos> jiang zemin gave positive and bilateral relations between china and china . <eos>\n",
      "BLEU = 0.301304\n",
      "------\n"
     ]
    },
    {
     "name": "stderr",
     "output_type": "stream",
     "text": [
      "\r",
      "  4%|▍         | 326/8572 [01:19<34:36,  3.97it/s]"
     ]
    },
    {
     "name": "stdout",
     "output_type": "stream",
     "text": [
      "INPUT:\n",
      "<sos> 科学 理论 是 党 的 行动 指南 . <eos>\n",
      "REF:\n",
      "<sos> scientific theory is the party 's guide to action . <eos>\n",
      "PREDICTION:\n",
      "<sos> the represents is a action action action action action action . <eos>\n",
      "BLEU = 0.289178\n",
      "------\n"
     ]
    },
    {
     "name": "stderr",
     "output_type": "stream",
     "text": [
      "\r",
      "  4%|▍         | 327/8572 [01:19<35:59,  3.82it/s]"
     ]
    },
    {
     "name": "stdout",
     "output_type": "stream",
     "text": [
      "INPUT:\n",
      "<sos> 李鹏 对 金炳午 率团 来访 表示 欢迎 . <eos>\n",
      "REF:\n",
      "<sos> li peng welcomed kim <unk> - o and his delegation on their visit . <eos>\n",
      "PREDICTION:\n",
      "<sos> li peng welcomed the delegation to welcome to the delegation delegation . <eos>\n",
      "BLEU = 0.190477\n",
      "------\n"
     ]
    },
    {
     "name": "stderr",
     "output_type": "stream",
     "text": [
      "\r",
      "  4%|▍         | 328/8572 [01:19<33:58,  4.04it/s]"
     ]
    },
    {
     "name": "stdout",
     "output_type": "stream",
     "text": [
      "INPUT:\n",
      "<sos> 我 对 内地 经济 形势 谨慎 乐观 . <eos>\n",
      "REF:\n",
      "<sos> i am prudently optimistic about the mainland 's economic situation . <eos>\n",
      "PREDICTION:\n",
      "<sos> i am deeply about the situation in economic economic situation on this . <eos>\n",
      "BLEU = 0.358313\n",
      "------\n"
     ]
    },
    {
     "name": "stderr",
     "output_type": "stream",
     "text": [
      "\r",
      "  4%|▍         | 329/8572 [01:20<35:41,  3.85it/s]"
     ]
    },
    {
     "name": "stdout",
     "output_type": "stream",
     "text": [
      "INPUT:\n",
      "<sos> 它 首先 给 发达国家 带来 了 好处 . <eos>\n",
      "REF:\n",
      "<sos> it will first benefit developed countries . <eos>\n",
      "PREDICTION:\n",
      "<sos> it first bring all advantages to bring to the the first . <eos>\n",
      "BLEU = 0.484152\n",
      "------\n"
     ]
    },
    {
     "name": "stderr",
     "output_type": "stream",
     "text": [
      "\r",
      "  4%|▍         | 330/8572 [01:20<33:39,  4.08it/s]"
     ]
    },
    {
     "name": "stdout",
     "output_type": "stream",
     "text": [
      "INPUT:\n",
      "<sos> 但 海外 传媒 对此 报道 并不 充分 . <eos>\n",
      "REF:\n",
      "<sos> overseas media did not report extensively on that , however . <eos>\n",
      "PREDICTION:\n",
      "<sos> however , overseas media have not fully overseas about this . <eos>\n",
      "BLEU = 0.565912\n",
      "------\n",
      "INPUT:\n",
      "<sos> 吴邦国 首先 对 <unk> 来访 表示 欢迎 . <eos>\n",
      "REF:\n",
      "<sos> wu bangguo first expressed his welcome for naji 's visit . <eos>\n",
      "PREDICTION:\n",
      "<sos> wu bangguo first expressed his bangguo 's visit to wu bangguo . <eos>"
     ]
    },
    {
     "name": "stderr",
     "output_type": "stream",
     "text": [
      "  4%|▍         | 332/8572 [01:20<34:03,  4.03it/s]"
     ]
    },
    {
     "name": "stdout",
     "output_type": "stream",
     "text": [
      "\n",
      "BLEU = 0.432423\n",
      "------\n",
      "INPUT:\n",
      "<sos> 谈判 的 主要 议题 是 什 麽 ? <eos>\n",
      "REF:\n",
      "<sos> what will the main agenda be ? <eos>\n",
      "PREDICTION:\n",
      "<sos> what main main main main agenda ? <eos>\n",
      "BLEU = 0.707107\n",
      "------\n"
     ]
    },
    {
     "name": "stderr",
     "output_type": "stream",
     "text": [
      "\r",
      "  4%|▍         | 333/8572 [01:21<32:51,  4.18it/s]"
     ]
    },
    {
     "name": "stdout",
     "output_type": "stream",
     "text": [
      "INPUT:\n",
      "<sos> 只有 再接再厉 , 埋头苦干 , 才有 出路 . <eos>\n",
      "REF:\n",
      "<sos> the only way out is to continually redouble our efforts and work attentively and diligently . <eos>\n",
      "PREDICTION:\n",
      "<sos> only only way are the only way , are only way out in their way . <eos>\n",
      "BLEU = 0.327029\n",
      "------\n"
     ]
    },
    {
     "name": "stderr",
     "output_type": "stream",
     "text": [
      "\r",
      "  4%|▍         | 334/8572 [01:21<37:33,  3.66it/s]"
     ]
    },
    {
     "name": "stdout",
     "output_type": "stream",
     "text": [
      "INPUT:\n",
      "<sos> 我们 必须 高度 警惕 , 坚决 反对 . <eos>\n",
      "REF:\n",
      "<sos> we must be highly vigilant against this and resolutely oppose it . <eos>\n",
      "PREDICTION:\n",
      "<sos> we must firmly firmly oppose the firm firmly against firmly firmly firmly firmly firmly firmly firmly firmly oppose firmly firm firmly firmly firmly firmly firmly oppose firmly oppose firmly firmly firmly firmly firmly firmly firmly firmly firmly firmly firmly firmly firmly firmly firmly firmly firmly firmly firmly firmly firmly\n",
      "BLEU = 0.096028\n",
      "------\n",
      "INPUT:\n",
      "<sos> 《 人民 日报 》 ( 2000年12月14日 第六 ) <eos>\n",
      "REF:\n",
      "<sos> ( renmin ribao , 14 december 2000 p . 6 ) <eos>\n",
      "PREDICTION:\n",
      "<sos> ( renmin ribao ) head ( <eos>\n",
      "BLEU = 0.204793\n",
      "------\n"
     ]
    },
    {
     "name": "stderr",
     "output_type": "stream",
     "text": [
      "\r",
      "  4%|▍         | 336/8572 [01:21<33:25,  4.11it/s]"
     ]
    },
    {
     "name": "stdout",
     "output_type": "stream",
     "text": [
      "INPUT:\n",
      "<sos> 之后 , 两 元首 在 王宫 大厅 话别 . <eos>\n",
      "REF:\n",
      "<sos> following that the two heads of state bid farewell to each other at the palace 's great hall . <eos>\n",
      "PREDICTION:\n",
      "<sos> after the two , the two two two two heads of state . <eos>\n",
      "BLEU = 0.153464\n",
      "------\n"
     ]
    },
    {
     "name": "stderr",
     "output_type": "stream",
     "text": [
      "  4%|▍         | 338/8572 [01:22<32:54,  4.17it/s]"
     ]
    },
    {
     "name": "stdout",
     "output_type": "stream",
     "text": [
      "INPUT:\n",
      "<sos> 二者 都 有 其 独特 地位 和 功能 . <eos>\n",
      "REF:\n",
      "<sos> each has its own unique status and function . <eos>\n",
      "PREDICTION:\n",
      "<sos> they function has unique function and its status function . <eos>\n",
      "BLEU = 0.341723\n",
      "------\n",
      "INPUT:\n",
      "<sos> 双方 对 当前 国际 形势 交换 了 看法 . <eos>\n",
      "REF:\n",
      "<sos> the two sides exchanged views on the current international situation . <eos>\n",
      "PREDICTION:\n",
      "<sos> both sides exchanged views on the current international situation . <eos>\n",
      "BLEU = 0.760432\n",
      "------\n"
     ]
    },
    {
     "name": "stderr",
     "output_type": "stream",
     "text": [
      "\r",
      "  4%|▍         | 339/8572 [01:22<31:36,  4.34it/s]"
     ]
    },
    {
     "name": "stdout",
     "output_type": "stream",
     "text": [
      "INPUT:\n",
      "<sos> 防御 目标 众多 , 兵力 部署 容易 分散 . <eos>\n",
      "REF:\n",
      "<sos> with numerous defensive targets , troops disposition is likely to be scattered . <eos>\n",
      "PREDICTION:\n",
      "<sos> deployment are deployed on a course of deployment . <eos>\n",
      "BLEU = 0.282492\n",
      "------\n"
     ]
    },
    {
     "name": "stderr",
     "output_type": "stream",
     "text": [
      "\r",
      "  4%|▍         | 340/8572 [01:22<34:51,  3.94it/s]"
     ]
    },
    {
     "name": "stdout",
     "output_type": "stream",
     "text": [
      "INPUT:\n",
      "<sos> 不久前 台湾地区 举行 的 选举 是 地方性 选举 . <eos>\n",
      "REF:\n",
      "<sos> the elections held in taiwan not long ago were local elections . <eos>\n",
      "PREDICTION:\n",
      "<sos> elections elections elections elections elections elections elections election election election election election election elections elections election election election . <eos>\n",
      "BLEU = 0.330316\n",
      "------\n"
     ]
    },
    {
     "name": "stderr",
     "output_type": "stream",
     "text": [
      "\r",
      "  4%|▍         | 341/8572 [01:23<36:13,  3.79it/s]"
     ]
    },
    {
     "name": "stdout",
     "output_type": "stream",
     "text": [
      "INPUT:\n",
      "<sos> 祝 尼泊尔 王国 繁荣昌盛 , 人民 和平 幸福 ! <eos>\n",
      "REF:\n",
      "<sos> wish the kingdom of nepal prosperity and its people peace and happiness ! <eos>\n",
      "PREDICTION:\n",
      "<sos> i wish to people people prosperous and and prosperous people will be able to ! <eos>\n",
      "BLEU = 0.400527\n",
      "------\n"
     ]
    },
    {
     "name": "stderr",
     "output_type": "stream",
     "text": [
      "\r",
      "  4%|▍         | 342/8572 [01:23<37:17,  3.68it/s]"
     ]
    },
    {
     "name": "stdout",
     "output_type": "stream",
     "text": [
      "INPUT:\n",
      "<sos> 五 是 整顿 出版物 和 计算机 软件 市场 . <eos>\n",
      "REF:\n",
      "<sos> fifth , we must rectify the market for publications and computer software . <eos>\n",
      "PREDICTION:\n",
      "<sos> fifth fifth , the fifth has necessary up markets and the software markets . <eos>\n",
      "BLEU = 0.562341\n",
      "------\n"
     ]
    },
    {
     "name": "stderr",
     "output_type": "stream",
     "text": [
      "\r",
      "  4%|▍         | 343/8572 [01:23<34:56,  3.93it/s]"
     ]
    },
    {
     "name": "stdout",
     "output_type": "stream",
     "text": [
      "INPUT:\n",
      "<sos> 现在 贫困 人口 主要 集中 在 这些 地区 . <eos>\n",
      "REF:\n",
      "<sos> these are the areas where the poverty - stricken population is mainly grouped today . <eos>\n",
      "PREDICTION:\n",
      "<sos> the current population and population in the region is very solid . <eos>\n",
      "BLEU = 0.357432\n",
      "------\n"
     ]
    },
    {
     "name": "stderr",
     "output_type": "stream",
     "text": [
      "\r",
      "  4%|▍         | 344/8572 [01:23<37:11,  3.69it/s]"
     ]
    },
    {
     "name": "stdout",
     "output_type": "stream",
     "text": [
      "INPUT:\n",
      "<sos> 但是 , 我们 决不 承诺 放弃 使用 武力 . <eos>\n",
      "REF:\n",
      "<sos> but we will absolutely not promise to renounce the use of force . <eos>\n",
      "PREDICTION:\n",
      "<sos> however , we will never promise up our use of force to use up the use of force . <eos>\n",
      "BLEU = 0.272497\n",
      "------\n"
     ]
    },
    {
     "name": "stderr",
     "output_type": "stream",
     "text": [
      "\r",
      "  4%|▍         | 345/8572 [01:24<37:59,  3.61it/s]"
     ]
    },
    {
     "name": "stdout",
     "output_type": "stream",
     "text": [
      "INPUT:\n",
      "<sos> 第三 问题 : 中国 社会主义初级阶段 向 哪里 前进 ? <eos>\n",
      "REF:\n",
      "<sos> question 3 : where is the initial stage of socialism in china headed ? <eos>\n",
      "PREDICTION:\n",
      "<sos> question , what is the crucial the the the of the the chinese the chinese ? <eos>\n",
      "BLEU = 0.511829\n",
      "------\n"
     ]
    },
    {
     "name": "stderr",
     "output_type": "stream",
     "text": [
      "\r",
      "  4%|▍         | 346/8572 [01:24<38:33,  3.56it/s]"
     ]
    },
    {
     "name": "stdout",
     "output_type": "stream",
     "text": [
      "INPUT:\n",
      "<sos> 如何 坚持 和 实现 \" 三 代表 \" ? <eos>\n",
      "REF:\n",
      "<sos> how should we uphold and bring true the \" three represents \" ? <eos>\n",
      "PREDICTION:\n",
      "<sos> how we we we achieve the and and \" three represents ? \" <eos>\n",
      "BLEU = 0.331580\n",
      "------\n"
     ]
    },
    {
     "name": "stderr",
     "output_type": "stream",
     "text": [
      "\r",
      "  4%|▍         | 347/8572 [01:24<35:43,  3.84it/s]"
     ]
    },
    {
     "name": "stdout",
     "output_type": "stream",
     "text": [
      "INPUT:\n",
      "<sos> 经济 方面 更是 俄罗斯 的 \" 软肋 \" . <eos>\n",
      "REF:\n",
      "<sos> the economy in particular is russia 's \" soft rib . \" <eos>\n",
      "PREDICTION:\n",
      "<sos> economic in the economy is russia \" soft rib of \" russia . \" <eos>\n",
      "BLEU = 0.454994\n",
      "------\n"
     ]
    },
    {
     "name": "stderr",
     "output_type": "stream",
     "text": [
      "\r",
      "  4%|▍         | 348/8572 [01:25<37:07,  3.69it/s]"
     ]
    },
    {
     "name": "stdout",
     "output_type": "stream",
     "text": [
      "INPUT:\n",
      "<sos> 何去何从 , 只能 由 日本 人 自己 选择 . <eos>\n",
      "REF:\n",
      "<sos> what course to follow can only be chosen by the japanese themselves . <eos>\n",
      "PREDICTION:\n",
      "<sos> here , only by the people themselves by by themselves . <eos>\n",
      "BLEU = 0.285175\n",
      "------\n"
     ]
    },
    {
     "name": "stderr",
     "output_type": "stream",
     "text": [
      "\r",
      "  4%|▍         | 349/8572 [01:25<37:54,  3.62it/s]"
     ]
    },
    {
     "name": "stdout",
     "output_type": "stream",
     "text": [
      "INPUT:\n",
      "<sos> 国家预算 是 政府 的 基本 财政 收支 计划 . <eos>\n",
      "REF:\n",
      "<sos> the national budget is the government 's basic revenue and expenditure plans . <eos>\n",
      "PREDICTION:\n",
      "<sos> the government is the basic government of the basic fiscal economy . <eos>\n",
      "BLEU = 0.602905\n",
      "------\n"
     ]
    },
    {
     "name": "stderr",
     "output_type": "stream",
     "text": [
      "\r",
      "  4%|▍         | 350/8572 [01:25<35:09,  3.90it/s]"
     ]
    },
    {
     "name": "stdout",
     "output_type": "stream",
     "text": [
      "INPUT:\n",
      "<sos> 《 解放军报 》 今天 报道 了 有关 消息 . <eos>\n",
      "REF:\n",
      "<sos> jiefangjun bao reports the relevant news today . <eos>\n",
      "PREDICTION:\n",
      "<sos> the news today reports carried a report on relevant reports . <eos>\n",
      "BLEU = 0.565912\n",
      "------\n"
     ]
    },
    {
     "name": "stderr",
     "output_type": "stream",
     "text": [
      "\r",
      "  4%|▍         | 351/8572 [01:25<36:59,  3.70it/s]"
     ]
    },
    {
     "name": "stdout",
     "output_type": "stream",
     "text": [
      "INPUT:\n",
      "<sos> -- 努力 提高 经济 工作 的 领导 水平 . <eos>\n",
      "REF:\n",
      "<sos> - - make efforts to improve the standard of leadership over economic work . <eos>\n",
      "PREDICTION:\n",
      "<sos> - - level economic work is to the leadership of the work of economic work . <eos>\n",
      "BLEU = 0.217715\n",
      "------\n"
     ]
    },
    {
     "name": "stderr",
     "output_type": "stream",
     "text": [
      "\r",
      "  4%|▍         | 352/8572 [01:26<38:33,  3.55it/s]"
     ]
    },
    {
     "name": "stdout",
     "output_type": "stream",
     "text": [
      "INPUT:\n",
      "<sos> 中国 共产党 是 爱国 统一战线 的 领导 核心 . <eos>\n",
      "REF:\n",
      "<sos> the communist party of china is the leading core for the patriotic united front . <eos>\n",
      "PREDICTION:\n",
      "<sos> the united front is the front front is the core front of the united front . <eos>\n",
      "BLEU = 0.196727\n",
      "------\n"
     ]
    },
    {
     "name": "stderr",
     "output_type": "stream",
     "text": [
      "\r",
      "  4%|▍         | 353/8572 [01:26<39:08,  3.50it/s]"
     ]
    },
    {
     "name": "stdout",
     "output_type": "stream",
     "text": [
      "INPUT:\n",
      "<sos> \" 他 山 之 石 , <unk> \" . <eos>\n",
      "REF:\n",
      "<sos> \" the rocks of another 's mountain may be used to sharpen our <unk> . \" <eos>\n",
      "PREDICTION:\n",
      "<sos> he said he he \" his \" is not behind . \" <eos>\n",
      "BLEU = 0.195480\n",
      "------\n"
     ]
    },
    {
     "name": "stderr",
     "output_type": "stream",
     "text": [
      "\r",
      "  4%|▍         | 354/8572 [01:26<39:44,  3.45it/s]"
     ]
    },
    {
     "name": "stdout",
     "output_type": "stream",
     "text": [
      "INPUT:\n",
      "<sos> 从严 治 党 必须 严肃 查处 违纪 行为 . <eos>\n",
      "REF:\n",
      "<sos> to administer the party strictly , we must seriously investigate and handle discipline violation behaviors . <eos>\n",
      "PREDICTION:\n",
      "<sos> strictly strictly strictly strictly strictly strictly strictly strictly strictly strictly strictly strictly strictly strictly strictly strictly strictly strictly strictly strictly . <eos>\n",
      "BLEU = 0.298179\n",
      "------\n"
     ]
    },
    {
     "name": "stderr",
     "output_type": "stream",
     "text": [
      "\r",
      "  4%|▍         | 355/8572 [01:27<39:56,  3.43it/s]"
     ]
    },
    {
     "name": "stdout",
     "output_type": "stream",
     "text": [
      "INPUT:\n",
      "<sos> 祝 阁下 身体 健康 ! 中华人民共和国 主席 江泽民 <unk> <eos>\n",
      "REF:\n",
      "<sos> i also wish for your health ! [ signed ] jiang zemin , president of the people 's republic of china [ dated ] 23 july 2001 <eos>\n",
      "PREDICTION:\n",
      "<sos> i wish you excellency president excellency president excellency president excellency 's excellency your excellency 's excellency ! <eos>\n",
      "BLEU = 0.231041\n",
      "------\n"
     ]
    },
    {
     "name": "stderr",
     "output_type": "stream",
     "text": [
      "\r",
      "  4%|▍         | 356/8572 [01:27<40:08,  3.41it/s]"
     ]
    },
    {
     "name": "stdout",
     "output_type": "stream",
     "text": [
      "INPUT:\n",
      "<sos> 南斯拉夫 领导人 的 更迭 是 南 的 内政 . <eos>\n",
      "REF:\n",
      "<sos> the change of the state leader of yugoslavia is an internal affair of the country . <eos>\n",
      "PREDICTION:\n",
      "<sos> the leaders of yugoslavia 's yugoslavia yugoslavia yugoslavia is an internal 's internal . <eos>\n",
      "BLEU = 0.196788\n",
      "------\n"
     ]
    },
    {
     "name": "stderr",
     "output_type": "stream",
     "text": [
      "\r",
      "  4%|▍         | 357/8572 [01:27<40:15,  3.40it/s]"
     ]
    },
    {
     "name": "stdout",
     "output_type": "stream",
     "text": [
      "INPUT:\n",
      "<sos> 再次 是 美国 对华 具体 政策 的 表态 . <eos>\n",
      "REF:\n",
      "<sos> the third trend is the declaration of the us specific policy toward china . <eos>\n",
      "PREDICTION:\n",
      "<sos> once once once the policy of us stance once once specific policy . <eos>\n",
      "BLEU = 0.491499\n",
      "------\n"
     ]
    },
    {
     "name": "stderr",
     "output_type": "stream",
     "text": [
      "\r",
      "  4%|▍         | 358/8572 [01:27<40:13,  3.40it/s]"
     ]
    },
    {
     "name": "stdout",
     "output_type": "stream",
     "text": [
      "INPUT:\n",
      "<sos> 李瑞环 对 同 纳拉亚南 见面 感到 非常 高兴 . <eos>\n",
      "REF:\n",
      "<sos> the host and the guest had a cordial and friendly conversation . <eos>\n",
      "PREDICTION:\n",
      "<sos> li ruihuan ruihuan very pleased to meet with with ruihuan ruihuan . <eos>\n",
      "BLEU = 0.358313\n",
      "------\n"
     ]
    },
    {
     "name": "stderr",
     "output_type": "stream",
     "text": [
      "\r",
      "  4%|▍         | 359/8572 [01:28<37:27,  3.66it/s]"
     ]
    },
    {
     "name": "stdout",
     "output_type": "stream",
     "text": [
      "INPUT:\n",
      "<sos> 他 呼吁 台商 积极 进军 祖国 大陆 市场 . <eos>\n",
      "REF:\n",
      "<sos> he called for taiwan businesses to actively march into the homeland mainland market . <eos>\n",
      "PREDICTION:\n",
      "<sos> he urged the delegation to hold a delegation by the mainland on the mainland market the mainland market . <eos>\n",
      "BLEU = 0.145287\n",
      "------\n"
     ]
    },
    {
     "name": "stderr",
     "output_type": "stream",
     "text": [
      "\r",
      "  4%|▍         | 360/8572 [01:28<37:40,  3.63it/s]"
     ]
    },
    {
     "name": "stdout",
     "output_type": "stream",
     "text": [
      "INPUT:\n",
      "<sos> 他 说 , 中 伊 友谊 历史 久远 . <eos>\n",
      "REF:\n",
      "<sos> he said : chinese - iranian friendship has a long history . <eos>\n",
      "PREDICTION:\n",
      "<sos> he said : history - chinese friendship is very . <eos>\n",
      "BLEU = 0.242486\n",
      "------\n"
     ]
    },
    {
     "name": "stderr",
     "output_type": "stream",
     "text": [
      "\r",
      "  4%|▍         | 361/8572 [01:28<35:47,  3.82it/s]"
     ]
    },
    {
     "name": "stdout",
     "output_type": "stream",
     "text": [
      "INPUT:\n",
      "<sos> 对 农民 收入 和 劳力 就业 的 挑战 . <eos>\n",
      "REF:\n",
      "<sos> the challenge to peasant incomes and the employment of labor . <eos>\n",
      "PREDICTION:\n",
      "<sos> we should practice the employment pressure according to the employment pressure in employment fee fee fee fee practice . <eos>\n",
      "BLEU = 0.427287\n",
      "------\n"
     ]
    },
    {
     "name": "stderr",
     "output_type": "stream",
     "text": [
      "\r",
      "  4%|▍         | 362/8572 [01:28<37:03,  3.69it/s]"
     ]
    },
    {
     "name": "stdout",
     "output_type": "stream",
     "text": [
      "INPUT:\n",
      "<sos> 党 和 人民 政府 历来 十分 关心 老年人 . <eos>\n",
      "REF:\n",
      "<sos> the party and the people 's government have all along shown great concern and care for the aged . <eos>\n",
      "PREDICTION:\n",
      "<sos> the government and the people are very very concerned , and the the very very clear . <eos>\n",
      "BLEU = 0.259227\n",
      "------\n"
     ]
    },
    {
     "name": "stderr",
     "output_type": "stream",
     "text": [
      "\r",
      "  4%|▍         | 363/8572 [01:29<37:36,  3.64it/s]"
     ]
    },
    {
     "name": "stdout",
     "output_type": "stream",
     "text": [
      "INPUT:\n",
      "<sos> 别有用心 : 哪 还有 \" 信 \" 字 可言 <eos>\n",
      "REF:\n",
      "<sos> ulterior motives : where is there any \" trust \" to speak of ? <eos>\n",
      "PREDICTION:\n",
      "<sos> what are you all the \" continuing \" \" no day are all . <eos>\n",
      "BLEU = 0.707107\n",
      "------\n"
     ]
    },
    {
     "name": "stderr",
     "output_type": "stream",
     "text": [
      "  4%|▍         | 365/8572 [01:29<34:55,  3.92it/s]"
     ]
    },
    {
     "name": "stdout",
     "output_type": "stream",
     "text": [
      "INPUT:\n",
      "<sos> \" 九五 \" 期间 , 国内外 大事 不断 . <eos>\n",
      "REF:\n",
      "<sos> during the ninth fyp , a succession of major events continually occurred at home and abroad . <eos>\n",
      "PREDICTION:\n",
      "<sos> during the ninth five - year plan period , major and major major in china major home and the ninth . <eos>\n",
      "BLEU = 0.147282\n",
      "------\n",
      "INPUT:\n",
      "<sos> 这是 在 给 美国 的 华人 社会 丢脸 . <eos>\n",
      "REF:\n",
      "<sos> this is a disgrace to the chinese community in the united states . <eos>\n",
      "PREDICTION:\n",
      "<sos> this is the us chinese chinese society to the united states . <eos>\n",
      "BLEU = 0.372574\n",
      "------\n"
     ]
    },
    {
     "name": "stderr",
     "output_type": "stream",
     "text": [
      "\r",
      "  4%|▍         | 366/8572 [01:30<36:46,  3.72it/s]"
     ]
    },
    {
     "name": "stdout",
     "output_type": "stream",
     "text": [
      "INPUT:\n",
      "<sos> 我们 希望 通过 和平 方式 解决 这个 问题 . <eos>\n",
      "REF:\n",
      "<sos> we hope to solve this issue in a peaceful way . \" <eos>\n",
      "PREDICTION:\n",
      "<sos> we hope through peaceful means to resolve this problem . <eos>\n",
      "BLEU = 0.280869\n",
      "------\n"
     ]
    },
    {
     "name": "stderr",
     "output_type": "stream",
     "text": [
      "\r",
      "  4%|▍         | 367/8572 [01:30<34:05,  4.01it/s]"
     ]
    },
    {
     "name": "stdout",
     "output_type": "stream",
     "text": [
      "INPUT:\n",
      "<sos> 记者 注意到 抗议书 的 封 套近乎 血 红色 . <eos>\n",
      "REF:\n",
      "<sos> reporters noticed that the color of the <unk> to this letter was like blood . <eos>\n",
      "PREDICTION:\n",
      "<sos> reporters reporters on the reporters of the reporters on many reporters . <eos>\n",
      "BLEU = 0.470407\n",
      "------\n"
     ]
    },
    {
     "name": "stderr",
     "output_type": "stream",
     "text": [
      "\r",
      "  4%|▍         | 368/8572 [01:30<36:55,  3.70it/s]"
     ]
    }
   ],
   "source": [
    "from infer_eval import bleu\n",
    "from tqdm import tqdm\n",
    "\n",
    "net.eval()\n",
    "test_range = 8572\n",
    "ave_bleu = 0\n",
    "for test_idx in tqdm(range(test_range)):\n",
    "    input_batches, input_lengths,\\\n",
    "        target_batches, target_lengths = random_batch(src,tgt,test_pairs,1,test_idx)\n",
    "    _, pred = net.inference(input_batches[:,0].reshape(input_lengths[0].item(),1),input_lengths[0].reshape(1))\n",
    "    inp = ' '.join([test_src.idx2w[t] for t in input_batches[:,0].cpu().numpy()])\n",
    "    mt = ' '.join([test_tgt.idx2w[t] for t in pred if t!= PAD_idx])\n",
    "    ref = ' '.join([test_tgt.idx2w[t] for t in target_batches[:,0].cpu().numpy() if t != PAD_idx])\n",
    "    print('INPUT:\\n' + inp)\n",
    "    print('REF:\\n' + ref)\n",
    "    print('PREDICTION:\\n' + mt)\n",
    "    tmp_score = bleu([mt],[[ref]],4)\n",
    "    ave_bleu += tmp_score\n",
    "    print('BLEU = %f' % tmp_score)\n",
    "    print(\"------\")\n",
    "print('Average BLEU = '+str(ave_bleu/test_range))"
   ]
  },
  {
   "cell_type": "markdown",
   "metadata": {},
   "source": [
    "# User Input Translation"
   ]
  },
  {
   "cell_type": "code",
   "execution_count": 25,
   "metadata": {},
   "outputs": [
    {
     "name": "stdout",
     "output_type": "stream",
     "text": [
      "INPUT:\n",
      "<sos> 江泽民 指出 我们 还有 一些 问题 , 大力 发展 国家 经济 . <eos>\n",
      "PREDICTION:\n",
      "<sos> jiang zemin also pointed out that there is a vigorous number of our economic development . <eos>\n"
     ]
    }
   ],
   "source": [
    "inputs = '江泽民 指出 我们 还有 一些 问题 , 大力 发展 国家 经济 .'\n",
    "user_var, user_len = user_input(inputs, src)\n",
    "net.eval()\n",
    "_, pred = net.inference(user_var[:,0].reshape(user_len[0].item(),1),user_len[0].reshape(1))\n",
    "inp = ' '.join([src.idx2w[t] for t in user_var[:,0].cpu().numpy()])\n",
    "mt = ' '.join([tgt.idx2w[t] for t in pred if t!= PAD_idx])\n",
    "print('INPUT:\\n' + inp)\n",
    "print('PREDICTION:\\n' + mt)"
   ]
  },
  {
   "cell_type": "code",
   "execution_count": null,
   "metadata": {},
   "outputs": [],
   "source": []
  },
  {
   "cell_type": "code",
   "execution_count": null,
   "metadata": {},
   "outputs": [],
   "source": []
  }
 ],
 "metadata": {
  "kernelspec": {
   "display_name": "Python 3",
   "language": "python",
   "name": "python3"
  },
  "language_info": {
   "codemirror_mode": {
    "name": "ipython",
    "version": 3
   },
   "file_extension": ".py",
   "mimetype": "text/x-python",
   "name": "python",
   "nbconvert_exporter": "python",
   "pygments_lexer": "ipython3",
   "version": "3.6.6"
  }
 },
 "nbformat": 4,
 "nbformat_minor": 2
}
